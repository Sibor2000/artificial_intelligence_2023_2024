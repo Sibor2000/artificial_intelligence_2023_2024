{
 "cells": [
  {
   "cell_type": "code",
   "execution_count": 4,
   "id": "e62f6702-2927-4ee4-a273-f020bb3300ac",
   "metadata": {},
   "outputs": [],
   "source": [
    "%load_ext autoreload\n",
    "%autoreload 2\n",
    "%matplotlib inline"
   ]
  },
  {
   "cell_type": "code",
   "execution_count": 5,
   "id": "0f370ba0-e99a-457b-b6ad-15a0330182f8",
   "metadata": {},
   "outputs": [],
   "source": [
    "import pandas as pd\n",
    "import numpy as np\n",
    "import matplotlib.pyplot as plt"
   ]
  },
  {
   "cell_type": "markdown",
   "id": "3057d845-ff59-4693-920b-69ea6a61a4f3",
   "metadata": {},
   "source": [
    "<h1> Pandas"
   ]
  },
  {
   "cell_type": "markdown",
   "id": "e60bce8d-f060-4df0-adaa-57c8e55497e8",
   "metadata": {},
   "source": [
    "<h2> Series </h2>"
   ]
  },
  {
   "cell_type": "code",
   "execution_count": 6,
   "id": "9dbc8aa4-d6c5-4601-8c25-843f1859b224",
   "metadata": {},
   "outputs": [
    {
     "data": {
      "text/plain": [
       "0     2\n",
       "1     4\n",
       "2   -12\n",
       "3     0\n",
       "4     2\n",
       "dtype: int64"
      ]
     },
     "execution_count": 6,
     "metadata": {},
     "output_type": "execute_result"
    }
   ],
   "source": [
    "s = pd.Series([2,4,-12,0,2])\n",
    "s"
   ]
  },
  {
   "cell_type": "code",
   "execution_count": 7,
   "id": "290a4641-7c37-4151-af41-ca7d27906d50",
   "metadata": {},
   "outputs": [
    {
     "data": {
      "text/plain": [
       "(5,)"
      ]
     },
     "execution_count": 7,
     "metadata": {},
     "output_type": "execute_result"
    }
   ],
   "source": [
    "s.shape"
   ]
  },
  {
   "cell_type": "code",
   "execution_count": 8,
   "id": "eb948f8d-4697-4ee7-95ce-c2e544675948",
   "metadata": {},
   "outputs": [
    {
     "data": {
      "text/plain": [
       "dtype('int64')"
      ]
     },
     "execution_count": 8,
     "metadata": {},
     "output_type": "execute_result"
    }
   ],
   "source": [
    "s.dtype"
   ]
  },
  {
   "cell_type": "code",
   "execution_count": 9,
   "id": "eb4fde41-e252-4246-a7da-59b81811e817",
   "metadata": {},
   "outputs": [
    {
     "data": {
      "text/plain": [
       "array([  2,   4, -12,   0,   2], dtype=int64)"
      ]
     },
     "execution_count": 9,
     "metadata": {},
     "output_type": "execute_result"
    }
   ],
   "source": [
    "s.values"
   ]
  },
  {
   "cell_type": "code",
   "execution_count": 10,
   "id": "a9579706-a253-4312-b70e-7a9118d38bc7",
   "metadata": {},
   "outputs": [
    {
     "data": {
      "text/plain": [
       "0"
      ]
     },
     "execution_count": 10,
     "metadata": {},
     "output_type": "execute_result"
    }
   ],
   "source": [
    "s[3]"
   ]
  },
  {
   "cell_type": "code",
   "execution_count": 11,
   "id": "cfd701a2-3fb4-4a70-95d4-599be03329b3",
   "metadata": {},
   "outputs": [
    {
     "data": {
      "text/plain": [
       "1     4\n",
       "2   -12\n",
       "dtype: int64"
      ]
     },
     "execution_count": 11,
     "metadata": {},
     "output_type": "execute_result"
    }
   ],
   "source": [
    "s[1:3]"
   ]
  },
  {
   "cell_type": "code",
   "execution_count": 12,
   "id": "7a728618-ad67-4ac8-ae8e-3ca846cf92a0",
   "metadata": {},
   "outputs": [
    {
     "data": {
      "text/plain": [
       "1     4\n",
       "2   -12\n",
       "3     0\n",
       "4     2\n",
       "dtype: int64"
      ]
     },
     "execution_count": 12,
     "metadata": {},
     "output_type": "execute_result"
    }
   ],
   "source": [
    "s[1:]"
   ]
  },
  {
   "cell_type": "code",
   "execution_count": 13,
   "id": "8795df8e-8f3b-4275-8bd2-201eeb771ae2",
   "metadata": {},
   "outputs": [
    {
     "data": {
      "text/plain": [
       "0    2\n",
       "1    4\n",
       "4    2\n",
       "dtype: int64"
      ]
     },
     "execution_count": 13,
     "metadata": {},
     "output_type": "execute_result"
    }
   ],
   "source": [
    "s[[True,True,False,False,True]]"
   ]
  },
  {
   "cell_type": "code",
   "execution_count": 14,
   "id": "8aa1af14-71ac-4e80-8ccd-bc982a420500",
   "metadata": {},
   "outputs": [
    {
     "data": {
      "text/plain": [
       "0     4\n",
       "1     8\n",
       "2   -24\n",
       "3     0\n",
       "4     4\n",
       "dtype: int64"
      ]
     },
     "execution_count": 14,
     "metadata": {},
     "output_type": "execute_result"
    }
   ],
   "source": [
    "s * 2"
   ]
  },
  {
   "cell_type": "code",
   "execution_count": 15,
   "id": "27390c79-46e6-485e-aa51-2431496cd249",
   "metadata": {},
   "outputs": [
    {
     "data": {
      "text/plain": [
       "0     True\n",
       "1     True\n",
       "2    False\n",
       "3    False\n",
       "4     True\n",
       "dtype: bool"
      ]
     },
     "execution_count": 15,
     "metadata": {},
     "output_type": "execute_result"
    }
   ],
   "source": [
    "s > 0"
   ]
  },
  {
   "cell_type": "code",
   "execution_count": 16,
   "id": "bd997055-07c2-428e-9b44-cef27d171011",
   "metadata": {},
   "outputs": [
    {
     "data": {
      "text/plain": [
       "0    2\n",
       "1    4\n",
       "4    2\n",
       "dtype: int64"
      ]
     },
     "execution_count": 16,
     "metadata": {},
     "output_type": "execute_result"
    }
   ],
   "source": [
    "s [s>0]"
   ]
  },
  {
   "cell_type": "code",
   "execution_count": 17,
   "id": "2d2674a2-07f3-42de-bab5-098caa508669",
   "metadata": {},
   "outputs": [
    {
     "data": {
      "text/plain": [
       "-4"
      ]
     },
     "execution_count": 17,
     "metadata": {},
     "output_type": "execute_result"
    }
   ],
   "source": [
    "s.sum()"
   ]
  },
  {
   "cell_type": "code",
   "execution_count": 18,
   "id": "eabc2d12-1ac6-4776-83a0-4eac2feeb372",
   "metadata": {},
   "outputs": [
    {
     "data": {
      "text/plain": [
       "-0.8"
      ]
     },
     "execution_count": 18,
     "metadata": {},
     "output_type": "execute_result"
    }
   ],
   "source": [
    "s.mean()"
   ]
  },
  {
   "cell_type": "code",
   "execution_count": 21,
   "id": "aacf80e1-1d2d-4a3e-a25e-321fe5d90770",
   "metadata": {},
   "outputs": [
    {
     "data": {
      "text/plain": [
       "array([  2,   4, -12,   0], dtype=int64)"
      ]
     },
     "execution_count": 21,
     "metadata": {},
     "output_type": "execute_result"
    }
   ],
   "source": [
    "s.unique() #leaves the uniques elements"
   ]
  },
  {
   "cell_type": "code",
   "execution_count": 22,
   "id": "3c99dc6c-d04f-4c69-8532-d348349eb107",
   "metadata": {},
   "outputs": [
    {
     "data": {
      "text/plain": [
       " 2     2\n",
       " 4     1\n",
       "-12    1\n",
       " 0     1\n",
       "Name: count, dtype: int64"
      ]
     },
     "execution_count": 22,
     "metadata": {},
     "output_type": "execute_result"
    }
   ],
   "source": [
    "s.value_counts()"
   ]
  },
  {
   "cell_type": "code",
   "execution_count": 23,
   "id": "a0125501-11d9-4cf7-b57c-673b910967d0",
   "metadata": {},
   "outputs": [
    {
     "data": {
      "text/plain": [
       "0     2.0\n",
       "1     4.0\n",
       "2   -12.0\n",
       "3     0.0\n",
       "4     2.0\n",
       "dtype: float64"
      ]
     },
     "execution_count": 23,
     "metadata": {},
     "output_type": "execute_result"
    }
   ],
   "source": [
    "s.astype(float)"
   ]
  },
  {
   "cell_type": "markdown",
   "id": "b197ddb8-991e-42d3-b4fb-7e24995c648c",
   "metadata": {},
   "source": [
    "<h1> DataFrame </h1>"
   ]
  },
  {
   "cell_type": "code",
   "execution_count": 25,
   "id": "9caa1ffa-e82c-4a4c-b4b8-75c7495c62a3",
   "metadata": {},
   "outputs": [
    {
     "data": {
      "text/html": [
       "<div>\n",
       "<style scoped>\n",
       "    .dataframe tbody tr th:only-of-type {\n",
       "        vertical-align: middle;\n",
       "    }\n",
       "\n",
       "    .dataframe tbody tr th {\n",
       "        vertical-align: top;\n",
       "    }\n",
       "\n",
       "    .dataframe thead th {\n",
       "        text-align: right;\n",
       "    }\n",
       "</style>\n",
       "<table border=\"1\" class=\"dataframe\">\n",
       "  <thead>\n",
       "    <tr style=\"text-align: right;\">\n",
       "      <th></th>\n",
       "      <th>a</th>\n",
       "      <th>b</th>\n",
       "      <th>c</th>\n",
       "    </tr>\n",
       "  </thead>\n",
       "  <tbody>\n",
       "    <tr>\n",
       "      <th>0</th>\n",
       "      <td>1</td>\n",
       "      <td>4</td>\n",
       "      <td>7</td>\n",
       "    </tr>\n",
       "    <tr>\n",
       "      <th>1</th>\n",
       "      <td>2</td>\n",
       "      <td>5</td>\n",
       "      <td>8</td>\n",
       "    </tr>\n",
       "    <tr>\n",
       "      <th>2</th>\n",
       "      <td>3</td>\n",
       "      <td>6</td>\n",
       "      <td>9</td>\n",
       "    </tr>\n",
       "  </tbody>\n",
       "</table>\n",
       "</div>"
      ],
      "text/plain": [
       "   a  b  c\n",
       "0  1  4  7\n",
       "1  2  5  8\n",
       "2  3  6  9"
      ]
     },
     "execution_count": 25,
     "metadata": {},
     "output_type": "execute_result"
    }
   ],
   "source": [
    "df = pd.DataFrame ({'a' : [1,2,3] , 'b' : [4,5,6], 'c': [7,8,9]})\n",
    "df"
   ]
  },
  {
   "cell_type": "code",
   "execution_count": 29,
   "id": "cbf56c09-f100-42c0-9117-06b150b9f3d8",
   "metadata": {},
   "outputs": [],
   "source": [
    "df = pd.read_csv(\"ai1\\datasets\\dataset_stop_and_searchA.csv\")"
   ]
  },
  {
   "cell_type": "code",
   "execution_count": 30,
   "id": "cc2612ba-9060-4904-a7d1-648c4d419767",
   "metadata": {},
   "outputs": [
    {
     "data": {
      "text/html": [
       "<div>\n",
       "<style scoped>\n",
       "    .dataframe tbody tr th:only-of-type {\n",
       "        vertical-align: middle;\n",
       "    }\n",
       "\n",
       "    .dataframe tbody tr th {\n",
       "        vertical-align: top;\n",
       "    }\n",
       "\n",
       "    .dataframe thead th {\n",
       "        text-align: right;\n",
       "    }\n",
       "</style>\n",
       "<table border=\"1\" class=\"dataframe\">\n",
       "  <thead>\n",
       "    <tr style=\"text-align: right;\">\n",
       "      <th></th>\n",
       "      <th>Gender</th>\n",
       "      <th>Age</th>\n",
       "      <th>Suspect-ethnicity</th>\n",
       "      <th>Officer-ethnicity</th>\n",
       "      <th>Object-of-search</th>\n",
       "      <th>Outcome</th>\n",
       "    </tr>\n",
       "  </thead>\n",
       "  <tbody>\n",
       "    <tr>\n",
       "      <th>0</th>\n",
       "      <td>Male</td>\n",
       "      <td>NaN</td>\n",
       "      <td>Other ethnic group - Not stated</td>\n",
       "      <td>Black</td>\n",
       "      <td>Offensive weapons</td>\n",
       "      <td>A no further action disposal</td>\n",
       "    </tr>\n",
       "    <tr>\n",
       "      <th>1</th>\n",
       "      <td>Male</td>\n",
       "      <td>18-24</td>\n",
       "      <td>Other ethnic group - Not stated</td>\n",
       "      <td>Asian</td>\n",
       "      <td>Controlled drugs</td>\n",
       "      <td>A no further action disposal</td>\n",
       "    </tr>\n",
       "    <tr>\n",
       "      <th>2</th>\n",
       "      <td>Male</td>\n",
       "      <td>18-24</td>\n",
       "      <td>Other ethnic group - Not stated</td>\n",
       "      <td>Asian</td>\n",
       "      <td>Controlled drugs</td>\n",
       "      <td>A no further action disposal</td>\n",
       "    </tr>\n",
       "    <tr>\n",
       "      <th>3</th>\n",
       "      <td>Male</td>\n",
       "      <td>18-24</td>\n",
       "      <td>Other ethnic group - Not stated</td>\n",
       "      <td>Asian</td>\n",
       "      <td>Controlled drugs</td>\n",
       "      <td>Community resolution</td>\n",
       "    </tr>\n",
       "    <tr>\n",
       "      <th>4</th>\n",
       "      <td>Male</td>\n",
       "      <td>18-24</td>\n",
       "      <td>Other ethnic group - Not stated</td>\n",
       "      <td>Asian</td>\n",
       "      <td>Controlled drugs</td>\n",
       "      <td>Community resolution</td>\n",
       "    </tr>\n",
       "    <tr>\n",
       "      <th>5</th>\n",
       "      <td>Male</td>\n",
       "      <td>18-24</td>\n",
       "      <td>Other ethnic group - Not stated</td>\n",
       "      <td>White</td>\n",
       "      <td>Controlled drugs</td>\n",
       "      <td>A no further action disposal</td>\n",
       "    </tr>\n",
       "    <tr>\n",
       "      <th>6</th>\n",
       "      <td>Male</td>\n",
       "      <td>18-24</td>\n",
       "      <td>White - Any other White background</td>\n",
       "      <td>White</td>\n",
       "      <td>Controlled drugs</td>\n",
       "      <td>A no further action disposal</td>\n",
       "    </tr>\n",
       "    <tr>\n",
       "      <th>7</th>\n",
       "      <td>Male</td>\n",
       "      <td>25-34</td>\n",
       "      <td>Asian/Asian British - Indian</td>\n",
       "      <td>Asian</td>\n",
       "      <td>Stolen goods</td>\n",
       "      <td>Arrest</td>\n",
       "    </tr>\n",
       "    <tr>\n",
       "      <th>8</th>\n",
       "      <td>Male</td>\n",
       "      <td>18-24</td>\n",
       "      <td>White - Any other White background</td>\n",
       "      <td>White</td>\n",
       "      <td>Controlled drugs</td>\n",
       "      <td>A no further action disposal</td>\n",
       "    </tr>\n",
       "    <tr>\n",
       "      <th>9</th>\n",
       "      <td>Male</td>\n",
       "      <td>NaN</td>\n",
       "      <td>Other ethnic group - Any other ethnic group</td>\n",
       "      <td>Black</td>\n",
       "      <td>Controlled drugs</td>\n",
       "      <td>A no further action disposal</td>\n",
       "    </tr>\n",
       "    <tr>\n",
       "      <th>10</th>\n",
       "      <td>Male</td>\n",
       "      <td>NaN</td>\n",
       "      <td>White - Any other White background</td>\n",
       "      <td>White</td>\n",
       "      <td>Offensive weapons</td>\n",
       "      <td>A no further action disposal</td>\n",
       "    </tr>\n",
       "    <tr>\n",
       "      <th>11</th>\n",
       "      <td>Female</td>\n",
       "      <td>18-24</td>\n",
       "      <td>Black/African/Caribbean/Black British - Any ot...</td>\n",
       "      <td>Black</td>\n",
       "      <td>Stolen goods</td>\n",
       "      <td>A no further action disposal</td>\n",
       "    </tr>\n",
       "    <tr>\n",
       "      <th>12</th>\n",
       "      <td>Male</td>\n",
       "      <td>10-17</td>\n",
       "      <td>Black/African/Caribbean/Black British - African</td>\n",
       "      <td>Black</td>\n",
       "      <td>Offensive weapons</td>\n",
       "      <td>A no further action disposal</td>\n",
       "    </tr>\n",
       "    <tr>\n",
       "      <th>13</th>\n",
       "      <td>Male</td>\n",
       "      <td>over 34</td>\n",
       "      <td>White - Any other White background</td>\n",
       "      <td>White</td>\n",
       "      <td>Evidence of offences under the Act</td>\n",
       "      <td>A no further action disposal</td>\n",
       "    </tr>\n",
       "    <tr>\n",
       "      <th>14</th>\n",
       "      <td>Male</td>\n",
       "      <td>over 34</td>\n",
       "      <td>White - Any other White background</td>\n",
       "      <td>White</td>\n",
       "      <td>Stolen goods</td>\n",
       "      <td>A no further action disposal</td>\n",
       "    </tr>\n",
       "    <tr>\n",
       "      <th>15</th>\n",
       "      <td>Male</td>\n",
       "      <td>25-34</td>\n",
       "      <td>Black/African/Caribbean/Black British - Caribbean</td>\n",
       "      <td>Black</td>\n",
       "      <td>Offensive weapons</td>\n",
       "      <td>A no further action disposal</td>\n",
       "    </tr>\n",
       "    <tr>\n",
       "      <th>16</th>\n",
       "      <td>Male</td>\n",
       "      <td>25-34</td>\n",
       "      <td>Other ethnic group - Not stated</td>\n",
       "      <td>Asian</td>\n",
       "      <td>Offensive weapons</td>\n",
       "      <td>A no further action disposal</td>\n",
       "    </tr>\n",
       "    <tr>\n",
       "      <th>17</th>\n",
       "      <td>Male</td>\n",
       "      <td>18-24</td>\n",
       "      <td>Black/African/Caribbean/Black British - Caribbean</td>\n",
       "      <td>White</td>\n",
       "      <td>Evidence of offences under the Act</td>\n",
       "      <td>Arrest</td>\n",
       "    </tr>\n",
       "    <tr>\n",
       "      <th>18</th>\n",
       "      <td>Male</td>\n",
       "      <td>25-34</td>\n",
       "      <td>Black/African/Caribbean/Black British - Any ot...</td>\n",
       "      <td>Black</td>\n",
       "      <td>Controlled drugs</td>\n",
       "      <td>A no further action disposal</td>\n",
       "    </tr>\n",
       "    <tr>\n",
       "      <th>19</th>\n",
       "      <td>Male</td>\n",
       "      <td>25-34</td>\n",
       "      <td>Other ethnic group - Not stated</td>\n",
       "      <td>Black</td>\n",
       "      <td>Controlled drugs</td>\n",
       "      <td>A no further action disposal</td>\n",
       "    </tr>\n",
       "    <tr>\n",
       "      <th>20</th>\n",
       "      <td>Male</td>\n",
       "      <td>18-24</td>\n",
       "      <td>Mixed/Multiple ethnic groups - White and Black...</td>\n",
       "      <td>Black</td>\n",
       "      <td>Controlled drugs</td>\n",
       "      <td>A no further action disposal</td>\n",
       "    </tr>\n",
       "    <tr>\n",
       "      <th>21</th>\n",
       "      <td>Male</td>\n",
       "      <td>10-17</td>\n",
       "      <td>Other ethnic group - Not stated</td>\n",
       "      <td>Asian</td>\n",
       "      <td>Controlled drugs</td>\n",
       "      <td>A no further action disposal</td>\n",
       "    </tr>\n",
       "    <tr>\n",
       "      <th>22</th>\n",
       "      <td>Female</td>\n",
       "      <td>18-24</td>\n",
       "      <td>White - English/Welsh/Scottish/Northern Irish/...</td>\n",
       "      <td>Black</td>\n",
       "      <td>Controlled drugs</td>\n",
       "      <td>Community resolution</td>\n",
       "    </tr>\n",
       "    <tr>\n",
       "      <th>23</th>\n",
       "      <td>Male</td>\n",
       "      <td>18-24</td>\n",
       "      <td>Black/African/Caribbean/Black British - African</td>\n",
       "      <td>Black</td>\n",
       "      <td>Controlled drugs</td>\n",
       "      <td>Arrest</td>\n",
       "    </tr>\n",
       "    <tr>\n",
       "      <th>24</th>\n",
       "      <td>Male</td>\n",
       "      <td>25-34</td>\n",
       "      <td>White - English/Welsh/Scottish/Northern Irish/...</td>\n",
       "      <td>White</td>\n",
       "      <td>Evidence of offences under the Act</td>\n",
       "      <td>Arrest</td>\n",
       "    </tr>\n",
       "    <tr>\n",
       "      <th>25</th>\n",
       "      <td>Male</td>\n",
       "      <td>18-24</td>\n",
       "      <td>Black/African/Caribbean/Black British - Caribbean</td>\n",
       "      <td>Black</td>\n",
       "      <td>Controlled drugs</td>\n",
       "      <td>Community resolution</td>\n",
       "    </tr>\n",
       "    <tr>\n",
       "      <th>26</th>\n",
       "      <td>Male</td>\n",
       "      <td>25-34</td>\n",
       "      <td>White - Any other White background</td>\n",
       "      <td>White</td>\n",
       "      <td>Offensive weapons</td>\n",
       "      <td>Arrest</td>\n",
       "    </tr>\n",
       "    <tr>\n",
       "      <th>27</th>\n",
       "      <td>Female</td>\n",
       "      <td>18-24</td>\n",
       "      <td>Asian/Asian British - Any other Asian background</td>\n",
       "      <td>Asian</td>\n",
       "      <td>Controlled drugs</td>\n",
       "      <td>A no further action disposal</td>\n",
       "    </tr>\n",
       "    <tr>\n",
       "      <th>28</th>\n",
       "      <td>Male</td>\n",
       "      <td>18-24</td>\n",
       "      <td>Black/African/Caribbean/Black British - Any ot...</td>\n",
       "      <td>Black</td>\n",
       "      <td>Offensive weapons</td>\n",
       "      <td>Community resolution</td>\n",
       "    </tr>\n",
       "    <tr>\n",
       "      <th>29</th>\n",
       "      <td>Male</td>\n",
       "      <td>18-24</td>\n",
       "      <td>Asian/Asian British - Any other Asian background</td>\n",
       "      <td>Asian</td>\n",
       "      <td>Controlled drugs</td>\n",
       "      <td>A no further action disposal</td>\n",
       "    </tr>\n",
       "    <tr>\n",
       "      <th>30</th>\n",
       "      <td>Male</td>\n",
       "      <td>18-24</td>\n",
       "      <td>Black/African/Caribbean/Black British - Any ot...</td>\n",
       "      <td>Black</td>\n",
       "      <td>Stolen goods</td>\n",
       "      <td>Arrest</td>\n",
       "    </tr>\n",
       "    <tr>\n",
       "      <th>31</th>\n",
       "      <td>Male</td>\n",
       "      <td>25-34</td>\n",
       "      <td>White - Any other White background</td>\n",
       "      <td>White</td>\n",
       "      <td>Stolen goods</td>\n",
       "      <td>Arrest</td>\n",
       "    </tr>\n",
       "    <tr>\n",
       "      <th>32</th>\n",
       "      <td>Male</td>\n",
       "      <td>25-34</td>\n",
       "      <td>Asian/Asian British - Any other Asian background</td>\n",
       "      <td>Asian</td>\n",
       "      <td>Controlled drugs</td>\n",
       "      <td>A no further action disposal</td>\n",
       "    </tr>\n",
       "    <tr>\n",
       "      <th>33</th>\n",
       "      <td>Male</td>\n",
       "      <td>18-24</td>\n",
       "      <td>White - English/Welsh/Scottish/Northern Irish/...</td>\n",
       "      <td>White</td>\n",
       "      <td>Stolen goods</td>\n",
       "      <td>A no further action disposal</td>\n",
       "    </tr>\n",
       "    <tr>\n",
       "      <th>34</th>\n",
       "      <td>Male</td>\n",
       "      <td>10-17</td>\n",
       "      <td>Other ethnic group - Not stated</td>\n",
       "      <td>Black</td>\n",
       "      <td>Controlled drugs</td>\n",
       "      <td>Arrest</td>\n",
       "    </tr>\n",
       "    <tr>\n",
       "      <th>35</th>\n",
       "      <td>Male</td>\n",
       "      <td>18-24</td>\n",
       "      <td>Other ethnic group - Not stated</td>\n",
       "      <td>Black</td>\n",
       "      <td>Offensive weapons</td>\n",
       "      <td>Arrest</td>\n",
       "    </tr>\n",
       "    <tr>\n",
       "      <th>36</th>\n",
       "      <td>Male</td>\n",
       "      <td>NaN</td>\n",
       "      <td>White - English/Welsh/Scottish/Northern Irish/...</td>\n",
       "      <td>White</td>\n",
       "      <td>Controlled drugs</td>\n",
       "      <td>A no further action disposal</td>\n",
       "    </tr>\n",
       "    <tr>\n",
       "      <th>37</th>\n",
       "      <td>Male</td>\n",
       "      <td>18-24</td>\n",
       "      <td>Other ethnic group - Not stated</td>\n",
       "      <td>Other</td>\n",
       "      <td>Controlled drugs</td>\n",
       "      <td>A no further action disposal</td>\n",
       "    </tr>\n",
       "    <tr>\n",
       "      <th>38</th>\n",
       "      <td>Male</td>\n",
       "      <td>18-24</td>\n",
       "      <td>Asian/Asian British - Any other Asian background</td>\n",
       "      <td>Asian</td>\n",
       "      <td>Evidence of offences under the Act</td>\n",
       "      <td>Arrest</td>\n",
       "    </tr>\n",
       "    <tr>\n",
       "      <th>39</th>\n",
       "      <td>Male</td>\n",
       "      <td>18-24</td>\n",
       "      <td>Black/African/Caribbean/Black British - Any ot...</td>\n",
       "      <td>Black</td>\n",
       "      <td>Controlled drugs</td>\n",
       "      <td>Arrest</td>\n",
       "    </tr>\n",
       "  </tbody>\n",
       "</table>\n",
       "</div>"
      ],
      "text/plain": [
       "    Gender      Age                                  Suspect-ethnicity  \\\n",
       "0     Male      NaN                    Other ethnic group - Not stated   \n",
       "1     Male    18-24                    Other ethnic group - Not stated   \n",
       "2     Male    18-24                    Other ethnic group - Not stated   \n",
       "3     Male    18-24                    Other ethnic group - Not stated   \n",
       "4     Male    18-24                    Other ethnic group - Not stated   \n",
       "5     Male    18-24                    Other ethnic group - Not stated   \n",
       "6     Male    18-24                 White - Any other White background   \n",
       "7     Male    25-34                       Asian/Asian British - Indian   \n",
       "8     Male    18-24                 White - Any other White background   \n",
       "9     Male      NaN        Other ethnic group - Any other ethnic group   \n",
       "10    Male      NaN                 White - Any other White background   \n",
       "11  Female    18-24  Black/African/Caribbean/Black British - Any ot...   \n",
       "12    Male    10-17    Black/African/Caribbean/Black British - African   \n",
       "13    Male  over 34                 White - Any other White background   \n",
       "14    Male  over 34                 White - Any other White background   \n",
       "15    Male    25-34  Black/African/Caribbean/Black British - Caribbean   \n",
       "16    Male    25-34                    Other ethnic group - Not stated   \n",
       "17    Male    18-24  Black/African/Caribbean/Black British - Caribbean   \n",
       "18    Male    25-34  Black/African/Caribbean/Black British - Any ot...   \n",
       "19    Male    25-34                    Other ethnic group - Not stated   \n",
       "20    Male    18-24  Mixed/Multiple ethnic groups - White and Black...   \n",
       "21    Male    10-17                    Other ethnic group - Not stated   \n",
       "22  Female    18-24  White - English/Welsh/Scottish/Northern Irish/...   \n",
       "23    Male    18-24    Black/African/Caribbean/Black British - African   \n",
       "24    Male    25-34  White - English/Welsh/Scottish/Northern Irish/...   \n",
       "25    Male    18-24  Black/African/Caribbean/Black British - Caribbean   \n",
       "26    Male    25-34                 White - Any other White background   \n",
       "27  Female    18-24   Asian/Asian British - Any other Asian background   \n",
       "28    Male    18-24  Black/African/Caribbean/Black British - Any ot...   \n",
       "29    Male    18-24   Asian/Asian British - Any other Asian background   \n",
       "30    Male    18-24  Black/African/Caribbean/Black British - Any ot...   \n",
       "31    Male    25-34                 White - Any other White background   \n",
       "32    Male    25-34   Asian/Asian British - Any other Asian background   \n",
       "33    Male    18-24  White - English/Welsh/Scottish/Northern Irish/...   \n",
       "34    Male    10-17                    Other ethnic group - Not stated   \n",
       "35    Male    18-24                    Other ethnic group - Not stated   \n",
       "36    Male      NaN  White - English/Welsh/Scottish/Northern Irish/...   \n",
       "37    Male    18-24                    Other ethnic group - Not stated   \n",
       "38    Male    18-24   Asian/Asian British - Any other Asian background   \n",
       "39    Male    18-24  Black/African/Caribbean/Black British - Any ot...   \n",
       "\n",
       "   Officer-ethnicity                    Object-of-search  \\\n",
       "0              Black                   Offensive weapons   \n",
       "1              Asian                    Controlled drugs   \n",
       "2              Asian                    Controlled drugs   \n",
       "3              Asian                    Controlled drugs   \n",
       "4              Asian                    Controlled drugs   \n",
       "5              White                    Controlled drugs   \n",
       "6              White                    Controlled drugs   \n",
       "7              Asian                        Stolen goods   \n",
       "8              White                    Controlled drugs   \n",
       "9              Black                    Controlled drugs   \n",
       "10             White                   Offensive weapons   \n",
       "11             Black                        Stolen goods   \n",
       "12             Black                   Offensive weapons   \n",
       "13             White  Evidence of offences under the Act   \n",
       "14             White                        Stolen goods   \n",
       "15             Black                   Offensive weapons   \n",
       "16             Asian                   Offensive weapons   \n",
       "17             White  Evidence of offences under the Act   \n",
       "18             Black                    Controlled drugs   \n",
       "19             Black                    Controlled drugs   \n",
       "20             Black                    Controlled drugs   \n",
       "21             Asian                    Controlled drugs   \n",
       "22             Black                    Controlled drugs   \n",
       "23             Black                    Controlled drugs   \n",
       "24             White  Evidence of offences under the Act   \n",
       "25             Black                    Controlled drugs   \n",
       "26             White                   Offensive weapons   \n",
       "27             Asian                    Controlled drugs   \n",
       "28             Black                   Offensive weapons   \n",
       "29             Asian                    Controlled drugs   \n",
       "30             Black                        Stolen goods   \n",
       "31             White                        Stolen goods   \n",
       "32             Asian                    Controlled drugs   \n",
       "33             White                        Stolen goods   \n",
       "34             Black                    Controlled drugs   \n",
       "35             Black                   Offensive weapons   \n",
       "36             White                    Controlled drugs   \n",
       "37             Other                    Controlled drugs   \n",
       "38             Asian  Evidence of offences under the Act   \n",
       "39             Black                    Controlled drugs   \n",
       "\n",
       "                         Outcome  \n",
       "0   A no further action disposal  \n",
       "1   A no further action disposal  \n",
       "2   A no further action disposal  \n",
       "3           Community resolution  \n",
       "4           Community resolution  \n",
       "5   A no further action disposal  \n",
       "6   A no further action disposal  \n",
       "7                         Arrest  \n",
       "8   A no further action disposal  \n",
       "9   A no further action disposal  \n",
       "10  A no further action disposal  \n",
       "11  A no further action disposal  \n",
       "12  A no further action disposal  \n",
       "13  A no further action disposal  \n",
       "14  A no further action disposal  \n",
       "15  A no further action disposal  \n",
       "16  A no further action disposal  \n",
       "17                        Arrest  \n",
       "18  A no further action disposal  \n",
       "19  A no further action disposal  \n",
       "20  A no further action disposal  \n",
       "21  A no further action disposal  \n",
       "22          Community resolution  \n",
       "23                        Arrest  \n",
       "24                        Arrest  \n",
       "25          Community resolution  \n",
       "26                        Arrest  \n",
       "27  A no further action disposal  \n",
       "28          Community resolution  \n",
       "29  A no further action disposal  \n",
       "30                        Arrest  \n",
       "31                        Arrest  \n",
       "32  A no further action disposal  \n",
       "33  A no further action disposal  \n",
       "34                        Arrest  \n",
       "35                        Arrest  \n",
       "36  A no further action disposal  \n",
       "37  A no further action disposal  \n",
       "38                        Arrest  \n",
       "39                        Arrest  "
      ]
     },
     "execution_count": 30,
     "metadata": {},
     "output_type": "execute_result"
    }
   ],
   "source": [
    "df"
   ]
  },
  {
   "cell_type": "code",
   "execution_count": 31,
   "id": "f85bff8b-e993-4a62-a745-e94b95ddf24d",
   "metadata": {},
   "outputs": [
    {
     "data": {
      "text/plain": [
       "Index(['Gender', 'Age', 'Suspect-ethnicity', 'Officer-ethnicity',\n",
       "       'Object-of-search', 'Outcome'],\n",
       "      dtype='object')"
      ]
     },
     "execution_count": 31,
     "metadata": {},
     "output_type": "execute_result"
    }
   ],
   "source": [
    "df.columns"
   ]
  },
  {
   "cell_type": "code",
   "execution_count": 32,
   "id": "60180bdb-b256-44fa-84fe-c5e465c67f7d",
   "metadata": {},
   "outputs": [
    {
     "data": {
      "text/plain": [
       "RangeIndex(start=0, stop=40, step=1)"
      ]
     },
     "execution_count": 32,
     "metadata": {},
     "output_type": "execute_result"
    }
   ],
   "source": [
    "df.index"
   ]
  },
  {
   "cell_type": "code",
   "execution_count": 33,
   "id": "ec60944b-579d-4f75-9b58-4ed58abb83f2",
   "metadata": {},
   "outputs": [
    {
     "data": {
      "text/plain": [
       "(40, 6)"
      ]
     },
     "execution_count": 33,
     "metadata": {},
     "output_type": "execute_result"
    }
   ],
   "source": [
    "df.shape"
   ]
  },
  {
   "cell_type": "code",
   "execution_count": 35,
   "id": "038290f8-1ebd-4146-814c-829cfd97a5c0",
   "metadata": {},
   "outputs": [
    {
     "data": {
      "text/plain": [
       "Gender               object\n",
       "Age                  object\n",
       "Suspect-ethnicity    object\n",
       "Officer-ethnicity    object\n",
       "Object-of-search     object\n",
       "Outcome              object\n",
       "dtype: object"
      ]
     },
     "execution_count": 35,
     "metadata": {},
     "output_type": "execute_result"
    }
   ],
   "source": [
    "df.dtypes"
   ]
  },
  {
   "cell_type": "code",
   "execution_count": 36,
   "id": "41ee97c9-ccec-4dff-a793-1459f98bf9eb",
   "metadata": {},
   "outputs": [
    {
     "name": "stdout",
     "output_type": "stream",
     "text": [
      "<class 'pandas.core.frame.DataFrame'>\n",
      "RangeIndex: 40 entries, 0 to 39\n",
      "Data columns (total 6 columns):\n",
      " #   Column             Non-Null Count  Dtype \n",
      "---  ------             --------------  ----- \n",
      " 0   Gender             40 non-null     object\n",
      " 1   Age                36 non-null     object\n",
      " 2   Suspect-ethnicity  40 non-null     object\n",
      " 3   Officer-ethnicity  40 non-null     object\n",
      " 4   Object-of-search   40 non-null     object\n",
      " 5   Outcome            40 non-null     object\n",
      "dtypes: object(6)\n",
      "memory usage: 2.0+ KB\n"
     ]
    }
   ],
   "source": [
    "df.info()"
   ]
  },
  {
   "cell_type": "code",
   "execution_count": 37,
   "id": "5f62c533-4611-4d62-8901-f987412e7ad6",
   "metadata": {},
   "outputs": [
    {
     "data": {
      "text/html": [
       "<div>\n",
       "<style scoped>\n",
       "    .dataframe tbody tr th:only-of-type {\n",
       "        vertical-align: middle;\n",
       "    }\n",
       "\n",
       "    .dataframe tbody tr th {\n",
       "        vertical-align: top;\n",
       "    }\n",
       "\n",
       "    .dataframe thead th {\n",
       "        text-align: right;\n",
       "    }\n",
       "</style>\n",
       "<table border=\"1\" class=\"dataframe\">\n",
       "  <thead>\n",
       "    <tr style=\"text-align: right;\">\n",
       "      <th></th>\n",
       "      <th>Gender</th>\n",
       "      <th>Age</th>\n",
       "      <th>Suspect-ethnicity</th>\n",
       "      <th>Officer-ethnicity</th>\n",
       "      <th>Object-of-search</th>\n",
       "      <th>Outcome</th>\n",
       "    </tr>\n",
       "  </thead>\n",
       "  <tbody>\n",
       "    <tr>\n",
       "      <th>3</th>\n",
       "      <td>Male</td>\n",
       "      <td>18-24</td>\n",
       "      <td>Other ethnic group - Not stated</td>\n",
       "      <td>Asian</td>\n",
       "      <td>Controlled drugs</td>\n",
       "      <td>Community resolution</td>\n",
       "    </tr>\n",
       "    <tr>\n",
       "      <th>4</th>\n",
       "      <td>Male</td>\n",
       "      <td>18-24</td>\n",
       "      <td>Other ethnic group - Not stated</td>\n",
       "      <td>Asian</td>\n",
       "      <td>Controlled drugs</td>\n",
       "      <td>Community resolution</td>\n",
       "    </tr>\n",
       "  </tbody>\n",
       "</table>\n",
       "</div>"
      ],
      "text/plain": [
       "  Gender    Age                Suspect-ethnicity Officer-ethnicity  \\\n",
       "3   Male  18-24  Other ethnic group - Not stated             Asian   \n",
       "4   Male  18-24  Other ethnic group - Not stated             Asian   \n",
       "\n",
       "   Object-of-search               Outcome  \n",
       "3  Controlled drugs  Community resolution  \n",
       "4  Controlled drugs  Community resolution  "
      ]
     },
     "execution_count": 37,
     "metadata": {},
     "output_type": "execute_result"
    }
   ],
   "source": [
    "df[3:5]"
   ]
  },
  {
   "cell_type": "code",
   "execution_count": 40,
   "id": "c2f5e552-63de-4b6d-b94d-00de21d30e31",
   "metadata": {},
   "outputs": [
    {
     "data": {
      "text/html": [
       "<div>\n",
       "<style scoped>\n",
       "    .dataframe tbody tr th:only-of-type {\n",
       "        vertical-align: middle;\n",
       "    }\n",
       "\n",
       "    .dataframe tbody tr th {\n",
       "        vertical-align: top;\n",
       "    }\n",
       "\n",
       "    .dataframe thead th {\n",
       "        text-align: right;\n",
       "    }\n",
       "</style>\n",
       "<table border=\"1\" class=\"dataframe\">\n",
       "  <thead>\n",
       "    <tr style=\"text-align: right;\">\n",
       "      <th></th>\n",
       "      <th>Gender</th>\n",
       "      <th>Age</th>\n",
       "      <th>Suspect-ethnicity</th>\n",
       "      <th>Officer-ethnicity</th>\n",
       "      <th>Object-of-search</th>\n",
       "      <th>Outcome</th>\n",
       "    </tr>\n",
       "  </thead>\n",
       "  <tbody>\n",
       "    <tr>\n",
       "      <th>3</th>\n",
       "      <td>Male</td>\n",
       "      <td>18-24</td>\n",
       "      <td>Other ethnic group - Not stated</td>\n",
       "      <td>Asian</td>\n",
       "      <td>Controlled drugs</td>\n",
       "      <td>Community resolution</td>\n",
       "    </tr>\n",
       "    <tr>\n",
       "      <th>4</th>\n",
       "      <td>Male</td>\n",
       "      <td>18-24</td>\n",
       "      <td>Other ethnic group - Not stated</td>\n",
       "      <td>Asian</td>\n",
       "      <td>Controlled drugs</td>\n",
       "      <td>Community resolution</td>\n",
       "    </tr>\n",
       "    <tr>\n",
       "      <th>5</th>\n",
       "      <td>Male</td>\n",
       "      <td>18-24</td>\n",
       "      <td>Other ethnic group - Not stated</td>\n",
       "      <td>White</td>\n",
       "      <td>Controlled drugs</td>\n",
       "      <td>A no further action disposal</td>\n",
       "    </tr>\n",
       "  </tbody>\n",
       "</table>\n",
       "</div>"
      ],
      "text/plain": [
       "  Gender    Age                Suspect-ethnicity Officer-ethnicity  \\\n",
       "3   Male  18-24  Other ethnic group - Not stated             Asian   \n",
       "4   Male  18-24  Other ethnic group - Not stated             Asian   \n",
       "5   Male  18-24  Other ethnic group - Not stated             White   \n",
       "\n",
       "   Object-of-search                       Outcome  \n",
       "3  Controlled drugs          Community resolution  \n",
       "4  Controlled drugs          Community resolution  \n",
       "5  Controlled drugs  A no further action disposal  "
      ]
     },
     "execution_count": 40,
     "metadata": {},
     "output_type": "execute_result"
    }
   ],
   "source": [
    "df[3:8][0:3]"
   ]
  },
  {
   "cell_type": "code",
   "execution_count": 41,
   "id": "422a16de-10ae-45a6-ac0a-2ee099ddba60",
   "metadata": {},
   "outputs": [
    {
     "data": {
      "text/html": [
       "<div>\n",
       "<style scoped>\n",
       "    .dataframe tbody tr th:only-of-type {\n",
       "        vertical-align: middle;\n",
       "    }\n",
       "\n",
       "    .dataframe tbody tr th {\n",
       "        vertical-align: top;\n",
       "    }\n",
       "\n",
       "    .dataframe thead th {\n",
       "        text-align: right;\n",
       "    }\n",
       "</style>\n",
       "<table border=\"1\" class=\"dataframe\">\n",
       "  <thead>\n",
       "    <tr style=\"text-align: right;\">\n",
       "      <th></th>\n",
       "      <th>Gender</th>\n",
       "      <th>Age</th>\n",
       "      <th>Suspect-ethnicity</th>\n",
       "      <th>Officer-ethnicity</th>\n",
       "      <th>Object-of-search</th>\n",
       "      <th>Outcome</th>\n",
       "    </tr>\n",
       "  </thead>\n",
       "  <tbody>\n",
       "    <tr>\n",
       "      <th>count</th>\n",
       "      <td>40</td>\n",
       "      <td>36</td>\n",
       "      <td>40</td>\n",
       "      <td>40</td>\n",
       "      <td>40</td>\n",
       "      <td>40</td>\n",
       "    </tr>\n",
       "    <tr>\n",
       "      <th>unique</th>\n",
       "      <td>2</td>\n",
       "      <td>4</td>\n",
       "      <td>10</td>\n",
       "      <td>4</td>\n",
       "      <td>4</td>\n",
       "      <td>3</td>\n",
       "    </tr>\n",
       "    <tr>\n",
       "      <th>top</th>\n",
       "      <td>Male</td>\n",
       "      <td>18-24</td>\n",
       "      <td>Other ethnic group - Not stated</td>\n",
       "      <td>Black</td>\n",
       "      <td>Controlled drugs</td>\n",
       "      <td>A no further action disposal</td>\n",
       "    </tr>\n",
       "    <tr>\n",
       "      <th>freq</th>\n",
       "      <td>37</td>\n",
       "      <td>22</td>\n",
       "      <td>12</td>\n",
       "      <td>16</td>\n",
       "      <td>22</td>\n",
       "      <td>24</td>\n",
       "    </tr>\n",
       "  </tbody>\n",
       "</table>\n",
       "</div>"
      ],
      "text/plain": [
       "       Gender    Age                Suspect-ethnicity Officer-ethnicity  \\\n",
       "count      40     36                               40                40   \n",
       "unique      2      4                               10                 4   \n",
       "top      Male  18-24  Other ethnic group - Not stated             Black   \n",
       "freq       37     22                               12                16   \n",
       "\n",
       "        Object-of-search                       Outcome  \n",
       "count                 40                            40  \n",
       "unique                 4                             3  \n",
       "top     Controlled drugs  A no further action disposal  \n",
       "freq                  22                            24  "
      ]
     },
     "execution_count": 41,
     "metadata": {},
     "output_type": "execute_result"
    }
   ],
   "source": [
    "df.describe(include = \"all\")"
   ]
  },
  {
   "cell_type": "code",
   "execution_count": 43,
   "id": "14f742e8-bfce-45bc-b286-a4a3f0fbbc5b",
   "metadata": {},
   "outputs": [
    {
     "data": {
      "text/plain": [
       "0                       Other ethnic group - Not stated\n",
       "1                       Other ethnic group - Not stated\n",
       "2                       Other ethnic group - Not stated\n",
       "3                       Other ethnic group - Not stated\n",
       "4                       Other ethnic group - Not stated\n",
       "5                       Other ethnic group - Not stated\n",
       "6                    White - Any other White background\n",
       "7                          Asian/Asian British - Indian\n",
       "8                    White - Any other White background\n",
       "9           Other ethnic group - Any other ethnic group\n",
       "10                   White - Any other White background\n",
       "11    Black/African/Caribbean/Black British - Any ot...\n",
       "12      Black/African/Caribbean/Black British - African\n",
       "13                   White - Any other White background\n",
       "14                   White - Any other White background\n",
       "15    Black/African/Caribbean/Black British - Caribbean\n",
       "16                      Other ethnic group - Not stated\n",
       "17    Black/African/Caribbean/Black British - Caribbean\n",
       "18    Black/African/Caribbean/Black British - Any ot...\n",
       "19                      Other ethnic group - Not stated\n",
       "20    Mixed/Multiple ethnic groups - White and Black...\n",
       "21                      Other ethnic group - Not stated\n",
       "22    White - English/Welsh/Scottish/Northern Irish/...\n",
       "23      Black/African/Caribbean/Black British - African\n",
       "24    White - English/Welsh/Scottish/Northern Irish/...\n",
       "25    Black/African/Caribbean/Black British - Caribbean\n",
       "26                   White - Any other White background\n",
       "27     Asian/Asian British - Any other Asian background\n",
       "28    Black/African/Caribbean/Black British - Any ot...\n",
       "29     Asian/Asian British - Any other Asian background\n",
       "30    Black/African/Caribbean/Black British - Any ot...\n",
       "31                   White - Any other White background\n",
       "32     Asian/Asian British - Any other Asian background\n",
       "33    White - English/Welsh/Scottish/Northern Irish/...\n",
       "34                      Other ethnic group - Not stated\n",
       "35                      Other ethnic group - Not stated\n",
       "36    White - English/Welsh/Scottish/Northern Irish/...\n",
       "37                      Other ethnic group - Not stated\n",
       "38     Asian/Asian British - Any other Asian background\n",
       "39    Black/African/Caribbean/Black British - Any ot...\n",
       "Name: Suspect-ethnicity, dtype: object"
      ]
     },
     "execution_count": 43,
     "metadata": {},
     "output_type": "execute_result"
    }
   ],
   "source": [
    "df['Suspect-ethnicity']"
   ]
  },
  {
   "cell_type": "code",
   "execution_count": 44,
   "id": "08029572-0306-4abd-acbb-59adf4d6c5ce",
   "metadata": {},
   "outputs": [
    {
     "data": {
      "text/plain": [
       "Suspect-ethnicity\n",
       "Other ethnic group - Not stated                                                         12\n",
       "White - Any other White background                                                       7\n",
       "Black/African/Caribbean/Black British - Any other Black/African/Caribbean background     5\n",
       "White - English/Welsh/Scottish/Northern Irish/British                                    4\n",
       "Asian/Asian British - Any other Asian background                                         4\n",
       "Black/African/Caribbean/Black British - Caribbean                                        3\n",
       "Black/African/Caribbean/Black British - African                                          2\n",
       "Asian/Asian British - Indian                                                             1\n",
       "Other ethnic group - Any other ethnic group                                              1\n",
       "Mixed/Multiple ethnic groups - White and Black African                                   1\n",
       "Name: count, dtype: int64"
      ]
     },
     "execution_count": 44,
     "metadata": {},
     "output_type": "execute_result"
    }
   ],
   "source": [
    "df['Suspect-ethnicity'].value_counts()"
   ]
  },
  {
   "cell_type": "code",
   "execution_count": 46,
   "id": "9755c0c4-5477-49ae-a437-5ce0697d7e81",
   "metadata": {},
   "outputs": [
    {
     "data": {
      "text/html": [
       "<div>\n",
       "<style scoped>\n",
       "    .dataframe tbody tr th:only-of-type {\n",
       "        vertical-align: middle;\n",
       "    }\n",
       "\n",
       "    .dataframe tbody tr th {\n",
       "        vertical-align: top;\n",
       "    }\n",
       "\n",
       "    .dataframe thead th {\n",
       "        text-align: right;\n",
       "    }\n",
       "</style>\n",
       "<table border=\"1\" class=\"dataframe\">\n",
       "  <thead>\n",
       "    <tr style=\"text-align: right;\">\n",
       "      <th></th>\n",
       "      <th>Suspect-ethnicity</th>\n",
       "      <th>Officer-ethnicity</th>\n",
       "    </tr>\n",
       "  </thead>\n",
       "  <tbody>\n",
       "    <tr>\n",
       "      <th>0</th>\n",
       "      <td>Other ethnic group - Not stated</td>\n",
       "      <td>Black</td>\n",
       "    </tr>\n",
       "    <tr>\n",
       "      <th>1</th>\n",
       "      <td>Other ethnic group - Not stated</td>\n",
       "      <td>Asian</td>\n",
       "    </tr>\n",
       "    <tr>\n",
       "      <th>2</th>\n",
       "      <td>Other ethnic group - Not stated</td>\n",
       "      <td>Asian</td>\n",
       "    </tr>\n",
       "    <tr>\n",
       "      <th>3</th>\n",
       "      <td>Other ethnic group - Not stated</td>\n",
       "      <td>Asian</td>\n",
       "    </tr>\n",
       "    <tr>\n",
       "      <th>4</th>\n",
       "      <td>Other ethnic group - Not stated</td>\n",
       "      <td>Asian</td>\n",
       "    </tr>\n",
       "    <tr>\n",
       "      <th>5</th>\n",
       "      <td>Other ethnic group - Not stated</td>\n",
       "      <td>White</td>\n",
       "    </tr>\n",
       "    <tr>\n",
       "      <th>6</th>\n",
       "      <td>White - Any other White background</td>\n",
       "      <td>White</td>\n",
       "    </tr>\n",
       "    <tr>\n",
       "      <th>7</th>\n",
       "      <td>Asian/Asian British - Indian</td>\n",
       "      <td>Asian</td>\n",
       "    </tr>\n",
       "    <tr>\n",
       "      <th>8</th>\n",
       "      <td>White - Any other White background</td>\n",
       "      <td>White</td>\n",
       "    </tr>\n",
       "    <tr>\n",
       "      <th>9</th>\n",
       "      <td>Other ethnic group - Any other ethnic group</td>\n",
       "      <td>Black</td>\n",
       "    </tr>\n",
       "    <tr>\n",
       "      <th>10</th>\n",
       "      <td>White - Any other White background</td>\n",
       "      <td>White</td>\n",
       "    </tr>\n",
       "    <tr>\n",
       "      <th>11</th>\n",
       "      <td>Black/African/Caribbean/Black British - Any ot...</td>\n",
       "      <td>Black</td>\n",
       "    </tr>\n",
       "    <tr>\n",
       "      <th>12</th>\n",
       "      <td>Black/African/Caribbean/Black British - African</td>\n",
       "      <td>Black</td>\n",
       "    </tr>\n",
       "    <tr>\n",
       "      <th>13</th>\n",
       "      <td>White - Any other White background</td>\n",
       "      <td>White</td>\n",
       "    </tr>\n",
       "    <tr>\n",
       "      <th>14</th>\n",
       "      <td>White - Any other White background</td>\n",
       "      <td>White</td>\n",
       "    </tr>\n",
       "    <tr>\n",
       "      <th>15</th>\n",
       "      <td>Black/African/Caribbean/Black British - Caribbean</td>\n",
       "      <td>Black</td>\n",
       "    </tr>\n",
       "    <tr>\n",
       "      <th>16</th>\n",
       "      <td>Other ethnic group - Not stated</td>\n",
       "      <td>Asian</td>\n",
       "    </tr>\n",
       "    <tr>\n",
       "      <th>17</th>\n",
       "      <td>Black/African/Caribbean/Black British - Caribbean</td>\n",
       "      <td>White</td>\n",
       "    </tr>\n",
       "    <tr>\n",
       "      <th>18</th>\n",
       "      <td>Black/African/Caribbean/Black British - Any ot...</td>\n",
       "      <td>Black</td>\n",
       "    </tr>\n",
       "    <tr>\n",
       "      <th>19</th>\n",
       "      <td>Other ethnic group - Not stated</td>\n",
       "      <td>Black</td>\n",
       "    </tr>\n",
       "    <tr>\n",
       "      <th>20</th>\n",
       "      <td>Mixed/Multiple ethnic groups - White and Black...</td>\n",
       "      <td>Black</td>\n",
       "    </tr>\n",
       "    <tr>\n",
       "      <th>21</th>\n",
       "      <td>Other ethnic group - Not stated</td>\n",
       "      <td>Asian</td>\n",
       "    </tr>\n",
       "    <tr>\n",
       "      <th>22</th>\n",
       "      <td>White - English/Welsh/Scottish/Northern Irish/...</td>\n",
       "      <td>Black</td>\n",
       "    </tr>\n",
       "    <tr>\n",
       "      <th>23</th>\n",
       "      <td>Black/African/Caribbean/Black British - African</td>\n",
       "      <td>Black</td>\n",
       "    </tr>\n",
       "    <tr>\n",
       "      <th>24</th>\n",
       "      <td>White - English/Welsh/Scottish/Northern Irish/...</td>\n",
       "      <td>White</td>\n",
       "    </tr>\n",
       "    <tr>\n",
       "      <th>25</th>\n",
       "      <td>Black/African/Caribbean/Black British - Caribbean</td>\n",
       "      <td>Black</td>\n",
       "    </tr>\n",
       "    <tr>\n",
       "      <th>26</th>\n",
       "      <td>White - Any other White background</td>\n",
       "      <td>White</td>\n",
       "    </tr>\n",
       "    <tr>\n",
       "      <th>27</th>\n",
       "      <td>Asian/Asian British - Any other Asian background</td>\n",
       "      <td>Asian</td>\n",
       "    </tr>\n",
       "    <tr>\n",
       "      <th>28</th>\n",
       "      <td>Black/African/Caribbean/Black British - Any ot...</td>\n",
       "      <td>Black</td>\n",
       "    </tr>\n",
       "    <tr>\n",
       "      <th>29</th>\n",
       "      <td>Asian/Asian British - Any other Asian background</td>\n",
       "      <td>Asian</td>\n",
       "    </tr>\n",
       "    <tr>\n",
       "      <th>30</th>\n",
       "      <td>Black/African/Caribbean/Black British - Any ot...</td>\n",
       "      <td>Black</td>\n",
       "    </tr>\n",
       "    <tr>\n",
       "      <th>31</th>\n",
       "      <td>White - Any other White background</td>\n",
       "      <td>White</td>\n",
       "    </tr>\n",
       "    <tr>\n",
       "      <th>32</th>\n",
       "      <td>Asian/Asian British - Any other Asian background</td>\n",
       "      <td>Asian</td>\n",
       "    </tr>\n",
       "    <tr>\n",
       "      <th>33</th>\n",
       "      <td>White - English/Welsh/Scottish/Northern Irish/...</td>\n",
       "      <td>White</td>\n",
       "    </tr>\n",
       "    <tr>\n",
       "      <th>34</th>\n",
       "      <td>Other ethnic group - Not stated</td>\n",
       "      <td>Black</td>\n",
       "    </tr>\n",
       "    <tr>\n",
       "      <th>35</th>\n",
       "      <td>Other ethnic group - Not stated</td>\n",
       "      <td>Black</td>\n",
       "    </tr>\n",
       "    <tr>\n",
       "      <th>36</th>\n",
       "      <td>White - English/Welsh/Scottish/Northern Irish/...</td>\n",
       "      <td>White</td>\n",
       "    </tr>\n",
       "    <tr>\n",
       "      <th>37</th>\n",
       "      <td>Other ethnic group - Not stated</td>\n",
       "      <td>Other</td>\n",
       "    </tr>\n",
       "    <tr>\n",
       "      <th>38</th>\n",
       "      <td>Asian/Asian British - Any other Asian background</td>\n",
       "      <td>Asian</td>\n",
       "    </tr>\n",
       "    <tr>\n",
       "      <th>39</th>\n",
       "      <td>Black/African/Caribbean/Black British - Any ot...</td>\n",
       "      <td>Black</td>\n",
       "    </tr>\n",
       "  </tbody>\n",
       "</table>\n",
       "</div>"
      ],
      "text/plain": [
       "                                    Suspect-ethnicity Officer-ethnicity\n",
       "0                     Other ethnic group - Not stated             Black\n",
       "1                     Other ethnic group - Not stated             Asian\n",
       "2                     Other ethnic group - Not stated             Asian\n",
       "3                     Other ethnic group - Not stated             Asian\n",
       "4                     Other ethnic group - Not stated             Asian\n",
       "5                     Other ethnic group - Not stated             White\n",
       "6                  White - Any other White background             White\n",
       "7                        Asian/Asian British - Indian             Asian\n",
       "8                  White - Any other White background             White\n",
       "9         Other ethnic group - Any other ethnic group             Black\n",
       "10                 White - Any other White background             White\n",
       "11  Black/African/Caribbean/Black British - Any ot...             Black\n",
       "12    Black/African/Caribbean/Black British - African             Black\n",
       "13                 White - Any other White background             White\n",
       "14                 White - Any other White background             White\n",
       "15  Black/African/Caribbean/Black British - Caribbean             Black\n",
       "16                    Other ethnic group - Not stated             Asian\n",
       "17  Black/African/Caribbean/Black British - Caribbean             White\n",
       "18  Black/African/Caribbean/Black British - Any ot...             Black\n",
       "19                    Other ethnic group - Not stated             Black\n",
       "20  Mixed/Multiple ethnic groups - White and Black...             Black\n",
       "21                    Other ethnic group - Not stated             Asian\n",
       "22  White - English/Welsh/Scottish/Northern Irish/...             Black\n",
       "23    Black/African/Caribbean/Black British - African             Black\n",
       "24  White - English/Welsh/Scottish/Northern Irish/...             White\n",
       "25  Black/African/Caribbean/Black British - Caribbean             Black\n",
       "26                 White - Any other White background             White\n",
       "27   Asian/Asian British - Any other Asian background             Asian\n",
       "28  Black/African/Caribbean/Black British - Any ot...             Black\n",
       "29   Asian/Asian British - Any other Asian background             Asian\n",
       "30  Black/African/Caribbean/Black British - Any ot...             Black\n",
       "31                 White - Any other White background             White\n",
       "32   Asian/Asian British - Any other Asian background             Asian\n",
       "33  White - English/Welsh/Scottish/Northern Irish/...             White\n",
       "34                    Other ethnic group - Not stated             Black\n",
       "35                    Other ethnic group - Not stated             Black\n",
       "36  White - English/Welsh/Scottish/Northern Irish/...             White\n",
       "37                    Other ethnic group - Not stated             Other\n",
       "38   Asian/Asian British - Any other Asian background             Asian\n",
       "39  Black/African/Caribbean/Black British - Any ot...             Black"
      ]
     },
     "execution_count": 46,
     "metadata": {},
     "output_type": "execute_result"
    }
   ],
   "source": [
    "df[['Suspect-ethnicity', 'Officer-ethnicity']]"
   ]
  },
  {
   "cell_type": "code",
   "execution_count": 48,
   "id": "217f145e-06f6-43fa-96ba-eec736971338",
   "metadata": {},
   "outputs": [
    {
     "data": {
      "text/plain": [
       "Gender                                          Male\n",
       "Age                                            18-24\n",
       "Suspect-ethnicity    Other ethnic group - Not stated\n",
       "Officer-ethnicity                              Asian\n",
       "Object-of-search                    Controlled drugs\n",
       "Outcome                         Community resolution\n",
       "Name: 4, dtype: object"
      ]
     },
     "execution_count": 48,
     "metadata": {},
     "output_type": "execute_result"
    }
   ],
   "source": [
    "df.iloc[4]"
   ]
  },
  {
   "cell_type": "code",
   "execution_count": 49,
   "id": "2f495e9e-3264-465f-95d2-030b84b76d91",
   "metadata": {},
   "outputs": [
    {
     "data": {
      "text/plain": [
       "Gender                                          Male\n",
       "Age                                            18-24\n",
       "Suspect-ethnicity    Other ethnic group - Not stated\n",
       "Officer-ethnicity                              Asian\n",
       "Object-of-search                    Controlled drugs\n",
       "Outcome                         Community resolution\n",
       "Name: 4, dtype: object"
      ]
     },
     "execution_count": 49,
     "metadata": {},
     "output_type": "execute_result"
    }
   ],
   "source": [
    "df.loc[4]"
   ]
  },
  {
   "cell_type": "code",
   "execution_count": 52,
   "id": "fdd2b150-2d4b-4a87-a77b-ab12eedaf503",
   "metadata": {},
   "outputs": [
    {
     "data": {
      "text/plain": [
       "0      True\n",
       "1     False\n",
       "2     False\n",
       "3     False\n",
       "4     False\n",
       "5     False\n",
       "6     False\n",
       "7     False\n",
       "8     False\n",
       "9      True\n",
       "10    False\n",
       "11     True\n",
       "12     True\n",
       "13    False\n",
       "14    False\n",
       "15     True\n",
       "16    False\n",
       "17    False\n",
       "18     True\n",
       "19     True\n",
       "20     True\n",
       "21    False\n",
       "22     True\n",
       "23     True\n",
       "24    False\n",
       "25     True\n",
       "26    False\n",
       "27    False\n",
       "28     True\n",
       "29    False\n",
       "30     True\n",
       "31    False\n",
       "32    False\n",
       "33    False\n",
       "34     True\n",
       "35     True\n",
       "36    False\n",
       "37    False\n",
       "38    False\n",
       "39     True\n",
       "Name: Officer-ethnicity, dtype: bool"
      ]
     },
     "execution_count": 52,
     "metadata": {},
     "output_type": "execute_result"
    }
   ],
   "source": [
    "df['Officer-ethnicity'] == 'Black'"
   ]
  },
  {
   "cell_type": "code",
   "execution_count": 56,
   "id": "1055a1ec-17e4-4011-ad96-a5d2583f875f",
   "metadata": {},
   "outputs": [
    {
     "data": {
      "text/html": [
       "<div>\n",
       "<style scoped>\n",
       "    .dataframe tbody tr th:only-of-type {\n",
       "        vertical-align: middle;\n",
       "    }\n",
       "\n",
       "    .dataframe tbody tr th {\n",
       "        vertical-align: top;\n",
       "    }\n",
       "\n",
       "    .dataframe thead th {\n",
       "        text-align: right;\n",
       "    }\n",
       "</style>\n",
       "<table border=\"1\" class=\"dataframe\">\n",
       "  <thead>\n",
       "    <tr style=\"text-align: right;\">\n",
       "      <th></th>\n",
       "      <th>Gender</th>\n",
       "      <th>Age</th>\n",
       "      <th>Suspect-ethnicity</th>\n",
       "      <th>Officer-ethnicity</th>\n",
       "      <th>Object-of-search</th>\n",
       "      <th>Outcome</th>\n",
       "    </tr>\n",
       "  </thead>\n",
       "  <tbody>\n",
       "    <tr>\n",
       "      <th>11</th>\n",
       "      <td>Female</td>\n",
       "      <td>18-24</td>\n",
       "      <td>Black/African/Caribbean/Black British - Any ot...</td>\n",
       "      <td>Black</td>\n",
       "      <td>Stolen goods</td>\n",
       "      <td>A no further action disposal</td>\n",
       "    </tr>\n",
       "    <tr>\n",
       "      <th>30</th>\n",
       "      <td>Male</td>\n",
       "      <td>18-24</td>\n",
       "      <td>Black/African/Caribbean/Black British - Any ot...</td>\n",
       "      <td>Black</td>\n",
       "      <td>Stolen goods</td>\n",
       "      <td>Arrest</td>\n",
       "    </tr>\n",
       "  </tbody>\n",
       "</table>\n",
       "</div>"
      ],
      "text/plain": [
       "    Gender    Age                                  Suspect-ethnicity  \\\n",
       "11  Female  18-24  Black/African/Caribbean/Black British - Any ot...   \n",
       "30    Male  18-24  Black/African/Caribbean/Black British - Any ot...   \n",
       "\n",
       "   Officer-ethnicity Object-of-search                       Outcome  \n",
       "11             Black     Stolen goods  A no further action disposal  \n",
       "30             Black     Stolen goods                        Arrest  "
      ]
     },
     "execution_count": 56,
     "metadata": {},
     "output_type": "execute_result"
    }
   ],
   "source": [
    "df[(df['Officer-ethnicity'] == 'Black') & (df['Object-of-search'] == 'Stolen goods')] "
   ]
  },
  {
   "cell_type": "code",
   "execution_count": 77,
   "id": "ed38ff90-2ec8-4921-ac2e-74841019cc62",
   "metadata": {},
   "outputs": [
    {
     "data": {
      "text/html": [
       "<div>\n",
       "<style scoped>\n",
       "    .dataframe tbody tr th:only-of-type {\n",
       "        vertical-align: middle;\n",
       "    }\n",
       "\n",
       "    .dataframe tbody tr th {\n",
       "        vertical-align: top;\n",
       "    }\n",
       "\n",
       "    .dataframe thead th {\n",
       "        text-align: right;\n",
       "    }\n",
       "</style>\n",
       "<table border=\"1\" class=\"dataframe\">\n",
       "  <thead>\n",
       "    <tr style=\"text-align: right;\">\n",
       "      <th></th>\n",
       "      <th>Gender</th>\n",
       "      <th>Age</th>\n",
       "      <th>Suspect-ethnicity</th>\n",
       "      <th>Officer-ethnicity</th>\n",
       "      <th>Object-of-search</th>\n",
       "      <th>Outcome</th>\n",
       "    </tr>\n",
       "  </thead>\n",
       "  <tbody>\n",
       "    <tr>\n",
       "      <th>11</th>\n",
       "      <td>Female</td>\n",
       "      <td>18-24</td>\n",
       "      <td>Black/African/Caribbean/Black British - Any ot...</td>\n",
       "      <td>Black</td>\n",
       "      <td>Stolen goods</td>\n",
       "      <td>A no further action disposal</td>\n",
       "    </tr>\n",
       "    <tr>\n",
       "      <th>22</th>\n",
       "      <td>Female</td>\n",
       "      <td>18-24</td>\n",
       "      <td>White - English/Welsh/Scottish/Northern Irish/...</td>\n",
       "      <td>Black</td>\n",
       "      <td>Controlled drugs</td>\n",
       "      <td>Community resolution</td>\n",
       "    </tr>\n",
       "    <tr>\n",
       "      <th>27</th>\n",
       "      <td>Female</td>\n",
       "      <td>18-24</td>\n",
       "      <td>Asian/Asian British - Any other Asian background</td>\n",
       "      <td>Asian</td>\n",
       "      <td>Controlled drugs</td>\n",
       "      <td>A no further action disposal</td>\n",
       "    </tr>\n",
       "  </tbody>\n",
       "</table>\n",
       "</div>"
      ],
      "text/plain": [
       "    Gender    Age                                  Suspect-ethnicity  \\\n",
       "11  Female  18-24  Black/African/Caribbean/Black British - Any ot...   \n",
       "22  Female  18-24  White - English/Welsh/Scottish/Northern Irish/...   \n",
       "27  Female  18-24   Asian/Asian British - Any other Asian background   \n",
       "\n",
       "   Officer-ethnicity  Object-of-search                       Outcome  \n",
       "11             Black      Stolen goods  A no further action disposal  \n",
       "22             Black  Controlled drugs          Community resolution  \n",
       "27             Asian  Controlled drugs  A no further action disposal  "
      ]
     },
     "execution_count": 77,
     "metadata": {},
     "output_type": "execute_result"
    }
   ],
   "source": [
    "df2=df[df['Gender'] == 'Female'].copy()\n",
    "df2"
   ]
  },
  {
   "cell_type": "code",
   "execution_count": 70,
   "id": "fa306605-141d-4841-8dc1-5496ccf84129",
   "metadata": {},
   "outputs": [
    {
     "ename": "IndexError",
     "evalue": "single positional indexer is out-of-bounds",
     "output_type": "error",
     "traceback": [
      "\u001b[1;31m---------------------------------------------------------------------------\u001b[0m",
      "\u001b[1;31mIndexError\u001b[0m                                Traceback (most recent call last)",
      "Cell \u001b[1;32mIn[70], line 1\u001b[0m\n\u001b[1;32m----> 1\u001b[0m \u001b[43mdf2\u001b[49m\u001b[38;5;241;43m.\u001b[39;49m\u001b[43miloc\u001b[49m\u001b[43m[\u001b[49m\u001b[38;5;241;43m11\u001b[39;49m\u001b[43m]\u001b[49m \u001b[38;5;66;03m#Select by index\u001b[39;00m\n",
      "File \u001b[1;32mE:\\info\\III-1\\AI\\artificial_intelligence_2023_2024\\venv\\Lib\\site-packages\\pandas\\core\\indexing.py:1153\u001b[0m, in \u001b[0;36m_LocationIndexer.__getitem__\u001b[1;34m(self, key)\u001b[0m\n\u001b[0;32m   1150\u001b[0m axis \u001b[38;5;241m=\u001b[39m \u001b[38;5;28mself\u001b[39m\u001b[38;5;241m.\u001b[39maxis \u001b[38;5;129;01mor\u001b[39;00m \u001b[38;5;241m0\u001b[39m\n\u001b[0;32m   1152\u001b[0m maybe_callable \u001b[38;5;241m=\u001b[39m com\u001b[38;5;241m.\u001b[39mapply_if_callable(key, \u001b[38;5;28mself\u001b[39m\u001b[38;5;241m.\u001b[39mobj)\n\u001b[1;32m-> 1153\u001b[0m \u001b[38;5;28;01mreturn\u001b[39;00m \u001b[38;5;28;43mself\u001b[39;49m\u001b[38;5;241;43m.\u001b[39;49m\u001b[43m_getitem_axis\u001b[49m\u001b[43m(\u001b[49m\u001b[43mmaybe_callable\u001b[49m\u001b[43m,\u001b[49m\u001b[43m \u001b[49m\u001b[43maxis\u001b[49m\u001b[38;5;241;43m=\u001b[39;49m\u001b[43maxis\u001b[49m\u001b[43m)\u001b[49m\n",
      "File \u001b[1;32mE:\\info\\III-1\\AI\\artificial_intelligence_2023_2024\\venv\\Lib\\site-packages\\pandas\\core\\indexing.py:1714\u001b[0m, in \u001b[0;36m_iLocIndexer._getitem_axis\u001b[1;34m(self, key, axis)\u001b[0m\n\u001b[0;32m   1711\u001b[0m     \u001b[38;5;28;01mraise\u001b[39;00m \u001b[38;5;167;01mTypeError\u001b[39;00m(\u001b[38;5;124m\"\u001b[39m\u001b[38;5;124mCannot index by location index with a non-integer key\u001b[39m\u001b[38;5;124m\"\u001b[39m)\n\u001b[0;32m   1713\u001b[0m \u001b[38;5;66;03m# validate the location\u001b[39;00m\n\u001b[1;32m-> 1714\u001b[0m \u001b[38;5;28;43mself\u001b[39;49m\u001b[38;5;241;43m.\u001b[39;49m\u001b[43m_validate_integer\u001b[49m\u001b[43m(\u001b[49m\u001b[43mkey\u001b[49m\u001b[43m,\u001b[49m\u001b[43m \u001b[49m\u001b[43maxis\u001b[49m\u001b[43m)\u001b[49m\n\u001b[0;32m   1716\u001b[0m \u001b[38;5;28;01mreturn\u001b[39;00m \u001b[38;5;28mself\u001b[39m\u001b[38;5;241m.\u001b[39mobj\u001b[38;5;241m.\u001b[39m_ixs(key, axis\u001b[38;5;241m=\u001b[39maxis)\n",
      "File \u001b[1;32mE:\\info\\III-1\\AI\\artificial_intelligence_2023_2024\\venv\\Lib\\site-packages\\pandas\\core\\indexing.py:1647\u001b[0m, in \u001b[0;36m_iLocIndexer._validate_integer\u001b[1;34m(self, key, axis)\u001b[0m\n\u001b[0;32m   1645\u001b[0m len_axis \u001b[38;5;241m=\u001b[39m \u001b[38;5;28mlen\u001b[39m(\u001b[38;5;28mself\u001b[39m\u001b[38;5;241m.\u001b[39mobj\u001b[38;5;241m.\u001b[39m_get_axis(axis))\n\u001b[0;32m   1646\u001b[0m \u001b[38;5;28;01mif\u001b[39;00m key \u001b[38;5;241m>\u001b[39m\u001b[38;5;241m=\u001b[39m len_axis \u001b[38;5;129;01mor\u001b[39;00m key \u001b[38;5;241m<\u001b[39m \u001b[38;5;241m-\u001b[39mlen_axis:\n\u001b[1;32m-> 1647\u001b[0m     \u001b[38;5;28;01mraise\u001b[39;00m \u001b[38;5;167;01mIndexError\u001b[39;00m(\u001b[38;5;124m\"\u001b[39m\u001b[38;5;124msingle positional indexer is out-of-bounds\u001b[39m\u001b[38;5;124m\"\u001b[39m)\n",
      "\u001b[1;31mIndexError\u001b[0m: single positional indexer is out-of-bounds"
     ]
    }
   ],
   "source": [
    "df2.iloc[11] #Select by index"
   ]
  },
  {
   "cell_type": "code",
   "execution_count": 71,
   "id": "2b19ded1-ae1b-4dbd-a8ca-ea0f720f0d83",
   "metadata": {},
   "outputs": [
    {
     "data": {
      "text/plain": [
       "Gender                                                          Female\n",
       "Age                                                              18-24\n",
       "Suspect-ethnicity    Black/African/Caribbean/Black British - Any ot...\n",
       "Officer-ethnicity                                                Black\n",
       "Object-of-search                                          Stolen goods\n",
       "Outcome                                   A no further action disposal\n",
       "Name: 11, dtype: object"
      ]
     },
     "execution_count": 71,
     "metadata": {},
     "output_type": "execute_result"
    }
   ],
   "source": [
    "df2.loc[11] #Select by label"
   ]
  },
  {
   "cell_type": "code",
   "execution_count": 78,
   "id": "6628fb99-077c-4841-8d8c-4515e455be74",
   "metadata": {},
   "outputs": [],
   "source": [
    "df2.reset_index(drop = True, inplace = True)"
   ]
  },
  {
   "cell_type": "code",
   "execution_count": 79,
   "id": "305b8076-2fc1-478f-ad42-a00ce17abc89",
   "metadata": {},
   "outputs": [
    {
     "data": {
      "text/html": [
       "<div>\n",
       "<style scoped>\n",
       "    .dataframe tbody tr th:only-of-type {\n",
       "        vertical-align: middle;\n",
       "    }\n",
       "\n",
       "    .dataframe tbody tr th {\n",
       "        vertical-align: top;\n",
       "    }\n",
       "\n",
       "    .dataframe thead th {\n",
       "        text-align: right;\n",
       "    }\n",
       "</style>\n",
       "<table border=\"1\" class=\"dataframe\">\n",
       "  <thead>\n",
       "    <tr style=\"text-align: right;\">\n",
       "      <th></th>\n",
       "      <th>Gender</th>\n",
       "      <th>Age</th>\n",
       "      <th>Suspect-ethnicity</th>\n",
       "      <th>Officer-ethnicity</th>\n",
       "      <th>Object-of-search</th>\n",
       "      <th>Outcome</th>\n",
       "    </tr>\n",
       "  </thead>\n",
       "  <tbody>\n",
       "    <tr>\n",
       "      <th>0</th>\n",
       "      <td>Female</td>\n",
       "      <td>18-24</td>\n",
       "      <td>Black/African/Caribbean/Black British - Any ot...</td>\n",
       "      <td>Black</td>\n",
       "      <td>Stolen goods</td>\n",
       "      <td>A no further action disposal</td>\n",
       "    </tr>\n",
       "    <tr>\n",
       "      <th>1</th>\n",
       "      <td>Female</td>\n",
       "      <td>18-24</td>\n",
       "      <td>White - English/Welsh/Scottish/Northern Irish/...</td>\n",
       "      <td>Black</td>\n",
       "      <td>Controlled drugs</td>\n",
       "      <td>Community resolution</td>\n",
       "    </tr>\n",
       "    <tr>\n",
       "      <th>2</th>\n",
       "      <td>Female</td>\n",
       "      <td>18-24</td>\n",
       "      <td>Asian/Asian British - Any other Asian background</td>\n",
       "      <td>Asian</td>\n",
       "      <td>Controlled drugs</td>\n",
       "      <td>A no further action disposal</td>\n",
       "    </tr>\n",
       "  </tbody>\n",
       "</table>\n",
       "</div>"
      ],
      "text/plain": [
       "   Gender    Age                                  Suspect-ethnicity  \\\n",
       "0  Female  18-24  Black/African/Caribbean/Black British - Any ot...   \n",
       "1  Female  18-24  White - English/Welsh/Scottish/Northern Irish/...   \n",
       "2  Female  18-24   Asian/Asian British - Any other Asian background   \n",
       "\n",
       "  Officer-ethnicity  Object-of-search                       Outcome  \n",
       "0             Black      Stolen goods  A no further action disposal  \n",
       "1             Black  Controlled drugs          Community resolution  \n",
       "2             Asian  Controlled drugs  A no further action disposal  "
      ]
     },
     "execution_count": 79,
     "metadata": {},
     "output_type": "execute_result"
    }
   ],
   "source": [
    "df2"
   ]
  },
  {
   "cell_type": "code",
   "execution_count": 80,
   "id": "6bd561a4-a3a3-47a9-9ad3-afe5c229995c",
   "metadata": {},
   "outputs": [
    {
     "data": {
      "text/html": [
       "<div>\n",
       "<style scoped>\n",
       "    .dataframe tbody tr th:only-of-type {\n",
       "        vertical-align: middle;\n",
       "    }\n",
       "\n",
       "    .dataframe tbody tr th {\n",
       "        vertical-align: top;\n",
       "    }\n",
       "\n",
       "    .dataframe thead th {\n",
       "        text-align: right;\n",
       "    }\n",
       "</style>\n",
       "<table border=\"1\" class=\"dataframe\">\n",
       "  <thead>\n",
       "    <tr style=\"text-align: right;\">\n",
       "      <th></th>\n",
       "      <th>Gender</th>\n",
       "      <th>Age</th>\n",
       "      <th>Object-of-search</th>\n",
       "      <th>Outcome</th>\n",
       "    </tr>\n",
       "  </thead>\n",
       "  <tbody>\n",
       "    <tr>\n",
       "      <th>0</th>\n",
       "      <td>Female</td>\n",
       "      <td>18-24</td>\n",
       "      <td>Stolen goods</td>\n",
       "      <td>A no further action disposal</td>\n",
       "    </tr>\n",
       "    <tr>\n",
       "      <th>1</th>\n",
       "      <td>Female</td>\n",
       "      <td>18-24</td>\n",
       "      <td>Controlled drugs</td>\n",
       "      <td>Community resolution</td>\n",
       "    </tr>\n",
       "    <tr>\n",
       "      <th>2</th>\n",
       "      <td>Female</td>\n",
       "      <td>18-24</td>\n",
       "      <td>Controlled drugs</td>\n",
       "      <td>A no further action disposal</td>\n",
       "    </tr>\n",
       "  </tbody>\n",
       "</table>\n",
       "</div>"
      ],
      "text/plain": [
       "   Gender    Age  Object-of-search                       Outcome\n",
       "0  Female  18-24      Stolen goods  A no further action disposal\n",
       "1  Female  18-24  Controlled drugs          Community resolution\n",
       "2  Female  18-24  Controlled drugs  A no further action disposal"
      ]
     },
     "execution_count": 80,
     "metadata": {},
     "output_type": "execute_result"
    }
   ],
   "source": [
    "df2 = df2[['Gender','Age','Object-of-search','Outcome']].copy()\n",
    "df2"
   ]
  },
  {
   "cell_type": "code",
   "execution_count": 81,
   "id": "32b3db05-03b7-4e66-a6cd-821445e59256",
   "metadata": {},
   "outputs": [],
   "source": [
    "df2.drop('Age',axis=1,inplace=True)"
   ]
  },
  {
   "cell_type": "code",
   "execution_count": 82,
   "id": "42185a92-5b6a-49a1-a377-dcdf99ad73df",
   "metadata": {},
   "outputs": [
    {
     "data": {
      "text/html": [
       "<div>\n",
       "<style scoped>\n",
       "    .dataframe tbody tr th:only-of-type {\n",
       "        vertical-align: middle;\n",
       "    }\n",
       "\n",
       "    .dataframe tbody tr th {\n",
       "        vertical-align: top;\n",
       "    }\n",
       "\n",
       "    .dataframe thead th {\n",
       "        text-align: right;\n",
       "    }\n",
       "</style>\n",
       "<table border=\"1\" class=\"dataframe\">\n",
       "  <thead>\n",
       "    <tr style=\"text-align: right;\">\n",
       "      <th></th>\n",
       "      <th>Gender</th>\n",
       "      <th>Object-of-search</th>\n",
       "      <th>Outcome</th>\n",
       "    </tr>\n",
       "  </thead>\n",
       "  <tbody>\n",
       "    <tr>\n",
       "      <th>0</th>\n",
       "      <td>Female</td>\n",
       "      <td>Stolen goods</td>\n",
       "      <td>A no further action disposal</td>\n",
       "    </tr>\n",
       "    <tr>\n",
       "      <th>1</th>\n",
       "      <td>Female</td>\n",
       "      <td>Controlled drugs</td>\n",
       "      <td>Community resolution</td>\n",
       "    </tr>\n",
       "    <tr>\n",
       "      <th>2</th>\n",
       "      <td>Female</td>\n",
       "      <td>Controlled drugs</td>\n",
       "      <td>A no further action disposal</td>\n",
       "    </tr>\n",
       "  </tbody>\n",
       "</table>\n",
       "</div>"
      ],
      "text/plain": [
       "   Gender  Object-of-search                       Outcome\n",
       "0  Female      Stolen goods  A no further action disposal\n",
       "1  Female  Controlled drugs          Community resolution\n",
       "2  Female  Controlled drugs  A no further action disposal"
      ]
     },
     "execution_count": 82,
     "metadata": {},
     "output_type": "execute_result"
    }
   ],
   "source": [
    "df2"
   ]
  },
  {
   "cell_type": "markdown",
   "id": "d0ba3bf0-3d00-4e7e-9a68-facc5302c76e",
   "metadata": {},
   "source": [
    "<h1>Exercise</h1>"
   ]
  },
  {
   "cell_type": "markdown",
   "id": "f4988d68-974a-487c-9935-a9ac5b098ad9",
   "metadata": {},
   "source": [
    "<h4>Question: Is the metropolitan police racist?</h4>"
   ]
  },
  {
   "cell_type": "code",
   "execution_count": 85,
   "id": "dfaa6271-a8dd-44bb-8813-1230b2d5678e",
   "metadata": {},
   "outputs": [],
   "source": [
    "df = pd.read_csv(\"ai1\\datasets\\dataset_stop_and_searchB.csv\")"
   ]
  },
  {
   "cell_type": "code",
   "execution_count": 86,
   "id": "10110c97-35c1-4144-a7a5-c6bf87b355b7",
   "metadata": {},
   "outputs": [
    {
     "data": {
      "text/plain": [
       "(169418, 6)"
      ]
     },
     "execution_count": 86,
     "metadata": {},
     "output_type": "execute_result"
    }
   ],
   "source": [
    "df.shape"
   ]
  },
  {
   "cell_type": "code",
   "execution_count": 87,
   "id": "d2391d7b-1e91-46c5-b9e4-ee3b6f311a37",
   "metadata": {},
   "outputs": [
    {
     "data": {
      "text/plain": [
       "Index(['Gender', 'Age', 'Suspect-ethnicity', 'Officer-ethnicity',\n",
       "       'Object-of-search', 'Outcome'],\n",
       "      dtype='object')"
      ]
     },
     "execution_count": 87,
     "metadata": {},
     "output_type": "execute_result"
    }
   ],
   "source": [
    "df.columns"
   ]
  },
  {
   "cell_type": "code",
   "execution_count": 90,
   "id": "7380762f-62fc-47dc-b82f-6b9c91a7a413",
   "metadata": {},
   "outputs": [
    {
     "name": "stdout",
     "output_type": "stream",
     "text": [
      "<class 'pandas.core.frame.DataFrame'>\n",
      "RangeIndex: 169418 entries, 0 to 169417\n",
      "Data columns (total 6 columns):\n",
      " #   Column             Non-Null Count   Dtype \n",
      "---  ------             --------------   ----- \n",
      " 0   Gender             167387 non-null  object\n",
      " 1   Age                154371 non-null  object\n",
      " 2   Suspect-ethnicity  167433 non-null  object\n",
      " 3   Officer-ethnicity  166370 non-null  object\n",
      " 4   Object-of-search   168890 non-null  object\n",
      " 5   Outcome            169418 non-null  object\n",
      "dtypes: object(6)\n",
      "memory usage: 7.8+ MB\n"
     ]
    }
   ],
   "source": [
    "df.info()"
   ]
  },
  {
   "cell_type": "code",
   "execution_count": 94,
   "id": "b958d936-44a6-47bf-8028-af6363757c10",
   "metadata": {},
   "outputs": [
    {
     "data": {
      "text/html": [
       "<div>\n",
       "<style scoped>\n",
       "    .dataframe tbody tr th:only-of-type {\n",
       "        vertical-align: middle;\n",
       "    }\n",
       "\n",
       "    .dataframe tbody tr th {\n",
       "        vertical-align: top;\n",
       "    }\n",
       "\n",
       "    .dataframe thead th {\n",
       "        text-align: right;\n",
       "    }\n",
       "</style>\n",
       "<table border=\"1\" class=\"dataframe\">\n",
       "  <thead>\n",
       "    <tr style=\"text-align: right;\">\n",
       "      <th></th>\n",
       "      <th>Gender</th>\n",
       "      <th>Age</th>\n",
       "      <th>Suspect-ethnicity</th>\n",
       "      <th>Officer-ethnicity</th>\n",
       "      <th>Object-of-search</th>\n",
       "      <th>Outcome</th>\n",
       "    </tr>\n",
       "  </thead>\n",
       "  <tbody>\n",
       "    <tr>\n",
       "      <th>count</th>\n",
       "      <td>167387</td>\n",
       "      <td>154371</td>\n",
       "      <td>167433</td>\n",
       "      <td>166370</td>\n",
       "      <td>168890</td>\n",
       "      <td>169418</td>\n",
       "    </tr>\n",
       "    <tr>\n",
       "      <th>unique</th>\n",
       "      <td>3</td>\n",
       "      <td>5</td>\n",
       "      <td>17</td>\n",
       "      <td>4</td>\n",
       "      <td>8</td>\n",
       "      <td>7</td>\n",
       "    </tr>\n",
       "    <tr>\n",
       "      <th>top</th>\n",
       "      <td>Male</td>\n",
       "      <td>18-24</td>\n",
       "      <td>White - English/Welsh/Scottish/Northern Irish/...</td>\n",
       "      <td>Black</td>\n",
       "      <td>Controlled drugs</td>\n",
       "      <td>A no further action disposal</td>\n",
       "    </tr>\n",
       "    <tr>\n",
       "      <th>freq</th>\n",
       "      <td>156580</td>\n",
       "      <td>60252</td>\n",
       "      <td>30536</td>\n",
       "      <td>69333</td>\n",
       "      <td>95770</td>\n",
       "      <td>125814</td>\n",
       "    </tr>\n",
       "  </tbody>\n",
       "</table>\n",
       "</div>"
      ],
      "text/plain": [
       "        Gender     Age                                  Suspect-ethnicity  \\\n",
       "count   167387  154371                                             167433   \n",
       "unique       3       5                                                 17   \n",
       "top       Male   18-24  White - English/Welsh/Scottish/Northern Irish/...   \n",
       "freq    156580   60252                                              30536   \n",
       "\n",
       "       Officer-ethnicity  Object-of-search                       Outcome  \n",
       "count             166370            168890                        169418  \n",
       "unique                 4                 8                             7  \n",
       "top                Black  Controlled drugs  A no further action disposal  \n",
       "freq               69333             95770                        125814  "
      ]
     },
     "execution_count": 94,
     "metadata": {},
     "output_type": "execute_result"
    }
   ],
   "source": [
    "df.describe(include = 'all')"
   ]
  },
  {
   "cell_type": "code",
   "execution_count": 95,
   "id": "be22a7d0-2f35-4a37-9315-1e89a1656dfb",
   "metadata": {},
   "outputs": [
    {
     "data": {
      "text/plain": [
       "Suspect-ethnicity\n",
       "White - English/Welsh/Scottish/Northern Irish/British                                   30536\n",
       "Other ethnic group - Not stated                                                         29142\n",
       "Black/African/Caribbean/Black British - Any other Black/African/Caribbean background    22094\n",
       "White - Any other White background                                                      19948\n",
       "Black/African/Caribbean/Black British - African                                         16730\n",
       "Black/African/Caribbean/Black British - Caribbean                                       11876\n",
       "Asian/Asian British - Any other Asian background                                        11082\n",
       "Asian/Asian British - Bangladeshi                                                        7734\n",
       "Other ethnic group - Any other ethnic group                                              4503\n",
       "Mixed/Multiple ethnic groups - Any other Mixed/Multiple ethnic background                3105\n",
       "Asian/Asian British - Pakistani                                                          3075\n",
       "Asian/Asian British - Indian                                                             2704\n",
       "Mixed/Multiple ethnic groups - White and Black Caribbean                                 2008\n",
       "White - Irish                                                                            1555\n",
       "Mixed/Multiple ethnic groups - White and Black African                                    653\n",
       "Mixed/Multiple ethnic groups - White and Asian                                            412\n",
       "Asian/Asian British - Chinese                                                             276\n",
       "Name: count, dtype: int64"
      ]
     },
     "execution_count": 95,
     "metadata": {},
     "output_type": "execute_result"
    }
   ],
   "source": [
    "df['Suspect-ethnicity'].value_counts()"
   ]
  },
  {
   "cell_type": "code",
   "execution_count": 99,
   "id": "5fa40e6c-dbc5-4571-bb99-f81581a019e6",
   "metadata": {},
   "outputs": [
    {
     "data": {
      "text/plain": [
       "Suspect-ethnicity                                                                     Officer-ethnicity\n",
       "White - English/Welsh/Scottish/Northern Irish/British                                 White                29764\n",
       "Black/African/Caribbean/Black British - Any other Black/African/Caribbean background  Black                21675\n",
       "White - Any other White background                                                    White                19168\n",
       "Black/African/Caribbean/Black British - African                                       Black                16286\n",
       "Other ethnic group - Not stated                                                       Black                14595\n",
       "                                                                                                           ...  \n",
       "Asian/Asian British - Chinese                                                         White                   13\n",
       "Black/African/Caribbean/Black British - Caribbean                                     Other                    9\n",
       "Asian/Asian British - Chinese                                                         Other                    5\n",
       "White - Irish                                                                         Asian                    2\n",
       "                                                                                      Other                    1\n",
       "Name: count, Length: 68, dtype: int64"
      ]
     },
     "execution_count": 99,
     "metadata": {},
     "output_type": "execute_result"
    }
   ],
   "source": [
    "df[['Suspect-ethnicity','Officer-ethnicity']].value_counts()"
   ]
  },
  {
   "cell_type": "code",
   "execution_count": 105,
   "id": "60978588-0be0-4af6-8232-76eb59eafc1d",
   "metadata": {},
   "outputs": [
    {
     "data": {
      "text/plain": [
       "Suspect-ethnicity                                                                     Officer-ethnicity\n",
       "White - English/Welsh/Scottish/Northern Irish/British                                 White                8.784191\n",
       "Black/African/Caribbean/Black British - Any other Black/African/Caribbean background  Black                6.396900\n",
       "White - Any other White background                                                    White                5.657014\n",
       "Black/African/Caribbean/Black British - African                                       Black                4.806455\n",
       "Other ethnic group - Not stated                                                       Black                4.307394\n",
       "                                                                                                             ...   \n",
       "Asian/Asian British - Chinese                                                         White                0.003837\n",
       "Black/African/Caribbean/Black British - Caribbean                                     Other                0.002656\n",
       "Asian/Asian British - Chinese                                                         Other                0.001476\n",
       "White - Irish                                                                         Asian                0.000590\n",
       "                                                                                      Other                0.000295\n",
       "Name: count, Length: 68, dtype: float64"
      ]
     },
     "execution_count": 105,
     "metadata": {},
     "output_type": "execute_result"
    }
   ],
   "source": [
    "(df[['Suspect-ethnicity','Officer-ethnicity']].value_counts()/df[['Suspect-ethnicity','Officer-ethnicity']].size)*100"
   ]
  },
  {
   "cell_type": "code",
   "execution_count": null,
   "id": "13e75c8c-7fc1-4ade-a7bd-0a2e58308f1d",
   "metadata": {},
   "outputs": [],
   "source": []
  }
 ],
 "metadata": {
  "kernelspec": {
   "display_name": "Python 3 (ipykernel)",
   "language": "python",
   "name": "python3"
  },
  "language_info": {
   "codemirror_mode": {
    "name": "ipython",
    "version": 3
   },
   "file_extension": ".py",
   "mimetype": "text/x-python",
   "name": "python",
   "nbconvert_exporter": "python",
   "pygments_lexer": "ipython3",
   "version": "3.11.5"
  }
 },
 "nbformat": 4,
 "nbformat_minor": 5
}
