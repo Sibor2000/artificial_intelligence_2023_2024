{
 "cells": [
  {
   "cell_type": "markdown",
   "metadata": {
    "slideshow": {
     "slide_type": "slide"
    }
   },
   "source": [
    "<h1>CS4618: Artificial Intelligence I</h1>\n",
    "<h1>Overfitting and Underfitting</h1>\n",
    "<h2>\n",
    "    Derek Bridge<br>\n",
    "    School of Computer Science and Information Technology<br>\n",
    "    University College Cork\n",
    "</h2>"
   ]
  },
  {
   "cell_type": "markdown",
   "metadata": {
    "slideshow": {
     "slide_type": "skip"
    }
   },
   "source": [
    "<h1>Initialization</h1>\n",
    "$\\newcommand{\\Set}[1]{\\{#1\\}}$ \n",
    "$\\newcommand{\\Tuple}[1]{\\langle#1\\rangle}$ \n",
    "$\\newcommand{\\v}[1]{\\pmb{#1}}$ \n",
    "$\\newcommand{\\cv}[1]{\\begin{bmatrix}#1\\end{bmatrix}}$ \n",
    "$\\newcommand{\\rv}[1]{[#1]}$ \n",
    "$\\DeclareMathOperator{\\argmax}{arg\\,max}$ \n",
    "$\\DeclareMathOperator{\\argmin}{arg\\,min}$ \n",
    "$\\DeclareMathOperator{\\dist}{dist}$\n",
    "$\\DeclareMathOperator{\\abs}{abs}$"
   ]
  },
  {
   "cell_type": "code",
   "execution_count": 135,
   "metadata": {
    "slideshow": {
     "slide_type": "skip"
    }
   },
   "outputs": [
    {
     "name": "stdout",
     "output_type": "stream",
     "text": [
      "The autoreload extension is already loaded. To reload it, use:\n",
      "  %reload_ext autoreload\n"
     ]
    }
   ],
   "source": [
    "%load_ext autoreload\n",
    "%autoreload 2\n",
    "%matplotlib inline"
   ]
  },
  {
   "cell_type": "code",
   "execution_count": 136,
   "metadata": {},
   "outputs": [],
   "source": [
    "import pandas as pd\n",
    "import numpy as np\n",
    "import matplotlib.pyplot as plt\n",
    "\n",
    "from sklearn.pipeline import Pipeline\n",
    "\n",
    "from sklearn.linear_model import LinearRegression\n",
    "from sklearn.neighbors import KNeighborsRegressor\n",
    "\n",
    "from sklearn.preprocessing import PolynomialFeatures\n",
    "\n",
    "from sklearn.model_selection import cross_val_score\n",
    "from sklearn.model_selection import cross_validate\n",
    "from sklearn.model_selection import validation_curve\n",
    "from sklearn.model_selection import learning_curve"
   ]
  },
  {
   "cell_type": "markdown",
   "metadata": {},
   "source": [
    "<h1>Acknowledgements</h1>\n",
    "<ul>\n",
    "    <li>The book was helpful in the preparation of this lecture: A. G&eacute;ron: <i>Hands-On Machine Learning with Scikit-Learn, Keras &amp;\n",
    "        TensorFlow (2nd edn)</i>, O'Reilly, 2019\n",
    "    </li>\n",
    "    <li>I based some of this notebook on some resources from Jake VanderPlas \n",
    "        (<a href=\"http://www.astroml.org/\">http://www.astroml.org/</a>)\n",
    "    </li>\n",
    "</ul>"
   ]
  },
  {
   "cell_type": "markdown",
   "metadata": {},
   "source": [
    "<h1>Non-Linearity</h1>\n",
    "<ul>\n",
    "    <li>What if the <em>true</em> relationship between the features and the target values is non-linear?</li>\n",
    "    <li>A linear model may not be good enough:\n",
    "        <ul>\n",
    "            <li>The test error may be too high</li>\n",
    "            <li>Even the training error may be too high!</li>\n",
    "        </ul>\n",
    "    </li>\n",
    "    <li>What we need is a more <b>complex</b> model.\n",
    "        <ul>\n",
    "            <li>Roughly, a model is more complex if it has more parameters.</li>\n",
    "            <li>E.g. quadratic functions for a dataset with just three features ($\\v{x}_1$, $\\v{x}_2$ and $\\v{x}_3$):\n",
    "                $$\\v{\\beta}_0 + \\v{\\beta}_1\\v{x}_1 + \\v{\\beta}_2\\v{x}_2 + \\v{\\beta}_3\\v{x}_3 +\n",
    "                  \\v{\\beta}_4\\v{x}_1^2 + \\v{\\beta}_5\\v{x}_2^2 + \\v{\\beta}_6\\v{x}_3^2 +\n",
    "                  \\v{\\beta}_7\\v{x}_1\\v{x}_2 + \\v{\\beta}_8\\v{x}_1\\v{x}_3 + \\v{\\beta}_9\\v{x}_2\\v{x}_3$$\n",
    "            </li>\n",
    "            <li>What would cubic functions look like (again in the case where there are just three features)?</li>\n",
    "        </ul>\n",
    "    </li>\n",
    "</ul>"
   ]
  },
  {
   "cell_type": "markdown",
   "metadata": {},
   "source": [
    "<h1>Polynomial Regression</h1>\n",
    "<ul>\n",
    "    <li>There are learning algorithms for non-linear models (including neural networks, see later).\n",
    "    </li>\n",
    "    <li>But there's a really neat trick for using a <em>linear model</em> to get some of the same effect!\n",
    "        <ul>\n",
    "            <li>We add extra features to our dataset.\n",
    "                <ul>\n",
    "                    <li>Some of the new features will be powers of the original features, e.g. a new feature \n",
    "                        $\\v{x}_4 = \\v{x}_1^2$.\n",
    "                    </li>\n",
    "                    <li>Others will be products of the original features, e.g. a new feature \n",
    "                        $\\v{x}_7 = \\v{x}_1\\v{x}_2$ (these are often called <b>interaction features</b>).\n",
    "                    </li>\n",
    "                </ul>\n",
    "            </li>\n",
    "            <li>Then learn a <em>linear model</em> on the new dataset.</li>\n",
    "        </ul>\n",
    "        This is called <b>Polynomial Regression</b>.\n",
    "    </li>\n",
    "    <li>E.g. \n",
    "        <ul>\n",
    "            <li>We want to learn models of this form:\n",
    "               $$\\v{\\beta}_0 + \\v{\\beta}_1\\v{x}_1 + \\v{\\beta}_2\\v{x}_2 + \\v{\\beta}_3\\v{x}_3 +\n",
    "                  \\v{\\beta}_4\\v{x}_1^2 + \\v{\\beta}_5\\v{x}_2^2 + \\v{\\beta}_6\\v{x}_3^2 +\n",
    "                  \\v{\\beta}_7\\v{x}_1\\v{x}_2 + \\v{\\beta}_8\\v{x}_1\\v{x}_3 + \\v{\\beta}_9\\v{x}_2\\v{x}_3$$\n",
    "            </li>\n",
    "            <li>But instead we learn linear models of this form:\n",
    "                $$\\v{\\beta}_0 + \\v{\\beta}_1\\v{x}_1 + \\v{\\beta}_2\\v{x}_2 + \\v{\\beta}_3\\v{x}_3 +\n",
    "                  \\v{\\beta}_4\\v{x}_4 + \\v{\\beta}_5\\v{x}_5 + \\v{\\beta}_6\\v{x}_6 +\n",
    "                  \\v{\\beta}_7\\v{x}_7 + \\v{\\beta}_8\\v{x}_8 + \\v{\\beta}_9\\v{x}_9$$\n",
    "                  but where \n",
    "                  $$\\v{x}_4 = \\v{x}_1^2$$\n",
    "                  $$\\v{x}_5 = \\v{x}_2^2$$\n",
    "                  $$\\v{x}_6 = \\v{x}_3^2$$\n",
    "                  $$\\v{x}_7 = \\v{x}_1\\v{x}_2$$\n",
    "                  $$\\v{x}_8 = \\v{x}_1\\v{x}_3$$\n",
    "                  $$\\v{x}_9 = \\v{x}_2\\v{x}_3$$\n",
    "              </li>\n",
    "          </ul>\n",
    "      </li>\n",
    "</ul>"
   ]
  },
  {
   "cell_type": "markdown",
   "metadata": {},
   "source": [
    "<h2>Polynomial Regression in scikit-learn</h2>\n",
    "<ul>\n",
    "    <li>There's a class called <code>PolynomialFeatures</code>.</li>\n",
    "    <li>We simply include it in our pipeline.</li>\n",
    "</ul>"
   ]
  },
  {
   "cell_type": "code",
   "execution_count": 137,
   "metadata": {},
   "outputs": [],
   "source": [
    "# Use pandas to read the CSV file into a DataFrame\n",
    "df = pd.read_csv(\"../datasets/dataset_corkA.csv\")\n",
    "\n",
    "# Shuffle the dataset\n",
    "df = df.sample(frac=1, random_state=2)\n",
    "df.reset_index(drop=True, inplace=True)\n",
    "\n",
    "# The features we want to select\n",
    "features = [\"flarea\", \"bdrms\", \"bthrms\"]\n",
    "\n",
    "# Extract the features but leave as a DataFrame\n",
    "X = df[features]\n",
    "\n",
    "# Target values, converted to a 1D numpy array\n",
    "y = df[\"price\"].values"
   ]
  },
  {
   "cell_type": "code",
   "execution_count": 138,
   "metadata": {},
   "outputs": [],
   "source": [
    "linear_model = LinearRegression()"
   ]
  },
  {
   "cell_type": "code",
   "execution_count": 139,
   "metadata": {},
   "outputs": [],
   "source": [
    "quadratic_model = Pipeline([\n",
    "    (\"poly\", PolynomialFeatures(degree=2, include_bias=False)),\n",
    "    (\"predictor\", LinearRegression())\n",
    "])"
   ]
  },
  {
   "cell_type": "markdown",
   "metadata": {},
   "source": [
    "<ul>\n",
    "    <li>To keep the code concise, we won't do validation sets, etc.: just k-fold cross-validation on the \n",
    "        whole dataset.\n",
    "    </li>\n",
    "</ul>"
   ]
  },
  {
   "cell_type": "code",
   "execution_count": 140,
   "metadata": {},
   "outputs": [
    {
     "data": {
      "text/plain": [
       "-60.79942430798836"
      ]
     },
     "execution_count": 140,
     "metadata": {},
     "output_type": "execute_result"
    }
   ],
   "source": [
    "# Error estimation for the linear model.\n",
    "np.mean(cross_val_score(linear_model, X, y, scoring=\"neg_mean_absolute_error\", cv=10))"
   ]
  },
  {
   "cell_type": "code",
   "execution_count": 141,
   "metadata": {},
   "outputs": [
    {
     "data": {
      "text/plain": [
       "-62.03610820508859"
      ]
     },
     "execution_count": 141,
     "metadata": {},
     "output_type": "execute_result"
    }
   ],
   "source": [
    "# Error estimation for the quadratic model.\n",
    "np.mean(cross_val_score(quadratic_model, X, y, scoring=\"neg_mean_absolute_error\", cv=10))"
   ]
  },
  {
   "cell_type": "markdown",
   "metadata": {},
   "source": [
    "<ul>\n",
    "    <li>Polynomial Regression gives a combinatorial explosion in the number of features.\n",
    "        <ul>\n",
    "            <li><code>PolynomialFeatures(degree=d, include_bias=False)</code> transforms a dataset that had \n",
    "                $n$ features into one that has $\\frac{(n+d)!}{d!n!}$ features.\n",
    "            </li>\n",
    "        </ul>\n",
    "    </li>\n",
    "    <li>Surprisingly, as we have just seen, using a more complex model does not necessarily lead to lower error.\n",
    "        This is what we discuss for the rest of this lecture.\n",
    "    </li>\n",
    "</ul>"
   ]
  },
  {
   "cell_type": "markdown",
   "metadata": {
    "slideshow": {
     "slide_type": "slide"
    }
   },
   "source": [
    "<h1>Underfitting and Overfitting: Definitions</h1>\n",
    "<ul>\n",
    "    <li>To illustrate the concepts, we will use an artificial dataset.\n",
    "        <ul>\n",
    "            <li>So that we can plot things in 2D, the dataset will have just one feature: \n",
    "                a numeric-valued feature whose values range from 0 to 1.\n",
    "            </li>\n",
    "            <li>The target will also be numeric-valued and will be a non-linear function of the feature.\n",
    "            </li>\n",
    "            <li>But we'll add a bit of noise to the dataset too.</li>\n",
    "        </ul>\n",
    "    </li>\n",
    "</ul>"
   ]
  },
  {
   "cell_type": "code",
   "execution_count": 142,
   "metadata": {},
   "outputs": [],
   "source": [
    "# Functions for creating the dataset\n",
    "\n",
    "def make_dataset(m, func, error):\n",
    "    X = np.random.random(m)\n",
    "    y = func(X, error)\n",
    "    return X.reshape(m, 1), y\n",
    "\n",
    "def f(x, error = 1.0):\n",
    "    y = 10 - 1 / (x + 0.1)\n",
    "    if error > 0:\n",
    "        y = np.random.normal(y, error)\n",
    "    return y"
   ]
  },
  {
   "cell_type": "code",
   "execution_count": 143,
   "metadata": {},
   "outputs": [],
   "source": [
    "# Call the functions to create a training set\n",
    "X_train, y_train = make_dataset(50, f, 1.0)"
   ]
  },
  {
   "cell_type": "code",
   "execution_count": 144,
   "metadata": {},
   "outputs": [
    {
     "data": {
      "image/png": "[encoded data removed]",
      "text/plain": [
       "<Figure size 432x288 with 1 Axes>"
      ]
     },
     "metadata": {
      "needs_background": "light"
     },
     "output_type": "display_data"
    }
   ],
   "source": [
    "# Plot it so you can see what it looks like\n",
    "def scatter_plot():\n",
    "    fig = plt.figure()\n",
    "    plt.xlabel(\"Feature\")\n",
    "    plt.ylabel(\"y\")\n",
    "    plt.ylim(-4, 14)\n",
    "    plt.scatter(X_train, y_train, color = \"green\")\n",
    "    \n",
    "scatter_plot()\n",
    "plt.show()"
   ]
  },
  {
   "cell_type": "markdown",
   "metadata": {
    "slideshow": {
     "slide_type": "slide"
    }
   },
   "source": [
    "<h2>Fitting a Linear Model to the Data</h2>\n",
    "<ul>\n",
    "    <li>We'll use OLS Linear Regression to fit a linear model.</li>\n",
    "    <li>And we'll plot the model that it learns.</li>\n",
    "</ul>"
   ]
  },
  {
   "cell_type": "code",
   "execution_count": 145,
   "metadata": {},
   "outputs": [
    {
     "data": {
      "text/html": [
       "<style>#sk-container-id-10 {color: black;background-color: white;}#sk-container-id-10 pre{padding: 0;}#sk-container-id-10 div.sk-toggleable {background-color: white;}#sk-container-id-10 label.sk-toggleable__label {cursor: pointer;display: block;width: 100%;margin-bottom: 0;padding: 0.3em;box-sizing: border-box;text-align: center;}#sk-container-id-10 label.sk-toggleable__label-arrow:before {content: \"▸\";float: left;margin-right: 0.25em;color: #696969;}#sk-container-id-10 label.sk-toggleable__label-arrow:hover:before {color: black;}#sk-container-id-10 div.sk-estimator:hover label.sk-toggleable__label-arrow:before {color: black;}#sk-container-id-10 div.sk-toggleable__content {max-height: 0;max-width: 0;overflow: hidden;text-align: left;background-color: #f0f8ff;}#sk-container-id-10 div.sk-toggleable__content pre {margin: 0.2em;color: black;border-radius: 0.25em;background-color: #f0f8ff;}#sk-container-id-10 input.sk-toggleable__control:checked~div.sk-toggleable__content {max-height: 200px;max-width: 100%;overflow: auto;}#sk-container-id-10 input.sk-toggleable__control:checked~label.sk-toggleable__label-arrow:before {content: \"▾\";}#sk-container-id-10 div.sk-estimator input.sk-toggleable__control:checked~label.sk-toggleable__label {background-color: #d4ebff;}#sk-container-id-10 div.sk-label input.sk-toggleable__control:checked~label.sk-toggleable__label {background-color: #d4ebff;}#sk-container-id-10 input.sk-hidden--visually {border: 0;clip: rect(1px 1px 1px 1px);clip: rect(1px, 1px, 1px, 1px);height: 1px;margin: -1px;overflow: hidden;padding: 0;position: absolute;width: 1px;}#sk-container-id-10 div.sk-estimator {font-family: monospace;background-color: #f0f8ff;border: 1px dotted black;border-radius: 0.25em;box-sizing: border-box;margin-bottom: 0.5em;}#sk-container-id-10 div.sk-estimator:hover {background-color: #d4ebff;}#sk-container-id-10 div.sk-parallel-item::after {content: \"\";width: 100%;border-bottom: 1px solid gray;flex-grow: 1;}#sk-container-id-10 div.sk-label:hover label.sk-toggleable__label {background-color: #d4ebff;}#sk-container-id-10 div.sk-serial::before {content: \"\";position: absolute;border-left: 1px solid gray;box-sizing: border-box;top: 0;bottom: 0;left: 50%;z-index: 0;}#sk-container-id-10 div.sk-serial {display: flex;flex-direction: column;align-items: center;background-color: white;padding-right: 0.2em;padding-left: 0.2em;position: relative;}#sk-container-id-10 div.sk-item {position: relative;z-index: 1;}#sk-container-id-10 div.sk-parallel {display: flex;align-items: stretch;justify-content: center;background-color: white;position: relative;}#sk-container-id-10 div.sk-item::before, #sk-container-id-10 div.sk-parallel-item::before {content: \"\";position: absolute;border-left: 1px solid gray;box-sizing: border-box;top: 0;bottom: 0;left: 50%;z-index: -1;}#sk-container-id-10 div.sk-parallel-item {display: flex;flex-direction: column;z-index: 1;position: relative;background-color: white;}#sk-container-id-10 div.sk-parallel-item:first-child::after {align-self: flex-end;width: 50%;}#sk-container-id-10 div.sk-parallel-item:last-child::after {align-self: flex-start;width: 50%;}#sk-container-id-10 div.sk-parallel-item:only-child::after {width: 0;}#sk-container-id-10 div.sk-dashed-wrapped {border: 1px dashed gray;margin: 0 0.4em 0.5em 0.4em;box-sizing: border-box;padding-bottom: 0.4em;background-color: white;}#sk-container-id-10 div.sk-label label {font-family: monospace;font-weight: bold;display: inline-block;line-height: 1.2em;}#sk-container-id-10 div.sk-label-container {text-align: center;}#sk-container-id-10 div.sk-container {/* jupyter's `normalize.less` sets `[hidden] { display: none; }` but bootstrap.min.css set `[hidden] { display: none !important; }` so we also need the `!important` here to be able to override the default hidden behavior on the sphinx rendered scikit-learn.org. See: https://github.com/scikit-learn/scikit-learn/issues/21755 */display: inline-block !important;position: relative;}#sk-container-id-10 div.sk-text-repr-fallback {display: none;}</style><div id=\"sk-container-id-10\" class=\"sk-top-container\"><div class=\"sk-text-repr-fallback\"><pre>LinearRegression()</pre><b>In a Jupyter environment, please rerun this cell to show the HTML representation or trust the notebook. <br />On GitHub, the HTML representation is unable to render, please try loading this page with nbviewer.org.</b></div><div class=\"sk-container\" hidden><div class=\"sk-item\"><div class=\"sk-estimator sk-toggleable\"><input class=\"sk-toggleable__control sk-hidden--visually\" id=\"sk-estimator-id-22\" type=\"checkbox\" checked><label for=\"sk-estimator-id-22\" class=\"sk-toggleable__label sk-toggleable__label-arrow\">LinearRegression</label><div class=\"sk-toggleable__content\"><pre>LinearRegression()</pre></div></div></div></div></div>"
      ],
      "text/plain": [
       "LinearRegression()"
      ]
     },
     "execution_count": 145,
     "metadata": {},
     "output_type": "execute_result"
    }
   ],
   "source": [
    "# Create and fit the model\n",
    "linear_model = LinearRegression()\n",
    "\n",
    "linear_model.fit(X_train, y_train)"
   ]
  },
  {
   "cell_type": "code",
   "execution_count": 146,
   "metadata": {},
   "outputs": [],
   "source": [
    "# Get its predictions for some unseen examples\n",
    "X_test = np.linspace(-0.1, 1.1, 500).reshape(500, 1) \n",
    "y_predicted = linear_model.predict(X_test)"
   ]
  },
  {
   "cell_type": "code",
   "execution_count": 147,
   "metadata": {},
   "outputs": [
    {
     "data": {
      "image/png": "[encoded data removed]",
      "text/plain": [
       "<Figure size 432x288 with 1 Axes>"
      ]
     },
     "metadata": {
      "needs_background": "light"
     },
     "output_type": "display_data"
    }
   ],
   "source": [
    "# Plot the training set and also the predictions made by the model\n",
    "scatter_plot()\n",
    "plt.plot(X_test, y_predicted, color = \"blue\")\n",
    "plt.show()"
   ]
  },
  {
   "cell_type": "markdown",
   "metadata": {},
   "source": [
    "<ul>\n",
    "    <li>It's easy to see that a linear model is a poor choice.</li>\n",
    "    <li>It <b>underfits</b> the data:\n",
    "        <ul>\n",
    "            <li>The model is not complex enough: it is too simple to capture the underlying structure of\n",
    "                the data.\n",
    "            </li>\n",
    "        </ul>\n",
    "    </li>\n",
    "</ul>"
   ]
  },
  {
   "cell_type": "markdown",
   "metadata": {
    "slideshow": {
     "slide_type": "slide"
    }
   },
   "source": [
    "<h2>Fitting a Quadratic Model to the Data</h2>\n",
    "<ul>\n",
    "    <li>What happens if we try to fit a more complex model such as a quadratic function?</li>\n",
    "</ul>"
   ]
  },
  {
   "cell_type": "code",
   "execution_count": 148,
   "metadata": {},
   "outputs": [
    {
     "data": {
      "text/html": [
       "<style>#sk-container-id-11 {color: black;background-color: white;}#sk-container-id-11 pre{padding: 0;}#sk-container-id-11 div.sk-toggleable {background-color: white;}#sk-container-id-11 label.sk-toggleable__label {cursor: pointer;display: block;width: 100%;margin-bottom: 0;padding: 0.3em;box-sizing: border-box;text-align: center;}#sk-container-id-11 label.sk-toggleable__label-arrow:before {content: \"▸\";float: left;margin-right: 0.25em;color: #696969;}#sk-container-id-11 label.sk-toggleable__label-arrow:hover:before {color: black;}#sk-container-id-11 div.sk-estimator:hover label.sk-toggleable__label-arrow:before {color: black;}#sk-container-id-11 div.sk-toggleable__content {max-height: 0;max-width: 0;overflow: hidden;text-align: left;background-color: #f0f8ff;}#sk-container-id-11 div.sk-toggleable__content pre {margin: 0.2em;color: black;border-radius: 0.25em;background-color: #f0f8ff;}#sk-container-id-11 input.sk-toggleable__control:checked~div.sk-toggleable__content {max-height: 200px;max-width: 100%;overflow: auto;}#sk-container-id-11 input.sk-toggleable__control:checked~label.sk-toggleable__label-arrow:before {content: \"▾\";}#sk-container-id-11 div.sk-estimator input.sk-toggleable__control:checked~label.sk-toggleable__label {background-color: #d4ebff;}#sk-container-id-11 div.sk-label input.sk-toggleable__control:checked~label.sk-toggleable__label {background-color: #d4ebff;}#sk-container-id-11 input.sk-hidden--visually {border: 0;clip: rect(1px 1px 1px 1px);clip: rect(1px, 1px, 1px, 1px);height: 1px;margin: -1px;overflow: hidden;padding: 0;position: absolute;width: 1px;}#sk-container-id-11 div.sk-estimator {font-family: monospace;background-color: #f0f8ff;border: 1px dotted black;border-radius: 0.25em;box-sizing: border-box;margin-bottom: 0.5em;}#sk-container-id-11 div.sk-estimator:hover {background-color: #d4ebff;}#sk-container-id-11 div.sk-parallel-item::after {content: \"\";width: 100%;border-bottom: 1px solid gray;flex-grow: 1;}#sk-container-id-11 div.sk-label:hover label.sk-toggleable__label {background-color: #d4ebff;}#sk-container-id-11 div.sk-serial::before {content: \"\";position: absolute;border-left: 1px solid gray;box-sizing: border-box;top: 0;bottom: 0;left: 50%;z-index: 0;}#sk-container-id-11 div.sk-serial {display: flex;flex-direction: column;align-items: center;background-color: white;padding-right: 0.2em;padding-left: 0.2em;position: relative;}#sk-container-id-11 div.sk-item {position: relative;z-index: 1;}#sk-container-id-11 div.sk-parallel {display: flex;align-items: stretch;justify-content: center;background-color: white;position: relative;}#sk-container-id-11 div.sk-item::before, #sk-container-id-11 div.sk-parallel-item::before {content: \"\";position: absolute;border-left: 1px solid gray;box-sizing: border-box;top: 0;bottom: 0;left: 50%;z-index: -1;}#sk-container-id-11 div.sk-parallel-item {display: flex;flex-direction: column;z-index: 1;position: relative;background-color: white;}#sk-container-id-11 div.sk-parallel-item:first-child::after {align-self: flex-end;width: 50%;}#sk-container-id-11 div.sk-parallel-item:last-child::after {align-self: flex-start;width: 50%;}#sk-container-id-11 div.sk-parallel-item:only-child::after {width: 0;}#sk-container-id-11 div.sk-dashed-wrapped {border: 1px dashed gray;margin: 0 0.4em 0.5em 0.4em;box-sizing: border-box;padding-bottom: 0.4em;background-color: white;}#sk-container-id-11 div.sk-label label {font-family: monospace;font-weight: bold;display: inline-block;line-height: 1.2em;}#sk-container-id-11 div.sk-label-container {text-align: center;}#sk-container-id-11 div.sk-container {/* jupyter's `normalize.less` sets `[hidden] { display: none; }` but bootstrap.min.css set `[hidden] { display: none !important; }` so we also need the `!important` here to be able to override the default hidden behavior on the sphinx rendered scikit-learn.org. See: https://github.com/scikit-learn/scikit-learn/issues/21755 */display: inline-block !important;position: relative;}#sk-container-id-11 div.sk-text-repr-fallback {display: none;}</style><div id=\"sk-container-id-11\" class=\"sk-top-container\"><div class=\"sk-text-repr-fallback\"><pre>Pipeline(steps=[(&#x27;poly&#x27;, PolynomialFeatures(include_bias=False)),\n",
       "                (&#x27;predictor&#x27;, LinearRegression())])</pre><b>In a Jupyter environment, please rerun this cell to show the HTML representation or trust the notebook. <br />On GitHub, the HTML representation is unable to render, please try loading this page with nbviewer.org.</b></div><div class=\"sk-container\" hidden><div class=\"sk-item sk-dashed-wrapped\"><div class=\"sk-label-container\"><div class=\"sk-label sk-toggleable\"><input class=\"sk-toggleable__control sk-hidden--visually\" id=\"sk-estimator-id-23\" type=\"checkbox\" ><label for=\"sk-estimator-id-23\" class=\"sk-toggleable__label sk-toggleable__label-arrow\">Pipeline</label><div class=\"sk-toggleable__content\"><pre>Pipeline(steps=[(&#x27;poly&#x27;, PolynomialFeatures(include_bias=False)),\n",
       "                (&#x27;predictor&#x27;, LinearRegression())])</pre></div></div></div><div class=\"sk-serial\"><div class=\"sk-item\"><div class=\"sk-estimator sk-toggleable\"><input class=\"sk-toggleable__control sk-hidden--visually\" id=\"sk-estimator-id-24\" type=\"checkbox\" ><label for=\"sk-estimator-id-24\" class=\"sk-toggleable__label sk-toggleable__label-arrow\">PolynomialFeatures</label><div class=\"sk-toggleable__content\"><pre>PolynomialFeatures(include_bias=False)</pre></div></div></div><div class=\"sk-item\"><div class=\"sk-estimator sk-toggleable\"><input class=\"sk-toggleable__control sk-hidden--visually\" id=\"sk-estimator-id-25\" type=\"checkbox\" ><label for=\"sk-estimator-id-25\" class=\"sk-toggleable__label sk-toggleable__label-arrow\">LinearRegression</label><div class=\"sk-toggleable__content\"><pre>LinearRegression()</pre></div></div></div></div></div></div></div>"
      ],
      "text/plain": [
       "Pipeline(steps=[('poly', PolynomialFeatures(include_bias=False)),\n",
       "                ('predictor', LinearRegression())])"
      ]
     },
     "execution_count": 148,
     "metadata": {},
     "output_type": "execute_result"
    }
   ],
   "source": [
    "# Create and fit the model\n",
    "quadratic_model = Pipeline([\n",
    "    (\"poly\", PolynomialFeatures(degree=2, include_bias=False)),\n",
    "    (\"predictor\", LinearRegression())\n",
    "])\n",
    "\n",
    "quadratic_model.fit(X_train, y_train)"
   ]
  },
  {
   "cell_type": "code",
   "execution_count": 149,
   "metadata": {},
   "outputs": [],
   "source": [
    "# Get its predictions\n",
    "y_predicted = quadratic_model.predict(X_test)"
   ]
  },
  {
   "cell_type": "code",
   "execution_count": 150,
   "metadata": {},
   "outputs": [
    {
     "data": {
      "image/png": "[encoded data removed]",
      "text/plain": [
       "<Figure size 432x288 with 1 Axes>"
      ]
     },
     "metadata": {
      "needs_background": "light"
     },
     "output_type": "display_data"
    }
   ],
   "source": [
    "# Plot the training set and also the predictions made by the model on the validation set\n",
    "scatter_plot()\n",
    "plt.plot(X_test, y_predicted, color = \"blue\")\n",
    "plt.show()"
   ]
  },
  {
   "cell_type": "markdown",
   "metadata": {},
   "source": [
    "<ul>\n",
    "    <li>This fits the training data much better: it underfits less.</li>\n",
    "    <li>We could now try a cubic model&hellip;</li>\n",
    "    <li>But let's skip all that and try something much more complex&hellip;</li>\n",
    "</ul>"
   ]
  },
  {
   "cell_type": "markdown",
   "metadata": {
    "slideshow": {
     "slide_type": "slide"
    }
   },
   "source": [
    "<h2>Fitting a Much Higher Degree Polynomial to the Data</h2>\n",
    "<ul>\n",
    "    <li>So what happens if we fit a polynomial of degree 30?</li>\n",
    "</ul>"
   ]
  },
  {
   "cell_type": "code",
   "execution_count": 151,
   "metadata": {},
   "outputs": [
    {
     "data": {
      "text/html": [
       "<style>#sk-container-id-12 {color: black;background-color: white;}#sk-container-id-12 pre{padding: 0;}#sk-container-id-12 div.sk-toggleable {background-color: white;}#sk-container-id-12 label.sk-toggleable__label {cursor: pointer;display: block;width: 100%;margin-bottom: 0;padding: 0.3em;box-sizing: border-box;text-align: center;}#sk-container-id-12 label.sk-toggleable__label-arrow:before {content: \"▸\";float: left;margin-right: 0.25em;color: #696969;}#sk-container-id-12 label.sk-toggleable__label-arrow:hover:before {color: black;}#sk-container-id-12 div.sk-estimator:hover label.sk-toggleable__label-arrow:before {color: black;}#sk-container-id-12 div.sk-toggleable__content {max-height: 0;max-width: 0;overflow: hidden;text-align: left;background-color: #f0f8ff;}#sk-container-id-12 div.sk-toggleable__content pre {margin: 0.2em;color: black;border-radius: 0.25em;background-color: #f0f8ff;}#sk-container-id-12 input.sk-toggleable__control:checked~div.sk-toggleable__content {max-height: 200px;max-width: 100%;overflow: auto;}#sk-container-id-12 input.sk-toggleable__control:checked~label.sk-toggleable__label-arrow:before {content: \"▾\";}#sk-container-id-12 div.sk-estimator input.sk-toggleable__control:checked~label.sk-toggleable__label {background-color: #d4ebff;}#sk-container-id-12 div.sk-label input.sk-toggleable__control:checked~label.sk-toggleable__label {background-color: #d4ebff;}#sk-container-id-12 input.sk-hidden--visually {border: 0;clip: rect(1px 1px 1px 1px);clip: rect(1px, 1px, 1px, 1px);height: 1px;margin: -1px;overflow: hidden;padding: 0;position: absolute;width: 1px;}#sk-container-id-12 div.sk-estimator {font-family: monospace;background-color: #f0f8ff;border: 1px dotted black;border-radius: 0.25em;box-sizing: border-box;margin-bottom: 0.5em;}#sk-container-id-12 div.sk-estimator:hover {background-color: #d4ebff;}#sk-container-id-12 div.sk-parallel-item::after {content: \"\";width: 100%;border-bottom: 1px solid gray;flex-grow: 1;}#sk-container-id-12 div.sk-label:hover label.sk-toggleable__label {background-color: #d4ebff;}#sk-container-id-12 div.sk-serial::before {content: \"\";position: absolute;border-left: 1px solid gray;box-sizing: border-box;top: 0;bottom: 0;left: 50%;z-index: 0;}#sk-container-id-12 div.sk-serial {display: flex;flex-direction: column;align-items: center;background-color: white;padding-right: 0.2em;padding-left: 0.2em;position: relative;}#sk-container-id-12 div.sk-item {position: relative;z-index: 1;}#sk-container-id-12 div.sk-parallel {display: flex;align-items: stretch;justify-content: center;background-color: white;position: relative;}#sk-container-id-12 div.sk-item::before, #sk-container-id-12 div.sk-parallel-item::before {content: \"\";position: absolute;border-left: 1px solid gray;box-sizing: border-box;top: 0;bottom: 0;left: 50%;z-index: -1;}#sk-container-id-12 div.sk-parallel-item {display: flex;flex-direction: column;z-index: 1;position: relative;background-color: white;}#sk-container-id-12 div.sk-parallel-item:first-child::after {align-self: flex-end;width: 50%;}#sk-container-id-12 div.sk-parallel-item:last-child::after {align-self: flex-start;width: 50%;}#sk-container-id-12 div.sk-parallel-item:only-child::after {width: 0;}#sk-container-id-12 div.sk-dashed-wrapped {border: 1px dashed gray;margin: 0 0.4em 0.5em 0.4em;box-sizing: border-box;padding-bottom: 0.4em;background-color: white;}#sk-container-id-12 div.sk-label label {font-family: monospace;font-weight: bold;display: inline-block;line-height: 1.2em;}#sk-container-id-12 div.sk-label-container {text-align: center;}#sk-container-id-12 div.sk-container {/* jupyter's `normalize.less` sets `[hidden] { display: none; }` but bootstrap.min.css set `[hidden] { display: none !important; }` so we also need the `!important` here to be able to override the default hidden behavior on the sphinx rendered scikit-learn.org. See: https://github.com/scikit-learn/scikit-learn/issues/21755 */display: inline-block !important;position: relative;}#sk-container-id-12 div.sk-text-repr-fallback {display: none;}</style><div id=\"sk-container-id-12\" class=\"sk-top-container\"><div class=\"sk-text-repr-fallback\"><pre>Pipeline(steps=[(&#x27;poly&#x27;, PolynomialFeatures(degree=30, include_bias=False)),\n",
       "                (&#x27;predictor&#x27;, LinearRegression())])</pre><b>In a Jupyter environment, please rerun this cell to show the HTML representation or trust the notebook. <br />On GitHub, the HTML representation is unable to render, please try loading this page with nbviewer.org.</b></div><div class=\"sk-container\" hidden><div class=\"sk-item sk-dashed-wrapped\"><div class=\"sk-label-container\"><div class=\"sk-label sk-toggleable\"><input class=\"sk-toggleable__control sk-hidden--visually\" id=\"sk-estimator-id-26\" type=\"checkbox\" ><label for=\"sk-estimator-id-26\" class=\"sk-toggleable__label sk-toggleable__label-arrow\">Pipeline</label><div class=\"sk-toggleable__content\"><pre>Pipeline(steps=[(&#x27;poly&#x27;, PolynomialFeatures(degree=30, include_bias=False)),\n",
       "                (&#x27;predictor&#x27;, LinearRegression())])</pre></div></div></div><div class=\"sk-serial\"><div class=\"sk-item\"><div class=\"sk-estimator sk-toggleable\"><input class=\"sk-toggleable__control sk-hidden--visually\" id=\"sk-estimator-id-27\" type=\"checkbox\" ><label for=\"sk-estimator-id-27\" class=\"sk-toggleable__label sk-toggleable__label-arrow\">PolynomialFeatures</label><div class=\"sk-toggleable__content\"><pre>PolynomialFeatures(degree=30, include_bias=False)</pre></div></div></div><div class=\"sk-item\"><div class=\"sk-estimator sk-toggleable\"><input class=\"sk-toggleable__control sk-hidden--visually\" id=\"sk-estimator-id-28\" type=\"checkbox\" ><label for=\"sk-estimator-id-28\" class=\"sk-toggleable__label sk-toggleable__label-arrow\">LinearRegression</label><div class=\"sk-toggleable__content\"><pre>LinearRegression()</pre></div></div></div></div></div></div></div>"
      ],
      "text/plain": [
       "Pipeline(steps=[('poly', PolynomialFeatures(degree=30, include_bias=False)),\n",
       "                ('predictor', LinearRegression())])"
      ]
     },
     "execution_count": 151,
     "metadata": {},
     "output_type": "execute_result"
    }
   ],
   "source": [
    "# Create and fit the model\n",
    "poly_model = Pipeline([\n",
    "    (\"poly\", PolynomialFeatures(degree=30, include_bias=False)),\n",
    "    (\"predictor\", LinearRegression())\n",
    "])\n",
    "\n",
    "poly_model.fit(X_train, y_train)"
   ]
  },
  {
   "cell_type": "code",
   "execution_count": 152,
   "metadata": {},
   "outputs": [],
   "source": [
    "# Get its predictions\n",
    "y_predicted = poly_model.predict(X_test)"
   ]
  },
  {
   "cell_type": "code",
   "execution_count": 153,
   "metadata": {},
   "outputs": [
    {
     "data": {
      "image/png": "[encoded data removed]",
      "text/plain": [
       "<Figure size 432x288 with 1 Axes>"
      ]
     },
     "metadata": {
      "needs_background": "light"
     },
     "output_type": "display_data"
    }
   ],
   "source": [
    "# Plot the training set and also the predictions made by the model on the validation set\n",
    "scatter_plot()\n",
    "plt.plot(X_test, y_predicted, color = \"blue\")\n",
    "plt.show()"
   ]
  },
  {
   "cell_type": "markdown",
   "metadata": {},
   "source": [
    "<ul>\n",
    "    <li>While a model of this complexity fits the training set really well, it seems clear that this model is a\n",
    "        poor choice.\n",
    "    </li>\n",
    "    <li>It is not capturing the target function; it is fitting to the noise in the training set.</li>\n",
    "    <li>It <b>overfits</b> the data:\n",
    "        <ul>\n",
    "            <li>The model is too complex relative to the amount of training data and the noisiness of the\n",
    "                training data.\n",
    "            </li>\n",
    "        </ul>\n",
    "    </li>\n",
    "</ul>"
   ]
  },
  {
   "cell_type": "markdown",
   "metadata": {
    "slideshow": {
     "slide_type": "slide"
    }
   },
   "source": [
    "<h2>Fitting Models of Different Complexities to the Data</h2>\n",
    "<ul>\n",
    "    <li>We can plot complexity along the $x$-axis.\n",
    "        <ul>\n",
    "            <li>In our case, we plot the degree of the polynomial along the $x$-axis.</li>\n",
    "        </ul>\n",
    "    </li>\n",
    "    <li>We can plot loss (MSE) or error (MAE) on the $y$-axis.\n",
    "        <ul>\n",
    "            <li>We'll plot error (MAE).</li>\n",
    "            <li>In fact, we'll plot two lines: training error and validation error.</li>\n",
    "        </ul>\n",
    "    </li>\n",
    "    Such a plot is called a <b>validation curve</b>.\n",
    "</ul>"
   ]
  },
  {
   "cell_type": "code",
   "execution_count": 154,
   "metadata": {},
   "outputs": [],
   "source": [
    "# I'll make a larger dataset than the one I used above \n",
    "# because I want to split this one into training and validation sets using k-fold cross-validation\n",
    "X, y = make_dataset(100, f, 1.0)"
   ]
  },
  {
   "cell_type": "code",
   "execution_count": 155,
   "metadata": {},
   "outputs": [],
   "source": [
    "degrees = np.arange(1, 30)\n",
    "\n",
    "poly_model = Pipeline([\n",
    "    (\"poly\", PolynomialFeatures(include_bias=False)),\n",
    "    (\"predictor\", LinearRegression())\n",
    "])\n",
    "\n",
    "maes_train, maes_val = validation_curve(\n",
    "    poly_model, X, y, param_name=\"poly__degree\", param_range=degrees, cv=10, scoring=\"neg_mean_absolute_error\")\n",
    "\n",
    "mean_maes_train = np.mean(np.abs(maes_train), axis=1)\n",
    "mean_maes_val = np.mean(np.abs(maes_val), axis=1)"
   ]
  },
  {
   "cell_type": "code",
   "execution_count": 156,
   "metadata": {},
   "outputs": [],
   "source": [
    "# Plot the validation curve\n",
    "def plot_validation_curve(x_range, invert_axis=False):\n",
    "    fig = plt.figure()\n",
    "    ax = plt.axes()\n",
    "    plt.xlabel(\"complexity\")\n",
    "    if invert_axis:\n",
    "        ax.invert_xaxis()\n",
    "    plt.ylabel(\"MAE\")\n",
    "    plt.ylim(0, 1.5)\n",
    "    plt.plot(x_range, mean_maes_train, label = \"training error\", color = \"red\")\n",
    "    plt.plot(x_range, mean_maes_val, label=\"validation error\", color = \"gold\")\n",
    "    plt.legend()"
   ]
  },
  {
   "cell_type": "code",
   "execution_count": 157,
   "metadata": {},
   "outputs": [
    {
     "data": {
      "image/png": "[encoded data removed]",
      "text/plain": [
       "<Figure size 432x288 with 1 Axes>"
      ]
     },
     "metadata": {
      "needs_background": "light"
     },
     "output_type": "display_data"
    }
   ],
   "source": [
    "plot_validation_curve(x_range=degrees)\n",
    "plt.show()"
   ]
  },
  {
   "cell_type": "markdown",
   "metadata": {},
   "source": [
    "<ul>\n",
    "    <li>We might get different results each time we run the code, but typically&hellip;</li>\n",
    "    <li>Training error starts high and gets ever lower: the more complex models can wiggle their\n",
    "        way through the noise in the data.\n",
    "    </li>\n",
    "    <li>Validation error starts high, gets lower, and then grows again (but somewhat erratically).</li>\n",
    "    <li>The simpler models to the left underfit, so validation error (and training error) are high.</li>\n",
    "    <li>The more complex models to the right overfit:\n",
    "        <ul>\n",
    "            <li>The training error is low: the more complex models can wiggle their way through the noise\n",
    "                in the data.\n",
    "            </li>\n",
    "            <li>The validation error is high (but variable): the models don't generalise from the training data to\n",
    "                the validation data.\n",
    "            </li>\n",
    "            <li>Between the two, the complexity is 'just right'.</li>\n",
    "        </ul>\n",
    "    </li>\n",
    "</ul>"
   ]
  },
  {
   "cell_type": "markdown",
   "metadata": {},
   "source": [
    "<ul>\n",
    "    <li>We can do another example using kNN.</li>\n",
    "    <li>While polynomial models get more complex as their degree gets larger, kNN is more complex as $k$\n",
    "        gets smaller!\n",
    "    </li>\n",
    "</ul>"
   ]
  },
  {
   "cell_type": "code",
   "execution_count": 158,
   "metadata": {},
   "outputs": [],
   "source": [
    "k_vals = np.arange(1, 50)\n",
    "\n",
    "knn_model = KNeighborsRegressor() # Only one feature, so no need to scale\n",
    "\n",
    "maes_train, maes_val = validation_curve(\n",
    "    knn_model, X, y, param_name=\"n_neighbors\", param_range=k_vals, cv=10, scoring=\"neg_mean_absolute_error\")\n",
    "\n",
    "mean_maes_train = np.mean(np.abs(maes_train), axis=1)\n",
    "mean_maes_val = np.mean(np.abs(maes_val), axis=1)"
   ]
  },
  {
   "cell_type": "code",
   "execution_count": 159,
   "metadata": {},
   "outputs": [
    {
     "data": {
      "image/png": "[encoded data removed]",
      "text/plain": [
       "<Figure size 432x288 with 1 Axes>"
      ]
     },
     "metadata": {
      "needs_background": "light"
     },
     "output_type": "display_data"
    }
   ],
   "source": [
    "plot_validation_curve(x_range=k_vals, invert_axis=True)\n",
    "plt.show()"
   ]
  },
  {
   "cell_type": "markdown",
   "metadata": {},
   "source": [
    "<ul>\n",
    "    <li>Suppose the training set contains $m$ distinct examples.</li>\n",
    "    <li>The <em>training error</em> for kNN with $k=1$ will be zero. Why?</li>\n",
    "</ul>"
   ]
  },
  {
   "cell_type": "markdown",
   "metadata": {},
   "source": [
    "<h2>Summary of the Definitions</h2>\n",
    "<ul>\n",
    "    <li>A model underfits the training set if there is a more complex model with lower validation error.\n",
    "    </li>\n",
    "    <li>A model overfits the training set if there is a less complex model with lower validation error.\n",
    "    </li>\n",
    "    <li>This summary also suggests the remedies:\n",
    "        <ul>\n",
    "            <li>If your model underfits, then make it more complex.</li>\n",
    "            <li>If you model overfits, then make it less complex.</li>\n",
    "        </ul>\n",
    "        How we do this is the topic of the next lecture.\n",
    "    </li>\n",
    "</ul>"
   ]
  },
  {
   "cell_type": "markdown",
   "metadata": {
    "slideshow": {
     "slide_type": "slide"
    }
   },
   "source": [
    "<h1>Underfitting and Overfitting: Diagnosis</h1>\n",
    "<ul>\n",
    "    <li>Validation curves are useful for explaining the definitions of under- and overfitting. But they do\n",
    "        not tell you whether your model is underfitting or overfitting. So you are uinlikely to ever\n",
    "        draw a validation curve.\n",
    "    </li>\n",
    "    <li>In that case, how do you tell whether a particular model is underfitting or overfitting?</li>\n",
    "    <li>We'll look at two methods:\n",
    "        <ul>\n",
    "            <li>Compare training error and validation error;</li>\n",
    "            <li>Plot a <b>learning curve</b>.</li>\n",
    "        </ul>\n",
    "        In practice, people tend to use the first of these two methods because the second is expensive.\n",
    "    </li>\n",
    "</ul>"
   ]
  },
  {
   "cell_type": "markdown",
   "metadata": {
    "slideshow": {
     "slide_type": "slide"
    }
   },
   "source": [
    "<h2>Compare training error and validation error</h2>\n",
    "<ul>\n",
    "    <li>The simplest method is to compute the training error and validation error.</li>\n",
    "    <li>If a model has high training error and high validation error, then it is underfitting.</li>\n",
    "    <li>If a model has low training error but high validation error, then it is overfitting.</li>\n",
    "    <li>Of course, this does require a sense of what it means for error to be high or low. For this,\n",
    "        a discussion with a domain expert can be useful.\n",
    "    </li>\n",
    "</ul>"
   ]
  },
  {
   "cell_type": "markdown",
   "metadata": {},
   "source": [
    "<ul>\n",
    "    <li>To compute both training error as well as validation error, use scikit-learn's \n",
    "        <code>cross_validate</code> function in place of <code>cross_val_score</code>. It returns\n",
    "        a dictionary of results.\n",
    "    </li>\n",
    "</ul>"
   ]
  },
  {
   "cell_type": "code",
   "execution_count": 160,
   "metadata": {},
   "outputs": [
    {
     "name": "stdout",
     "output_type": "stream",
     "text": [
      "Training error:  1.0763296745209703\n",
      "Validation error:  1.115381977221558\n"
     ]
    }
   ],
   "source": [
    "# Underfitting\n",
    "# Linear regression underfits our synthetic training set.\n",
    "# Note how high both kinds of error are. \n",
    "# (For the synthetic dataset that we created, error of about 0.76 is expected.)\n",
    "\n",
    "linear_model = LinearRegression()\n",
    "\n",
    "scores = cross_validate(linear_model, X, y, cv=10, scoring=\"neg_mean_absolute_error\", return_train_score=True)\n",
    "print(\"Training error: \", np.mean(np.abs(scores[\"train_score\"])))\n",
    "print(\"Validation error: \", np.mean(np.abs(scores[\"test_score\"])))"
   ]
  },
  {
   "cell_type": "code",
   "execution_count": 161,
   "metadata": {},
   "outputs": [
    {
     "name": "stdout",
     "output_type": "stream",
     "text": [
      "Training error:  0.6283432655703239\n",
      "Validation error:  4.266591169176929\n"
     ]
    }
   ],
   "source": [
    "# Overfitting\n",
    "# Polynomial regression with degree 30 overfits our synthetic training set.\n",
    "# Note how low training error is, but validation error is high.\n",
    "\n",
    "poly_model_d30 = Pipeline([\n",
    "    (\"poly\", PolynomialFeatures(degree=30, include_bias=False)),\n",
    "    (\"predictor\", LinearRegression())\n",
    "])\n",
    "\n",
    "scores = cross_validate(poly_model_d30, X, y, cv=10, scoring=\"neg_mean_absolute_error\", return_train_score=True)\n",
    "print(\"Training error: \", np.mean(np.abs(scores[\"train_score\"])))\n",
    "print(\"Validation error: \", np.mean(np.abs(scores[\"test_score\"])))"
   ]
  },
  {
   "cell_type": "code",
   "execution_count": 162,
   "metadata": {},
   "outputs": [
    {
     "name": "stdout",
     "output_type": "stream",
     "text": [
      "Training error:  0.7480284606214146\n",
      "Validation error:  0.8136192954902344\n"
     ]
    }
   ],
   "source": [
    "# Just right\n",
    "# Polynomial regression with degree 4 is about right for our synthetic training set.\n",
    "# Note how training error is low but not surprisingly so, and validation error is similar.\n",
    "\n",
    "quartic_model = Pipeline([\n",
    "    (\"poly\", PolynomialFeatures(degree=4, include_bias=False)),\n",
    "    (\"predictor\", LinearRegression())\n",
    "])\n",
    "\n",
    "scores = cross_validate(quartic_model, X, y, cv=10, scoring=\"neg_mean_absolute_error\", return_train_score=True)\n",
    "print(\"Training error: \", np.mean(np.abs(scores[\"train_score\"])))\n",
    "print(\"Validation error: \", np.mean(np.abs(scores[\"test_score\"])))"
   ]
  },
  {
   "cell_type": "markdown",
   "metadata": {
    "slideshow": {
     "slide_type": "slide"
    }
   },
   "source": [
    "<h2>Plot a learning curve</h2>\n",
    "<ul>\n",
    "    <li><b>Learning curves</b> plot training error and validation error against the <em>number of examples \n",
    "        in the training set</em>.\n",
    "    </li>\n",
    "    <li>But they are expensive to produce.</li>\n",
    "</ul>"
   ]
  },
  {
   "cell_type": "code",
   "execution_count": 163,
   "metadata": {},
   "outputs": [],
   "source": [
    "def plot_learning_curve(ymax=1.5):\n",
    "    fig = plt.figure()\n",
    "    plt.xlabel(\"num. training examples\")\n",
    "    plt.ylabel(\"MAE\")\n",
    "    plt.ylim(0, ymax)\n",
    "    plt.plot(train_sizes, mean_maes_train, label = \"training error\", color = \"purple\")\n",
    "    plt.plot(train_sizes, mean_maes_val, label = \"validation error\", color = \"orange\")\n",
    "    plt.legend()"
   ]
  },
  {
   "cell_type": "code",
   "execution_count": 164,
   "metadata": {},
   "outputs": [],
   "source": [
    "train_set_sizes = np.linspace(.1, 1.0, 10)"
   ]
  },
  {
   "cell_type": "code",
   "execution_count": 165,
   "metadata": {},
   "outputs": [
    {
     "data": {
      "image/png": "[encoded data removed]",
      "text/plain": [
       "<Figure size 432x288 with 1 Axes>"
      ]
     },
     "metadata": {
      "needs_background": "light"
     },
     "output_type": "display_data"
    }
   ],
   "source": [
    "# Underfitting\n",
    "\n",
    "train_sizes, maes_train, maes_val = learning_curve(linear_model, X, y, train_sizes=train_set_sizes, \n",
    "                                                    cv=10, scoring=\"neg_mean_absolute_error\")\n",
    "mean_maes_train = np.mean(np.abs(maes_train), axis=1)\n",
    "mean_maes_val = np.mean(np.abs(maes_val), axis=1)\n",
    "\n",
    "plot_learning_curve()\n",
    "plt.show()"
   ]
  },
  {
   "cell_type": "markdown",
   "metadata": {},
   "source": [
    "<ul>\n",
    "    <li>Training error:\n",
    "        <ul>\n",
    "            <li>When there are just a few training examples, the model can fit them near perfectly, which is \n",
    "                why the curve starts low.\n",
    "            </li>\n",
    "            <li>As more examples are used for training, it becomes impossible for the model to fit the data \n",
    "                both because of the noise but because the model isn't complex enough.\n",
    "            </li>\n",
    "            <li>The curve goes up and eventually plateaus.</li>\n",
    "        </ul>\n",
    "    </li>\n",
    "    <li>Validation error:\n",
    "        <ul>\n",
    "            <li>When there are few training examples, the model cannot generalize well, so validation error is high.\n",
    "            </li>\n",
    "            <li>As more examples are used for training, the model is better so validation error comes down.</li>\n",
    "            <li>But, since the model isn't complex enough, eventually validation error plateaus, very close to the\n",
    "                training error.\n",
    "            </li>\n",
    "        </ul>\n",
    "    </li>   \n",
    "</ul>"
   ]
  },
  {
   "cell_type": "code",
   "execution_count": 166,
   "metadata": {},
   "outputs": [
    {
     "data": {
      "image/png": "[encoded data removed]",
      "text/plain": [
       "<Figure size 432x288 with 1 Axes>"
      ]
     },
     "metadata": {
      "needs_background": "light"
     },
     "output_type": "display_data"
    }
   ],
   "source": [
    "# Overfitting\n",
    "\n",
    "train_sizes, maes_train, maes_val = learning_curve(poly_model_d30, X, y, train_sizes=train_set_sizes, \n",
    "                                                    cv=10, scoring=\"neg_mean_absolute_error\")\n",
    "mean_maes_train = np.mean(np.abs(maes_train), axis=1)\n",
    "mean_maes_val = np.mean(np.abs(maes_val), axis=1)\n",
    "\n",
    "plot_learning_curve()\n",
    "plt.show()"
   ]
  },
  {
   "cell_type": "markdown",
   "metadata": {},
   "source": [
    "<ul>\n",
    "    <li>(The validation error may be so high that it is not visible on the graph above.))</li>\n",
    "    <li>These curves often have a similar shape to the case of underfitting except&hellip;\n",
    "    </li>\n",
    "    <li>Training error:\n",
    "        <ul>\n",
    "            <li>This is much lower because the model can wiggle its way through the noise.</li>\n",
    "        </ul>\n",
    "    </li>\n",
    "    <li>Validation error:\n",
    "        <ul>\n",
    "            <li>There remains a big gap between training error and validation error\n",
    "                (although they may get closer if we had even more training examples).\n",
    "            </li>\n",
    "        </ul>\n",
    "    </li>\n",
    "</ul>"
   ]
  },
  {
   "cell_type": "code",
   "execution_count": 167,
   "metadata": {},
   "outputs": [
    {
     "data": {
      "image/png": "[encoded data removed]",
      "text/plain": [
       "<Figure size 432x288 with 1 Axes>"
      ]
     },
     "metadata": {
      "needs_background": "light"
     },
     "output_type": "display_data"
    }
   ],
   "source": [
    "# Just right\n",
    "\n",
    "train_sizes, maes_train, maes_val = learning_curve(quartic_model, X, y, train_sizes=train_set_sizes, \n",
    "                                                    cv=10, scoring=\"neg_mean_absolute_error\")\n",
    "mean_maes_train = np.mean(np.abs(maes_train), axis=1)\n",
    "mean_maes_val = np.mean(np.abs(maes_val), axis=1)\n",
    "\n",
    "plot_learning_curve()\n",
    "plt.show()"
   ]
  },
  {
   "cell_type": "markdown",
   "metadata": {},
   "source": [
    "<ul>\n",
    "    <li>The same kind of shape again&hellip;</li>\n",
    "    <li>But, this time, the gap narrows and they should converge.</li>\n",
    "</ul>"
   ]
  },
  {
   "cell_type": "markdown",
   "metadata": {},
   "source": [
    "<h2>Example</h2>\n",
    "<ul>\n",
    "    <li>It's obvious that linear regression underfits the Cork Property Prices Dataset: who would want a\n",
    "        program for predicting selling prices that is wrong on average by &euro;60,000?\n",
    "    </li>\n",
    "</ul>"
   ]
  },
  {
   "cell_type": "code",
   "execution_count": 168,
   "metadata": {},
   "outputs": [
    {
     "name": "stdout",
     "output_type": "stream",
     "text": [
      "Training error:  59.54976554274325\n",
      "Validation error:  60.79942430798836\n"
     ]
    }
   ],
   "source": [
    "# Extract the features but leave as a DataFrame\n",
    "X = df[features]\n",
    "\n",
    "# Target values, converted to a 1D numpy array\n",
    "y = df[\"price\"].values\n",
    "\n",
    "scores = cross_validate(linear_model, X, y, cv=10, scoring=\"neg_mean_absolute_error\", return_train_score=True)\n",
    "print(\"Training error: \", np.mean(np.abs(scores[\"train_score\"])))\n",
    "print(\"Validation error: \", np.mean(np.abs(scores[\"test_score\"])))"
   ]
  },
  {
   "cell_type": "markdown",
   "metadata": {},
   "source": [
    "<ul>\n",
    "    <li>So what to we do to remedy this?</li>\n",
    "    <li>Go to next lecture!</li>\n",
    "</ul>"
   ]
  },
  {
   "cell_type": "markdown",
   "metadata": {},
   "source": [
    "<h1>Appendix</h1>\n",
    "<h2>A little humourous speculation</h2>\n",
    "<ul>\n",
    "    <li>AI models may overfit their training dataset.</li>\n",
    "    <li>Do humans overfit?</li>\n",
    "    <li>Children often over-generalise. For example, having learned the past tense of \"walk\" is \"walked\" and of \"like\" is \"liked\", they may later be heard saying \"I runned to the shops\".</li>\n",
    "    <li>If we say (somewhat loosely) that overfitting is spotting patterns where there are none, then we can find lots of other examples of human overfitting.\n",
    "        <ul>\n",
    "            <li>When you look into the sky, do you see animals in the shapes of the clouds?</li>\n",
    "            <li>A gambler's superstitions are spurious patterns that become ever more elaborate each time they lose: I win when I wear my lucky underpants, touch my head three times with my left hand and kiss a black cat.</li>\n",
    "            <li>You are trying too hard to find patterns if you think there are Satanic messages in a song played backwards.</li>\n",
    "        </ul>\n",
    "    </li>\n",
    "</ul>"
   ]
  },
  {
   "cell_type": "code",
   "execution_count": null,
   "metadata": {},
   "outputs": [],
   "source": []
  }
 ],
 "metadata": {
  "celltoolbar": "Slideshow",
  "kernelspec": {
   "display_name": "Python 3 (ipykernel)",
   "language": "python",
   "name": "python3"
  },
  "language_info": {
   "codemirror_mode": {
    "name": "ipython",
    "version": 3
   },
   "file_extension": ".py",
   "mimetype": "text/x-python",
   "name": "python",
   "nbconvert_exporter": "python",
   "pygments_lexer": "ipython3",
   "version": "3.8.5"
  }
 },
 "nbformat": 4,
 "nbformat_minor": 1
}
