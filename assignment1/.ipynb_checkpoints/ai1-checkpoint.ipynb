{
 "cells": [
  {
   "cell_type": "markdown",
   "id": "e617ae8c-4b39-41ad-bef3-44c253acc41d",
   "metadata": {},
   "source": [
    "# Assignment 1\n",
    "\n",
    "### Sprencz Robert"
   ]
  },
  {
   "cell_type": "markdown",
   "id": "3666b173-e0e1-44ac-b22f-9be5dcaa1628",
   "metadata": {},
   "source": [
    "### Initialization"
   ]
  },
  {
   "cell_type": "code",
   "execution_count": 1,
   "id": "9338cd8b-3928-442d-b7e2-9b6bf28cea8b",
   "metadata": {},
   "outputs": [],
   "source": [
    "%load_ext autoreload\n",
    "%autoreload 2\n",
    "%matplotlib inline"
   ]
  },
  {
   "cell_type": "code",
   "execution_count": 2,
   "id": "11eb71e7-c395-4293-9650-7f0ed3546408",
   "metadata": {},
   "outputs": [],
   "source": [
    "import pandas as pd\n",
    "import numpy as np\n",
    "\n",
    "from pandas.plotting import scatter_matrix\n",
    "from seaborn import scatterplot, heatmap\n",
    "\n",
    "from sklearn.model_selection import GridSearchCV\n",
    "from sklearn.model_selection import cross_validate\n",
    "from sklearn.model_selection import cross_val_score\n",
    "from sklearn.model_selection import ShuffleSplit\n",
    "from sklearn.linear_model import LinearRegression\n",
    "\n",
    "from sklearn.model_selection import train_test_split\n",
    "from sklearn.metrics import accuracy_score\n",
    "\n",
    "from sklearn.compose import ColumnTransformer\n",
    "from sklearn.pipeline import Pipeline\n",
    "\n",
    "from sklearn.impute import SimpleImputer\n",
    "from sklearn.preprocessing import StandardScaler\n",
    "from sklearn.preprocessing import MinMaxScaler\n",
    "from sklearn.preprocessing import RobustScaler\n",
    "\n",
    "from sklearn.preprocessing import LabelEncoder\n",
    "from sklearn.preprocessing import OneHotEncoder\n",
    "\n",
    "from sklearn.base import BaseEstimator, TransformerMixin\n",
    "\n",
    "from sklearn.linear_model import Ridge\n",
    "from sklearn.dummy import DummyClassifier\n",
    "from sklearn.neighbors import KNeighborsRegressor\n",
    "from sklearn.neighbors import KNeighborsClassifier\n",
    "from sklearn.linear_model import LogisticRegression\n",
    "\n",
    "from sklearn.metrics import mean_absolute_error\n",
    "\n",
    "from joblib import dump"
   ]
  },
  {
   "cell_type": "markdown",
   "id": "052a1941-6193-4e70-96e8-1ffb1e6c405a",
   "metadata": {},
   "source": [
    "### Read & shuffle the dataset"
   ]
  },
  {
   "cell_type": "code",
   "execution_count": 3,
   "id": "f21354bd-cca0-4855-ae45-8bfe71551a91",
   "metadata": {},
   "outputs": [],
   "source": [
    "df = pd.read_csv(\"./dataset_reoffending.csv\")\n",
    "\n",
    "df = df.sample(frac=1,random_state=2)\n",
    "df.reset_index(drop=True, inplace=True)"
   ]
  },
  {
   "cell_type": "markdown",
   "id": "a83bf288-c348-4c94-b886-5b11be84435a",
   "metadata": {},
   "source": [
    "### Basic informations"
   ]
  },
  {
   "cell_type": "code",
   "execution_count": 4,
   "id": "5e485eb3-418f-45af-b6ab-63307f67cc9b",
   "metadata": {},
   "outputs": [
    {
     "data": {
      "text/plain": [
       "(25835, 53)"
      ]
     },
     "execution_count": 4,
     "metadata": {},
     "output_type": "execute_result"
    }
   ],
   "source": [
    "df.shape"
   ]
  },
  {
   "cell_type": "code",
   "execution_count": 5,
   "id": "54214814-973b-44e1-97c3-2e1086cda551",
   "metadata": {},
   "outputs": [],
   "source": [
    "features=list(df.columns)\n",
    "#features"
   ]
  },
  {
   "cell_type": "code",
   "execution_count": 6,
   "id": "26565833-5184-4bec-9cb7-87781bf68fc5",
   "metadata": {},
   "outputs": [
    {
     "data": {
      "text/html": [
       "<div>\n",
       "<style scoped>\n",
       "    .dataframe tbody tr th:only-of-type {\n",
       "        vertical-align: middle;\n",
       "    }\n",
       "\n",
       "    .dataframe tbody tr th {\n",
       "        vertical-align: top;\n",
       "    }\n",
       "\n",
       "    .dataframe thead th {\n",
       "        text-align: right;\n",
       "    }\n",
       "</style>\n",
       "<table border=\"1\" class=\"dataframe\">\n",
       "  <thead>\n",
       "    <tr style=\"text-align: right;\">\n",
       "      <th></th>\n",
       "      <th>id</th>\n",
       "      <th>gender</th>\n",
       "      <th>race</th>\n",
       "      <th>age</th>\n",
       "      <th>address</th>\n",
       "      <th>gang_affiliated</th>\n",
       "      <th>risk_score</th>\n",
       "      <th>supervision_level</th>\n",
       "      <th>education_level</th>\n",
       "      <th>dependents</th>\n",
       "      <th>...</th>\n",
       "      <th>cocaine_positive_tests</th>\n",
       "      <th>meth_positive_tests</th>\n",
       "      <th>other_positive_tests</th>\n",
       "      <th>days_employed</th>\n",
       "      <th>jobs_per_year</th>\n",
       "      <th>employment_exempt</th>\n",
       "      <th>reoffended_within_3_years</th>\n",
       "      <th>reoffended_in_year_1</th>\n",
       "      <th>reoffended_in_year_2</th>\n",
       "      <th>reoffended_in_year_3</th>\n",
       "    </tr>\n",
       "  </thead>\n",
       "  <tbody>\n",
       "    <tr>\n",
       "      <th>count</th>\n",
       "      <td>25835.000000</td>\n",
       "      <td>25835</td>\n",
       "      <td>25835</td>\n",
       "      <td>25835</td>\n",
       "      <td>25835.000000</td>\n",
       "      <td>22668</td>\n",
       "      <td>25360.000000</td>\n",
       "      <td>24115</td>\n",
       "      <td>25835</td>\n",
       "      <td>25835</td>\n",
       "      <td>...</td>\n",
       "      <td>20663.000000</td>\n",
       "      <td>20663.000000</td>\n",
       "      <td>20663.00000</td>\n",
       "      <td>25373.000000</td>\n",
       "      <td>25027.000000</td>\n",
       "      <td>25835</td>\n",
       "      <td>25835</td>\n",
       "      <td>25835</td>\n",
       "      <td>25835</td>\n",
       "      <td>25835</td>\n",
       "    </tr>\n",
       "    <tr>\n",
       "      <th>unique</th>\n",
       "      <td>NaN</td>\n",
       "      <td>2</td>\n",
       "      <td>2</td>\n",
       "      <td>7</td>\n",
       "      <td>NaN</td>\n",
       "      <td>2</td>\n",
       "      <td>NaN</td>\n",
       "      <td>3</td>\n",
       "      <td>3</td>\n",
       "      <td>4</td>\n",
       "      <td>...</td>\n",
       "      <td>NaN</td>\n",
       "      <td>NaN</td>\n",
       "      <td>NaN</td>\n",
       "      <td>NaN</td>\n",
       "      <td>NaN</td>\n",
       "      <td>2</td>\n",
       "      <td>2</td>\n",
       "      <td>2</td>\n",
       "      <td>2</td>\n",
       "      <td>2</td>\n",
       "    </tr>\n",
       "    <tr>\n",
       "      <th>top</th>\n",
       "      <td>NaN</td>\n",
       "      <td>M</td>\n",
       "      <td>black</td>\n",
       "      <td>23-27</td>\n",
       "      <td>NaN</td>\n",
       "      <td>False</td>\n",
       "      <td>NaN</td>\n",
       "      <td>Standard</td>\n",
       "      <td>High School Diploma</td>\n",
       "      <td>0</td>\n",
       "      <td>...</td>\n",
       "      <td>NaN</td>\n",
       "      <td>NaN</td>\n",
       "      <td>NaN</td>\n",
       "      <td>NaN</td>\n",
       "      <td>NaN</td>\n",
       "      <td>False</td>\n",
       "      <td>True</td>\n",
       "      <td>False</td>\n",
       "      <td>False</td>\n",
       "      <td>False</td>\n",
       "    </tr>\n",
       "    <tr>\n",
       "      <th>freq</th>\n",
       "      <td>NaN</td>\n",
       "      <td>22668</td>\n",
       "      <td>14847</td>\n",
       "      <td>5176</td>\n",
       "      <td>NaN</td>\n",
       "      <td>18730</td>\n",
       "      <td>NaN</td>\n",
       "      <td>9983</td>\n",
       "      <td>11390</td>\n",
       "      <td>8037</td>\n",
       "      <td>...</td>\n",
       "      <td>NaN</td>\n",
       "      <td>NaN</td>\n",
       "      <td>NaN</td>\n",
       "      <td>NaN</td>\n",
       "      <td>NaN</td>\n",
       "      <td>22399</td>\n",
       "      <td>14904</td>\n",
       "      <td>18111</td>\n",
       "      <td>21268</td>\n",
       "      <td>23222</td>\n",
       "    </tr>\n",
       "    <tr>\n",
       "      <th>mean</th>\n",
       "      <td>13314.004838</td>\n",
       "      <td>NaN</td>\n",
       "      <td>NaN</td>\n",
       "      <td>NaN</td>\n",
       "      <td>12.361796</td>\n",
       "      <td>NaN</td>\n",
       "      <td>6.082216</td>\n",
       "      <td>NaN</td>\n",
       "      <td>NaN</td>\n",
       "      <td>NaN</td>\n",
       "      <td>...</td>\n",
       "      <td>0.013741</td>\n",
       "      <td>0.012890</td>\n",
       "      <td>0.00755</td>\n",
       "      <td>0.482331</td>\n",
       "      <td>0.769295</td>\n",
       "      <td>NaN</td>\n",
       "      <td>NaN</td>\n",
       "      <td>NaN</td>\n",
       "      <td>NaN</td>\n",
       "      <td>NaN</td>\n",
       "    </tr>\n",
       "    <tr>\n",
       "      <th>std</th>\n",
       "      <td>7722.206327</td>\n",
       "      <td>NaN</td>\n",
       "      <td>NaN</td>\n",
       "      <td>NaN</td>\n",
       "      <td>7.133742</td>\n",
       "      <td>NaN</td>\n",
       "      <td>2.381442</td>\n",
       "      <td>NaN</td>\n",
       "      <td>NaN</td>\n",
       "      <td>NaN</td>\n",
       "      <td>...</td>\n",
       "      <td>0.061233</td>\n",
       "      <td>0.060581</td>\n",
       "      <td>0.04115</td>\n",
       "      <td>0.425004</td>\n",
       "      <td>0.813787</td>\n",
       "      <td>NaN</td>\n",
       "      <td>NaN</td>\n",
       "      <td>NaN</td>\n",
       "      <td>NaN</td>\n",
       "      <td>NaN</td>\n",
       "    </tr>\n",
       "    <tr>\n",
       "      <th>min</th>\n",
       "      <td>1.000000</td>\n",
       "      <td>NaN</td>\n",
       "      <td>NaN</td>\n",
       "      <td>NaN</td>\n",
       "      <td>1.000000</td>\n",
       "      <td>NaN</td>\n",
       "      <td>1.000000</td>\n",
       "      <td>NaN</td>\n",
       "      <td>NaN</td>\n",
       "      <td>NaN</td>\n",
       "      <td>...</td>\n",
       "      <td>0.000000</td>\n",
       "      <td>0.000000</td>\n",
       "      <td>0.00000</td>\n",
       "      <td>0.000000</td>\n",
       "      <td>0.000000</td>\n",
       "      <td>NaN</td>\n",
       "      <td>NaN</td>\n",
       "      <td>NaN</td>\n",
       "      <td>NaN</td>\n",
       "      <td>NaN</td>\n",
       "    </tr>\n",
       "    <tr>\n",
       "      <th>25%</th>\n",
       "      <td>6626.500000</td>\n",
       "      <td>NaN</td>\n",
       "      <td>NaN</td>\n",
       "      <td>NaN</td>\n",
       "      <td>6.000000</td>\n",
       "      <td>NaN</td>\n",
       "      <td>4.000000</td>\n",
       "      <td>NaN</td>\n",
       "      <td>NaN</td>\n",
       "      <td>NaN</td>\n",
       "      <td>...</td>\n",
       "      <td>0.000000</td>\n",
       "      <td>0.000000</td>\n",
       "      <td>0.00000</td>\n",
       "      <td>0.000000</td>\n",
       "      <td>0.000000</td>\n",
       "      <td>NaN</td>\n",
       "      <td>NaN</td>\n",
       "      <td>NaN</td>\n",
       "      <td>NaN</td>\n",
       "      <td>NaN</td>\n",
       "    </tr>\n",
       "    <tr>\n",
       "      <th>50%</th>\n",
       "      <td>13270.000000</td>\n",
       "      <td>NaN</td>\n",
       "      <td>NaN</td>\n",
       "      <td>NaN</td>\n",
       "      <td>12.000000</td>\n",
       "      <td>NaN</td>\n",
       "      <td>6.000000</td>\n",
       "      <td>NaN</td>\n",
       "      <td>NaN</td>\n",
       "      <td>NaN</td>\n",
       "      <td>...</td>\n",
       "      <td>0.000000</td>\n",
       "      <td>0.000000</td>\n",
       "      <td>0.00000</td>\n",
       "      <td>0.475728</td>\n",
       "      <td>0.635217</td>\n",
       "      <td>NaN</td>\n",
       "      <td>NaN</td>\n",
       "      <td>NaN</td>\n",
       "      <td>NaN</td>\n",
       "      <td>NaN</td>\n",
       "    </tr>\n",
       "    <tr>\n",
       "      <th>75%</th>\n",
       "      <td>20021.500000</td>\n",
       "      <td>NaN</td>\n",
       "      <td>NaN</td>\n",
       "      <td>NaN</td>\n",
       "      <td>18.000000</td>\n",
       "      <td>NaN</td>\n",
       "      <td>8.000000</td>\n",
       "      <td>NaN</td>\n",
       "      <td>NaN</td>\n",
       "      <td>NaN</td>\n",
       "      <td>...</td>\n",
       "      <td>0.000000</td>\n",
       "      <td>0.000000</td>\n",
       "      <td>0.00000</td>\n",
       "      <td>0.969325</td>\n",
       "      <td>1.000000</td>\n",
       "      <td>NaN</td>\n",
       "      <td>NaN</td>\n",
       "      <td>NaN</td>\n",
       "      <td>NaN</td>\n",
       "      <td>NaN</td>\n",
       "    </tr>\n",
       "    <tr>\n",
       "      <th>max</th>\n",
       "      <td>26761.000000</td>\n",
       "      <td>NaN</td>\n",
       "      <td>NaN</td>\n",
       "      <td>NaN</td>\n",
       "      <td>25.000000</td>\n",
       "      <td>NaN</td>\n",
       "      <td>10.000000</td>\n",
       "      <td>NaN</td>\n",
       "      <td>NaN</td>\n",
       "      <td>NaN</td>\n",
       "      <td>...</td>\n",
       "      <td>1.000000</td>\n",
       "      <td>1.000000</td>\n",
       "      <td>1.00000</td>\n",
       "      <td>1.000000</td>\n",
       "      <td>8.000000</td>\n",
       "      <td>NaN</td>\n",
       "      <td>NaN</td>\n",
       "      <td>NaN</td>\n",
       "      <td>NaN</td>\n",
       "      <td>NaN</td>\n",
       "    </tr>\n",
       "  </tbody>\n",
       "</table>\n",
       "<p>11 rows × 53 columns</p>\n",
       "</div>"
      ],
      "text/plain": [
       "                  id gender   race    age       address gang_affiliated  \\\n",
       "count   25835.000000  25835  25835  25835  25835.000000           22668   \n",
       "unique           NaN      2      2      7           NaN               2   \n",
       "top              NaN      M  black  23-27           NaN           False   \n",
       "freq             NaN  22668  14847   5176           NaN           18730   \n",
       "mean    13314.004838    NaN    NaN    NaN     12.361796             NaN   \n",
       "std      7722.206327    NaN    NaN    NaN      7.133742             NaN   \n",
       "min         1.000000    NaN    NaN    NaN      1.000000             NaN   \n",
       "25%      6626.500000    NaN    NaN    NaN      6.000000             NaN   \n",
       "50%     13270.000000    NaN    NaN    NaN     12.000000             NaN   \n",
       "75%     20021.500000    NaN    NaN    NaN     18.000000             NaN   \n",
       "max     26761.000000    NaN    NaN    NaN     25.000000             NaN   \n",
       "\n",
       "          risk_score supervision_level      education_level dependents  ...  \\\n",
       "count   25360.000000             24115                25835      25835  ...   \n",
       "unique           NaN                 3                    3          4  ...   \n",
       "top              NaN          Standard  High School Diploma          0  ...   \n",
       "freq             NaN              9983                11390       8037  ...   \n",
       "mean        6.082216               NaN                  NaN        NaN  ...   \n",
       "std         2.381442               NaN                  NaN        NaN  ...   \n",
       "min         1.000000               NaN                  NaN        NaN  ...   \n",
       "25%         4.000000               NaN                  NaN        NaN  ...   \n",
       "50%         6.000000               NaN                  NaN        NaN  ...   \n",
       "75%         8.000000               NaN                  NaN        NaN  ...   \n",
       "max        10.000000               NaN                  NaN        NaN  ...   \n",
       "\n",
       "       cocaine_positive_tests meth_positive_tests other_positive_tests  \\\n",
       "count            20663.000000        20663.000000          20663.00000   \n",
       "unique                    NaN                 NaN                  NaN   \n",
       "top                       NaN                 NaN                  NaN   \n",
       "freq                      NaN                 NaN                  NaN   \n",
       "mean                 0.013741            0.012890              0.00755   \n",
       "std                  0.061233            0.060581              0.04115   \n",
       "min                  0.000000            0.000000              0.00000   \n",
       "25%                  0.000000            0.000000              0.00000   \n",
       "50%                  0.000000            0.000000              0.00000   \n",
       "75%                  0.000000            0.000000              0.00000   \n",
       "max                  1.000000            1.000000              1.00000   \n",
       "\n",
       "       days_employed jobs_per_year employment_exempt  \\\n",
       "count   25373.000000  25027.000000             25835   \n",
       "unique           NaN           NaN                 2   \n",
       "top              NaN           NaN             False   \n",
       "freq             NaN           NaN             22399   \n",
       "mean        0.482331      0.769295               NaN   \n",
       "std         0.425004      0.813787               NaN   \n",
       "min         0.000000      0.000000               NaN   \n",
       "25%         0.000000      0.000000               NaN   \n",
       "50%         0.475728      0.635217               NaN   \n",
       "75%         0.969325      1.000000               NaN   \n",
       "max         1.000000      8.000000               NaN   \n",
       "\n",
       "       reoffended_within_3_years reoffended_in_year_1 reoffended_in_year_2  \\\n",
       "count                      25835                25835                25835   \n",
       "unique                         2                    2                    2   \n",
       "top                         True                False                False   \n",
       "freq                       14904                18111                21268   \n",
       "mean                         NaN                  NaN                  NaN   \n",
       "std                          NaN                  NaN                  NaN   \n",
       "min                          NaN                  NaN                  NaN   \n",
       "25%                          NaN                  NaN                  NaN   \n",
       "50%                          NaN                  NaN                  NaN   \n",
       "75%                          NaN                  NaN                  NaN   \n",
       "max                          NaN                  NaN                  NaN   \n",
       "\n",
       "       reoffended_in_year_3  \n",
       "count                 25835  \n",
       "unique                    2  \n",
       "top                   False  \n",
       "freq                  23222  \n",
       "mean                    NaN  \n",
       "std                     NaN  \n",
       "min                     NaN  \n",
       "25%                     NaN  \n",
       "50%                     NaN  \n",
       "75%                     NaN  \n",
       "max                     NaN  \n",
       "\n",
       "[11 rows x 53 columns]"
      ]
     },
     "execution_count": 6,
     "metadata": {},
     "output_type": "execute_result"
    }
   ],
   "source": [
    "df.describe(include=\"all\")"
   ]
  },
  {
   "cell_type": "code",
   "execution_count": 7,
   "id": "53204bef-72bb-43d4-869a-ba13d6493419",
   "metadata": {},
   "outputs": [
    {
     "name": "stdout",
     "output_type": "stream",
     "text": [
      "<class 'pandas.core.frame.DataFrame'>\n",
      "RangeIndex: 25835 entries, 0 to 25834\n",
      "Data columns (total 53 columns):\n",
      " #   Column                                Non-Null Count  Dtype  \n",
      "---  ------                                --------------  -----  \n",
      " 0   id                                    25835 non-null  int64  \n",
      " 1   gender                                25835 non-null  object \n",
      " 2   race                                  25835 non-null  object \n",
      " 3   age                                   25835 non-null  object \n",
      " 4   address                               25835 non-null  int64  \n",
      " 5   gang_affiliated                       22668 non-null  object \n",
      " 6   risk_score                            25360 non-null  float64\n",
      " 7   supervision_level                     24115 non-null  object \n",
      " 8   education_level                       25835 non-null  object \n",
      " 9   dependents                            25835 non-null  object \n",
      " 10  offence                               22558 non-null  object \n",
      " 11  years_in_prison                       25835 non-null  object \n",
      " 12  felony_arrests                        25835 non-null  object \n",
      " 13  misdemeanor_arrests                   25835 non-null  object \n",
      " 14  violence_arrests                      25835 non-null  object \n",
      " 15  property_arrests                      25835 non-null  object \n",
      " 16  drug_arrests                          25835 non-null  object \n",
      " 17  parole_violation_arrests              25835 non-null  object \n",
      " 18  domestic_violence_arrests             25835 non-null  bool   \n",
      " 19  gun_arrests                           25835 non-null  bool   \n",
      " 20  felony_convictions                    25835 non-null  object \n",
      " 21  misdemeanor_convictions               25835 non-null  object \n",
      " 22  violence_convictions                  25835 non-null  bool   \n",
      " 23  property_convictions                  25835 non-null  object \n",
      " 24  drug_convictions                      25835 non-null  object \n",
      " 25  parole_violation_convictions          25835 non-null  bool   \n",
      " 26  domestic_violence_convictions         25835 non-null  bool   \n",
      " 27  gun_convictions                       25835 non-null  bool   \n",
      " 28  parole_revocations                    25835 non-null  bool   \n",
      " 29  probation_revocations                 25835 non-null  bool   \n",
      " 30  mh_sa_programme                       25835 non-null  bool   \n",
      " 31  cs_programme                          25835 non-null  bool   \n",
      " 32  other_condition                       25835 non-null  bool   \n",
      " 33  electronic_monitoring_violations      25835 non-null  bool   \n",
      " 34  instruction_following_violations      25835 non-null  bool   \n",
      " 35  failure_to_report_violations          25835 non-null  bool   \n",
      " 36  moving_without_permission_violations  25835 non-null  bool   \n",
      " 37  num_delinquency_reports               25835 non-null  object \n",
      " 38  num_program_attendances               25835 non-null  object \n",
      " 39  num_unexcused_absences                25835 non-null  object \n",
      " 40  num_residence_changes                 25835 non-null  object \n",
      " 41  days_between_drug_tests               19732 non-null  float64\n",
      " 42  marijuana_positive_tests              20663 non-null  float64\n",
      " 43  cocaine_positive_tests                20663 non-null  float64\n",
      " 44  meth_positive_tests                   20663 non-null  float64\n",
      " 45  other_positive_tests                  20663 non-null  float64\n",
      " 46  days_employed                         25373 non-null  float64\n",
      " 47  jobs_per_year                         25027 non-null  float64\n",
      " 48  employment_exempt                     25835 non-null  bool   \n",
      " 49  reoffended_within_3_years             25835 non-null  bool   \n",
      " 50  reoffended_in_year_1                  25835 non-null  bool   \n",
      " 51  reoffended_in_year_2                  25835 non-null  bool   \n",
      " 52  reoffended_in_year_3                  25835 non-null  bool   \n",
      "dtypes: bool(20), float64(8), int64(2), object(23)\n",
      "memory usage: 7.0+ MB\n"
     ]
    }
   ],
   "source": [
    "df.info()"
   ]
  },
  {
   "cell_type": "code",
   "execution_count": 8,
   "id": "bf908060-f7b3-449d-9099-51e6a4c38195",
   "metadata": {},
   "outputs": [
    {
     "name": "stdout",
     "output_type": "stream",
     "text": [
      "id [12869 20883 18277 ...  6795  2633 24524]\n",
      "gender ['F' 'M']\n",
      "race ['white' 'black']\n",
      "age ['28-32' '33-37' '48 or older' '18-22' '43-47' '23-27' '38-42']\n",
      "address [17 18  9 19 20 15  3 22 23  7 11  5 25 10  4  8 14 12 24  2 21 16  6  1\n",
      " 13]\n",
      "gang_affiliated [nan False True]\n",
      "risk_score [ 8.  6.  4.  7.  9.  1. 10.  2.  5.  3. nan]\n",
      "supervision_level ['High' 'Standard' 'Specialized' nan]\n",
      "education_level ['At least some college' 'High School Diploma' 'Less than HS diploma']\n",
      "dependents ['3 or more' '0' '2' '1']\n",
      "offence ['Property' 'Violent/Non-Sex' nan 'Other' 'Drug' 'Violent/Sex']\n",
      "years_in_prison ['Less than 1 year' '1-2 years' 'More than 3 years'\n",
      " 'Greater than 2 to 3 years']\n",
      "felony_arrests ['3' '5' '2' '4' '6' '10 or more' '9' '0' '7' '1' '8']\n",
      "misdemeanor_arrests ['2' '6 or more' '1' '0' '4' '3' '5']\n",
      "violence_arrests ['0' '3 or more' '2' '1']\n",
      "property_arrests ['2' '5 or more' '1' '4' '3' '0']\n",
      "drug_arrests ['1' '0' '3' '4' '2' '5 or more']\n",
      "parole_violation_arrests ['2' '4' '5 or more' '0' '3' '1']\n",
      "domestic_violence_arrests [False  True]\n",
      "gun_arrests [False  True]\n",
      "felony_convictions ['1' '2' '0' '3 or more']\n",
      "misdemeanor_convictions ['1' '4 or more' '0' '3' '2']\n",
      "violence_convictions [False  True]\n",
      "property_convictions ['1' '3 or more' '0' '2']\n",
      "drug_convictions ['1' '0' '2 or more']\n",
      "parole_violation_convictions [False  True]\n",
      "domestic_violence_convictions [False  True]\n",
      "gun_convictions [False  True]\n",
      "parole_revocations [False  True]\n",
      "probation_revocations [False  True]\n",
      "mh_sa_programme [ True False]\n",
      "cs_programme [False  True]\n",
      "other_condition [ True False]\n",
      "electronic_monitoring_violations [False  True]\n",
      "instruction_following_violations [False  True]\n",
      "failure_to_report_violations [False  True]\n",
      "moving_without_permission_violations [False  True]\n",
      "num_delinquency_reports ['0' '4 or more' '3' '1' '2']\n",
      "num_program_attendances ['0' '2' '10 or more' '8' '1' '6' '5' '4' '7' '3' '9']\n",
      "num_unexcused_absences ['0' '2' '1' '3 or more']\n",
      "num_residence_changes ['0' '2' '3 or more' '1']\n",
      "days_between_drug_tests [        nan 65.875      85.2        ... 77.95833333 30.3030303\n",
      "  9.92307692]\n",
      "marijuana_positive_tests [       nan 0.         0.22222222 0.17647059 0.5        0.125\n",
      " 0.07142857 0.11111111 0.12       0.25       0.16       0.00854701\n",
      " 0.1        0.13043478 0.05       0.0625     0.07594936 0.2\n",
      " 0.2857143  0.18181819 0.09090909 0.11538462 0.15384616 0.14285715\n",
      " 0.08333334 0.33333334 0.08       0.16666667 0.04049844 0.01724138\n",
      " 0.03225806 0.06060606 0.03125    0.04545455 0.09756097 0.13333334\n",
      " 0.1875     0.04166667 0.04761905 0.01851852 0.27777779 0.30000001\n",
      " 0.03571429 0.00515464 0.07692308 0.02631579 0.05405405 0.075\n",
      " 0.08571429 0.08695652 0.27272728 0.07407408 1.         0.06666667\n",
      " 0.04651163 0.11428571 0.05882353 0.35714287 0.02857143 0.75\n",
      " 0.02985075 0.04       0.0952381  0.02941176 0.26666668 0.13636364\n",
      " 0.12820513 0.42857143 0.09302325 0.08108108 0.11764706 0.40000001\n",
      " 0.02702703 0.03030303 0.06451613 0.05263158 0.23076923 0.66666669\n",
      " 0.375      0.12359551 0.02380952 0.625      0.02       0.20689656\n",
      " 0.01607717 0.02564103 0.14697406 0.44444445 0.16216216 0.30769232\n",
      " 0.01886793 0.14814815 0.05555556 0.04854369 0.1923077  0.02173913\n",
      " 0.01162791 0.03333333 0.02325581 0.11904762 0.47826087 0.60000002\n",
      " 0.05128205 0.04347826 0.04444445 0.10344828 0.23999999 0.12244898\n",
      " 0.12138728 0.1388889  0.03846154 0.21052632 0.29411766 0.00552486\n",
      " 0.07246377 0.05454545 0.02150538 0.09433962 0.04285714 0.04878049\n",
      " 0.25641027 0.19047619 0.19444445 0.03448276 0.04255319 0.03703704\n",
      " 0.20512821 0.025      0.01666667 0.05755396 0.10638298 0.3125\n",
      " 0.06       0.10714286 0.01822917 0.0882353  0.02222222 0.18518518\n",
      " 0.09375    0.05714286 0.01149425 0.22727273 0.01818182 0.23529412\n",
      " 0.04918033 0.15625    0.12903225 0.09677419 0.02439024 0.03289474\n",
      " 0.05769231 0.15000001 0.15789473 0.20833333 0.21428572 0.10144927\n",
      " 0.1509434  0.06842105 0.12121213 0.12195122 0.35294118 0.01587302\n",
      " 0.23214285 0.04109589 0.23809524 0.13157895 0.12765957 0.11627907\n",
      " 0.11940298 0.02777778 0.0862069  0.08888889 0.16923077 0.06382979\n",
      " 0.07936508 0.03921569 0.0173913  0.02811245 0.10126583 0.00943396\n",
      " 0.01923077 0.00531915 0.10062893 0.71428573 0.13793103 0.02739726\n",
      " 0.01538462 0.18421052 0.06122449 0.06779661 0.36363637 0.03947368\n",
      " 0.06521739 0.17391305 0.10526316 0.53846157 0.08510638 0.11666667\n",
      " 0.06896552 0.09333333 0.00507614 0.04615385 0.0221519  0.02272727\n",
      " 0.078125   0.45454547 0.08450704 0.10909091 0.03636363 0.24324325\n",
      " 0.01351351 0.15151516 0.30434781 0.31999999 0.00588235 0.00961539\n",
      " 0.36842105 0.14583333 0.1724138  0.00787402 0.11363637 0.02040816\n",
      " 0.13953489 0.22580644 0.01428571 0.00892857 0.20454545 0.05357143\n",
      " 0.10416666 0.15217391 0.01041667 0.01875    0.17857143 0.01086956\n",
      " 0.80000001 0.20338982 0.15909091 0.5714286  0.1891892  0.2173913\n",
      " 0.01565558 0.16129032 0.2631579  0.47058824 0.11320755 0.19354838\n",
      " 0.01075269 0.16564417 0.05797102 0.00475059 0.09170306 0.04411765\n",
      " 0.00505051 0.37037036 0.07526882 0.28       0.02127659 0.20967741\n",
      " 0.1025641  0.00657895 0.09195402 0.1627907  0.12087912 0.0754717\n",
      " 0.09803922 0.00934579 0.07284768 0.01219512 0.03773585 0.0155642\n",
      " 0.26923078 0.13513513 0.01639344 0.04210527 0.12582782 0.54545456\n",
      " 0.29032257 0.04477612 0.07317073 0.00606061 0.01694915 0.06818182\n",
      " 0.05617978 0.17142858 0.10204082 0.41666666 0.00917431 0.053125\n",
      " 0.02083333 0.06557377 0.00420168 0.03278688 0.00704225 0.01785714\n",
      " 0.01709402 0.5625     0.07272727 0.00571429 0.13725491 0.03896104\n",
      " 0.05333334 0.01052632 0.01369863 0.02207505 0.26086956 0.17948718\n",
      " 0.15555556 0.01492537 0.02339181 0.17777778 0.01834862 0.01388889\n",
      " 0.02362205 0.07894737 0.01515152 0.203125   0.01470588 0.08433735\n",
      " 0.14035088 0.08064516 0.04705882 0.13207547 0.12962963 0.2962963\n",
      " 0.01333333 0.0945946  0.01190476 0.08988764 0.13541667 0.18461539\n",
      " 0.17073171 0.13829787 0.03474903 0.00865801 0.14634146 0.01408451\n",
      " 0.55555558 0.00884956 0.00483092 0.02597403 0.00970874 0.10810811\n",
      " 0.18644068 0.01111111 0.07913669 0.0610687  0.04081633 0.00856531\n",
      " 0.01510067 0.01754386 0.02816901 0.06976744 0.03076923 0.0338983\n",
      " 0.015625   0.34210527 0.05681818 0.00338983 0.18604651 0.07339449\n",
      " 0.04838709 0.58333331 0.09259259 0.01449275 0.01960784 0.05031446\n",
      " 0.06493507 0.05172414 0.13114753 0.00641026 0.00869565 0.00819672\n",
      " 0.00735294 0.00558659 0.16363636 0.140625   0.15686275 0.09589041]\n",
      "cocaine_positive_tests [       nan 0.         0.04545455 0.07142857 0.10714286 0.0625\n",
      " 0.11111111 0.03418804 0.08695652 0.13333334 0.2857143  0.07692308\n",
      " 0.5        0.09090909 0.01818182 0.22222222 0.22727273 0.01546392\n",
      " 0.33333334 0.125      0.04       0.02631579 0.25       0.02272727\n",
      " 0.08333334 0.0952381  0.2        1.         0.06666667 0.14285715\n",
      " 0.16666667 0.025      0.15151516 0.30000001 0.04761905 0.02564103\n",
      " 0.04347826 0.02325581 0.02702703 0.03030303 0.40000001 0.03225806\n",
      " 0.17142858 0.10526316 0.01123596 0.05555556 0.1        0.00288184\n",
      " 0.05263158 0.03571429 0.18518518 0.03703704 0.05       0.02\n",
      " 0.04838709 0.14814815 0.01612903 0.02941176 0.05882353 0.07407408\n",
      " 0.30769232 0.15384616 0.07317073 0.12121213 0.06451613 0.03448276\n",
      " 0.13513513 0.15789473 0.02898551 0.02877698 0.06060606 0.03846154\n",
      " 0.02857143 0.04166667 0.3888889  0.13043478 0.01388889 0.02127659\n",
      " 0.02222222 0.04878049 0.02380952 0.15625    0.03333333 0.11428571\n",
      " 0.09433962 0.02197802 0.01851852 0.01785714 0.09589041 0.11764706\n",
      " 0.16129032 0.04395604 0.04444445 0.18181819 0.00803213 0.06956521\n",
      " 0.01282051 0.2647059  0.01265823 0.06       0.13636364 0.38461539\n",
      " 0.15000001 0.0106383  0.1875     0.36363637 0.10416666 0.23529412\n",
      " 0.10344828 0.12328767 0.01428571 0.13157895 0.02777778 0.05405405\n",
      " 0.375      0.02173913 0.02666667 0.00316456 0.015625   0.01724138\n",
      " 0.66666669 0.29411766 0.10909091 0.12903225 0.09230769 0.05769231\n",
      " 0.05970149 0.09375    0.60000002 0.08       0.34782609 0.01136364\n",
      " 0.21428572 0.01071429 0.17647059 0.02238806 0.03125    0.02597403\n",
      " 0.00892857 0.03636363 0.05714286 0.01923077 0.02083333 0.01886793\n",
      " 0.02976191 0.23076923 0.1627907  0.009375   0.01086956 0.03806228\n",
      " 0.19047619 0.27272728 0.23809524 0.01960784 0.00475059 0.03174603\n",
      " 0.42857143 0.02150538 0.16       0.05128205 0.06896552 0.08571429\n",
      " 0.15217391 0.12307692 0.01869159 0.01324503 0.01639344 0.07368421\n",
      " 0.00380228 0.08064516 0.02439024 0.00606061 0.11940298 0.02061856\n",
      " 0.01694915 0.02040816 0.17391305 0.05813954 0.00420168 0.44444445\n",
      " 0.00352113 0.20588236 0.01142857 0.03278688 0.17857143 0.05825243\n",
      " 0.01333333 0.01052632 0.00909091 0.02739726 0.30434781 0.06410257\n",
      " 0.00584795 0.075      0.45454547 0.01162791 0.26086956 0.14666666\n",
      " 0.38095239 0.04615385 0.00787402 0.04705882 0.25641027 0.03921569\n",
      " 0.35714287 0.01369863 0.01111111 0.04411765 0.00485437 0.08108108\n",
      " 0.02469136 0.03370786 0.08888889 0.08163265 0.07619048 0.06382979\n",
      " 0.20512821 0.11363637 0.11538462 0.06521739 0.1025641  0.01769912\n",
      " 0.07843137 0.06122449 0.01666667 0.0338983  0.04123711 0.12\n",
      " 0.00428265 0.03508772 0.00838926 0.01754386 0.05084746 0.06862745\n",
      " 0.01449275 0.15714286 0.04651163 0.00338983 0.00917431 0.0882353\n",
      " 0.07246377 0.00854701 0.00628931 0.2631579  0.04477612 0.05217391\n",
      " 0.07352942 0.1038961  0.00367647 0.31818181]\n",
      "meth_positive_tests [       nan 0.         0.0625     0.00854701 0.05       0.33333334\n",
      " 0.06896552 0.11111111 0.06451613 0.03030303 0.16666667 0.08333334\n",
      " 0.125      0.01818182 0.1        0.01298701 0.04545455 0.04\n",
      " 0.09090909 0.2857143  0.10810811 0.11764706 0.05714286 0.14285715\n",
      " 1.         0.05405405 0.04166667 0.22222222 0.13043478 0.5\n",
      " 0.01492537 0.04761905 0.09677419 0.02631579 0.08       0.0952381\n",
      " 0.04347826 0.15000001 0.07142857 0.02325581 0.06122449 0.02702703\n",
      " 0.17647059 0.05555556 0.14705883 0.07692308 0.11627907 0.13333334\n",
      " 0.03225806 0.025      0.02777778 0.02564103 0.25       0.06666667\n",
      " 0.05263158 0.03773585 0.10714286 0.03125    0.2        0.01234568\n",
      " 0.11538462 0.01162791 0.04651163 0.12121213 0.12903225 0.08695652\n",
      " 0.03846154 0.01785714 0.00289017 0.05882353 0.02       0.00552486\n",
      " 0.02508961 0.03448276 0.02127659 0.23076923 0.30769232 0.15789473\n",
      " 0.11428571 0.15384616 0.07407408 0.02439024 0.04054054 0.01851852\n",
      " 0.02083333 0.03333333 0.02873563 0.10526316 0.02941176 0.01639344\n",
      " 0.42857143 0.01960784 0.00657895 0.02380952 0.01923077 0.02173913\n",
      " 0.02857143 0.02222222 0.04411765 0.01834862 0.06349207 0.375\n",
      " 0.01369863 0.06315789 0.03571429 0.0338983  0.1875     0.00869565\n",
      " 0.23529412 0.07317073 0.06060606 0.14754099 0.04444445 0.18181819\n",
      " 0.00190476 0.03076923 0.04285714 0.075      0.06976744 0.2173913\n",
      " 0.02040816 0.06521739 0.03703704 0.02985075 0.0221519  0.02272727\n",
      " 0.015625   0.05172414 0.00525394 0.1724138  0.66666669 0.30000001\n",
      " 0.02352941 0.40000001 0.00961539 0.01574803 0.21052632 0.00714286\n",
      " 0.00357143 0.06779661 0.00746269 0.12       0.27272728 0.13636364\n",
      " 0.34999999 0.03896104 0.10869565 0.00892857 0.02255639 0.35714287\n",
      " 0.0754717  0.02197802 0.16129032 0.05660377 0.01190476 0.01282051\n",
      " 0.12820513 0.03636363 0.03968254 0.05128205 0.02150538 0.19047619\n",
      " 0.10416666 0.0023753  0.07017544 0.09375    0.03921569 0.06382979\n",
      " 0.21428572 0.01886793 0.10344828 0.03738318 0.00662252 0.17857143\n",
      " 0.01219512 0.0125     0.04918033 0.1025641  0.01915709 0.01901141\n",
      " 0.25806451 0.01666667 0.00606061 0.09803922 0.08571429 0.27777779\n",
      " 0.03       0.07843137 0.02752294 0.2631579  0.01694915 0.00471698\n",
      " 0.03012048 0.02531646 0.05454545 0.01333333 0.00352113 0.0882353\n",
      " 0.60000002 0.00571429 0.08108108 0.01408451 0.01052632 0.09756097\n",
      " 0.00883002 0.44444445 0.06432749 0.00917431 0.03149606 0.28\n",
      " 0.36363637 0.02649007 0.01239669 0.01212121 0.04109589 0.04878049\n",
      " 0.01123596 0.004329   0.06818182 0.03364486 0.00219619 0.01355932\n",
      " 0.04830918 0.05617978 0.03883495 0.06       0.02898551 0.03508772\n",
      " 0.04081633 0.03947368 0.07894737 0.10666667 0.00980392 0.01449275\n",
      " 0.01       0.02936858 0.01724138 0.00628931 0.02597403 0.01605505\n",
      " 0.00769231 0.00966184 0.00724638 0.00558659 0.02054795]\n",
      "other_positive_tests [       nan 0.         0.00854701 0.08695652 0.03225806 0.01724138\n",
      " 1.         0.11111111 0.03030303 0.04       0.0625     0.05263158\n",
      " 0.15000001 0.01030928 0.05882353 0.2        0.04545455 0.5\n",
      " 0.04761905 0.02941176 0.06666667 0.14814815 0.09090909 0.05\n",
      " 0.22222222 0.1        0.23076923 0.17391305 0.02325581 0.13043478\n",
      " 0.04081633 0.02857143 0.01428571 0.07692308 0.04651163 0.125\n",
      " 0.01123596 0.02380952 0.01607717 0.00689655 0.02564103 0.03458213\n",
      " 0.03333333 0.11764706 0.13333334 0.01234568 0.15384616 0.14285715\n",
      " 0.0952381  0.05405405 0.33333334 0.09677419 0.04347826 0.25\n",
      " 0.16666667 0.075      0.12       0.05555556 0.00867052 0.03571429\n",
      " 0.00813008 0.01104972 0.01851852 0.05714286 0.0358423  0.03703704\n",
      " 0.04285714 0.05128205 0.02702703 0.00787402 0.04166667 0.08333334\n",
      " 0.08571429 0.00520833 0.03846154 0.04878049 0.07142857 0.02083333\n",
      " 0.02298851 0.30000001 0.01818182 0.02439024 0.14705883 0.08196721\n",
      " 0.01315789 0.01923077 0.06521739 0.02173913 0.07317073 0.00458716\n",
      " 0.03174603 0.01785714 0.12121213 0.06060606 0.18181819 0.02777778\n",
      " 0.0338983  0.06896552 0.03278688 0.00380952 0.01369863 0.025\n",
      " 0.06976744 0.11538462 0.02040816 0.40000001 0.01587302 0.01666667\n",
      " 0.1025641  0.03076923 0.03797468 0.06153846 0.03448276 0.66666669\n",
      " 0.02127659 0.01538462 0.375      0.00700525 0.10526316 0.07291666\n",
      " 0.15151516 0.00588235 0.00943396 0.0125     0.00564972 0.09615385\n",
      " 0.01607143 0.2857143  0.10714286 0.17647059 0.80000001 0.08474577\n",
      " 0.60000002 0.02       0.01010101 0.02631579 0.21052632 0.02255639\n",
      " 0.0041841  0.02197802 0.01574803 0.05952381 0.03921569 0.00444444\n",
      " 0.09302325 0.17948718 0.03125    0.01515152 0.06451613 0.07894737\n",
      " 0.27272728 0.13636364 0.06       0.02272727 0.00613497 0.02985075\n",
      " 0.03508772 0.19565217 0.02222222 0.06818182 0.00806452 0.2173913\n",
      " 0.01149425 0.13186814 0.01960784 0.08       0.01869159 0.0794702\n",
      " 0.03658536 0.04444445 0.09433962 0.00389105 0.01639344 0.09756097\n",
      " 0.15789473 0.02105263 0.00630252 0.05660377 0.11428571 0.07407408\n",
      " 0.01219512 0.03636363 0.01492537 0.01190476 0.01       0.25806451\n",
      " 0.04587156 0.01162791 0.00471698 0.01265823 0.04255319 0.04464286\n",
      " 0.01142857 0.10810811 0.10869565 0.03157895 0.00662252 0.01351351\n",
      " 0.01754386 0.12903225 0.00925926 0.03773585 0.05769231 0.01324503\n",
      " 0.01239669 0.1030303  0.08510638 0.02247191 0.01041667 0.00772201\n",
      " 0.06097561 0.02531646 0.01495327 0.01390922 0.00677966 0.01932367\n",
      " 0.08988764 0.02035623 0.10144927 0.00838926 0.1875     0.015625\n",
      " 0.01136364 0.02936858 0.01016949 0.00628931 0.02597403 0.02816901\n",
      " 0.00229358 0.03205128 0.03370786 0.16       0.23529412 0.00819672\n",
      " 0.01408451 0.0027933 ]\n",
      "days_employed [0.79112271 0.99810247 0.02875587 ... 0.72707659 0.23940678 0.10998553]\n",
      "jobs_per_year [0.95365535 1.38614801 0.21434859 ... 3.89946619 0.43585919 1.89576125]\n",
      "employment_exempt [False  True]\n",
      "reoffended_within_3_years [False  True]\n",
      "reoffended_in_year_1 [False  True]\n",
      "reoffended_in_year_2 [False  True]\n",
      "reoffended_in_year_3 [False  True]\n"
     ]
    }
   ],
   "source": [
    "for feature in features:\n",
    "    print(feature, df[feature].unique())"
   ]
  },
  {
   "cell_type": "markdown",
   "id": "34d6058c-5ec6-4a09-a104-d98a68e17ead",
   "metadata": {},
   "source": [
    "### Overview of the basic info & dataset cleaning"
   ]
  },
  {
   "cell_type": "markdown",
   "id": "4c81544a-f3d3-4e3d-a3c1-ff8eee82a25d",
   "metadata": {},
   "source": [
    "#### Looking at our dataset we can see that it is huge, but there are a few things that need to be improved.\n",
    "\n",
    "- In many places we have NULL values\n",
    "  - For gang affiliation we can see that for some reason women don't have their gang affiliation listed. Looking at SimpleImputer strategies, I decided that constant would be the best choice. I chose not tracked, since women can also be part of gangs.\n",
    "  - For Risk score I decided to delete NULLS,\n",
    "  - For Supervision, I delete, because if I don't know how well the criminal was supervised, i can not be sure how accurate the other data is regarding parole\n",
    "  - For Offence, I delete rows with missing values, because I think it is a noisy record, they might have forgot to include it.\n",
    "  - For missing data regarding drug tests, I will delete, because I am curios whether taking any drugs affects reoffension or not\n",
    "  - For job related data, I decided to replace missing values with 0, since i think it is safe to suppose that they didn't find a job, or that the people who kept track thought that by setting days employed to 0, jobs per year will also stay as 0.\n",
    "- Id needs to be dropped\n",
    "- We need to watch out such that the address is treated as a nominal value, not a numeric one\n"
   ]
  },
  {
   "cell_type": "code",
   "execution_count": 9,
   "id": "0a2ad200-64b4-43dd-ba96-91cb5e871258",
   "metadata": {},
   "outputs": [],
   "source": [
    "df=df.drop(columns=['id'],errors='ignore') #remove id column\n",
    "df=df.astype({'address':'string'}) #convert address to nominal\n",
    "df.dropna(subset=['risk_score','supervision_level','offence','days_between_drug_tests','marijuana_positive_tests','cocaine_positive_tests','meth_positive_tests','other_positive_tests'], inplace=True)\n",
    "#drop rows with nulls\n",
    "df=df.fillna({'gang_affiliated': 'Not tracked'})\n",
    "df=df.astype({'gang_affiliated': 'string'})\n",
    "features=list(df.columns)\n",
    "df.reset_index(drop=True, inplace=True)"
   ]
  },
  {
   "cell_type": "markdown",
   "id": "1c032ec6-5a27-4a29-b184-d41b41e49afb",
   "metadata": {},
   "source": [
    "### Altered dataframe basic info"
   ]
  },
  {
   "cell_type": "code",
   "execution_count": 10,
   "id": "34dbfe55-09d0-4e5e-8824-74a0730fef33",
   "metadata": {},
   "outputs": [
    {
     "data": {
      "text/html": [
       "<div>\n",
       "<style scoped>\n",
       "    .dataframe tbody tr th:only-of-type {\n",
       "        vertical-align: middle;\n",
       "    }\n",
       "\n",
       "    .dataframe tbody tr th {\n",
       "        vertical-align: top;\n",
       "    }\n",
       "\n",
       "    .dataframe thead th {\n",
       "        text-align: right;\n",
       "    }\n",
       "</style>\n",
       "<table border=\"1\" class=\"dataframe\">\n",
       "  <thead>\n",
       "    <tr style=\"text-align: right;\">\n",
       "      <th></th>\n",
       "      <th>gender</th>\n",
       "      <th>race</th>\n",
       "      <th>age</th>\n",
       "      <th>address</th>\n",
       "      <th>gang_affiliated</th>\n",
       "      <th>risk_score</th>\n",
       "      <th>supervision_level</th>\n",
       "      <th>education_level</th>\n",
       "      <th>dependents</th>\n",
       "      <th>offence</th>\n",
       "      <th>...</th>\n",
       "      <th>cocaine_positive_tests</th>\n",
       "      <th>meth_positive_tests</th>\n",
       "      <th>other_positive_tests</th>\n",
       "      <th>days_employed</th>\n",
       "      <th>jobs_per_year</th>\n",
       "      <th>employment_exempt</th>\n",
       "      <th>reoffended_within_3_years</th>\n",
       "      <th>reoffended_in_year_1</th>\n",
       "      <th>reoffended_in_year_2</th>\n",
       "      <th>reoffended_in_year_3</th>\n",
       "    </tr>\n",
       "  </thead>\n",
       "  <tbody>\n",
       "    <tr>\n",
       "      <th>count</th>\n",
       "      <td>16198</td>\n",
       "      <td>16198</td>\n",
       "      <td>16198</td>\n",
       "      <td>16198</td>\n",
       "      <td>16198</td>\n",
       "      <td>16198.000000</td>\n",
       "      <td>16198</td>\n",
       "      <td>16198</td>\n",
       "      <td>16198</td>\n",
       "      <td>16198</td>\n",
       "      <td>...</td>\n",
       "      <td>16198.000000</td>\n",
       "      <td>16198.000000</td>\n",
       "      <td>16198.000000</td>\n",
       "      <td>16198.000000</td>\n",
       "      <td>16198.000000</td>\n",
       "      <td>16198</td>\n",
       "      <td>16198</td>\n",
       "      <td>16198</td>\n",
       "      <td>16198</td>\n",
       "      <td>16198</td>\n",
       "    </tr>\n",
       "    <tr>\n",
       "      <th>unique</th>\n",
       "      <td>2</td>\n",
       "      <td>2</td>\n",
       "      <td>7</td>\n",
       "      <td>25</td>\n",
       "      <td>3</td>\n",
       "      <td>NaN</td>\n",
       "      <td>3</td>\n",
       "      <td>3</td>\n",
       "      <td>4</td>\n",
       "      <td>5</td>\n",
       "      <td>...</td>\n",
       "      <td>NaN</td>\n",
       "      <td>NaN</td>\n",
       "      <td>NaN</td>\n",
       "      <td>NaN</td>\n",
       "      <td>NaN</td>\n",
       "      <td>2</td>\n",
       "      <td>2</td>\n",
       "      <td>2</td>\n",
       "      <td>2</td>\n",
       "      <td>2</td>\n",
       "    </tr>\n",
       "    <tr>\n",
       "      <th>top</th>\n",
       "      <td>M</td>\n",
       "      <td>black</td>\n",
       "      <td>23-27</td>\n",
       "      <td>4</td>\n",
       "      <td>False</td>\n",
       "      <td>NaN</td>\n",
       "      <td>Standard</td>\n",
       "      <td>High School Diploma</td>\n",
       "      <td>0</td>\n",
       "      <td>Property</td>\n",
       "      <td>...</td>\n",
       "      <td>NaN</td>\n",
       "      <td>NaN</td>\n",
       "      <td>NaN</td>\n",
       "      <td>NaN</td>\n",
       "      <td>NaN</td>\n",
       "      <td>False</td>\n",
       "      <td>True</td>\n",
       "      <td>False</td>\n",
       "      <td>False</td>\n",
       "      <td>False</td>\n",
       "    </tr>\n",
       "    <tr>\n",
       "      <th>freq</th>\n",
       "      <td>14170</td>\n",
       "      <td>9087</td>\n",
       "      <td>3538</td>\n",
       "      <td>1061</td>\n",
       "      <td>11543</td>\n",
       "      <td>NaN</td>\n",
       "      <td>5988</td>\n",
       "      <td>7207</td>\n",
       "      <td>5160</td>\n",
       "      <td>5748</td>\n",
       "      <td>...</td>\n",
       "      <td>NaN</td>\n",
       "      <td>NaN</td>\n",
       "      <td>NaN</td>\n",
       "      <td>NaN</td>\n",
       "      <td>NaN</td>\n",
       "      <td>13991</td>\n",
       "      <td>9352</td>\n",
       "      <td>11775</td>\n",
       "      <td>13089</td>\n",
       "      <td>14378</td>\n",
       "    </tr>\n",
       "    <tr>\n",
       "      <th>mean</th>\n",
       "      <td>NaN</td>\n",
       "      <td>NaN</td>\n",
       "      <td>NaN</td>\n",
       "      <td>NaN</td>\n",
       "      <td>NaN</td>\n",
       "      <td>6.423139</td>\n",
       "      <td>NaN</td>\n",
       "      <td>NaN</td>\n",
       "      <td>NaN</td>\n",
       "      <td>NaN</td>\n",
       "      <td>...</td>\n",
       "      <td>0.014545</td>\n",
       "      <td>0.013281</td>\n",
       "      <td>0.007914</td>\n",
       "      <td>0.526367</td>\n",
       "      <td>0.821606</td>\n",
       "      <td>NaN</td>\n",
       "      <td>NaN</td>\n",
       "      <td>NaN</td>\n",
       "      <td>NaN</td>\n",
       "      <td>NaN</td>\n",
       "    </tr>\n",
       "    <tr>\n",
       "      <th>std</th>\n",
       "      <td>NaN</td>\n",
       "      <td>NaN</td>\n",
       "      <td>NaN</td>\n",
       "      <td>NaN</td>\n",
       "      <td>NaN</td>\n",
       "      <td>2.317911</td>\n",
       "      <td>NaN</td>\n",
       "      <td>NaN</td>\n",
       "      <td>NaN</td>\n",
       "      <td>NaN</td>\n",
       "      <td>...</td>\n",
       "      <td>0.063223</td>\n",
       "      <td>0.059046</td>\n",
       "      <td>0.041992</td>\n",
       "      <td>0.414982</td>\n",
       "      <td>0.823887</td>\n",
       "      <td>NaN</td>\n",
       "      <td>NaN</td>\n",
       "      <td>NaN</td>\n",
       "      <td>NaN</td>\n",
       "      <td>NaN</td>\n",
       "    </tr>\n",
       "    <tr>\n",
       "      <th>min</th>\n",
       "      <td>NaN</td>\n",
       "      <td>NaN</td>\n",
       "      <td>NaN</td>\n",
       "      <td>NaN</td>\n",
       "      <td>NaN</td>\n",
       "      <td>1.000000</td>\n",
       "      <td>NaN</td>\n",
       "      <td>NaN</td>\n",
       "      <td>NaN</td>\n",
       "      <td>NaN</td>\n",
       "      <td>...</td>\n",
       "      <td>0.000000</td>\n",
       "      <td>0.000000</td>\n",
       "      <td>0.000000</td>\n",
       "      <td>0.000000</td>\n",
       "      <td>0.000000</td>\n",
       "      <td>NaN</td>\n",
       "      <td>NaN</td>\n",
       "      <td>NaN</td>\n",
       "      <td>NaN</td>\n",
       "      <td>NaN</td>\n",
       "    </tr>\n",
       "    <tr>\n",
       "      <th>25%</th>\n",
       "      <td>NaN</td>\n",
       "      <td>NaN</td>\n",
       "      <td>NaN</td>\n",
       "      <td>NaN</td>\n",
       "      <td>NaN</td>\n",
       "      <td>5.000000</td>\n",
       "      <td>NaN</td>\n",
       "      <td>NaN</td>\n",
       "      <td>NaN</td>\n",
       "      <td>NaN</td>\n",
       "      <td>...</td>\n",
       "      <td>0.000000</td>\n",
       "      <td>0.000000</td>\n",
       "      <td>0.000000</td>\n",
       "      <td>0.000000</td>\n",
       "      <td>0.000000</td>\n",
       "      <td>NaN</td>\n",
       "      <td>NaN</td>\n",
       "      <td>NaN</td>\n",
       "      <td>NaN</td>\n",
       "      <td>NaN</td>\n",
       "    </tr>\n",
       "    <tr>\n",
       "      <th>50%</th>\n",
       "      <td>NaN</td>\n",
       "      <td>NaN</td>\n",
       "      <td>NaN</td>\n",
       "      <td>NaN</td>\n",
       "      <td>NaN</td>\n",
       "      <td>6.000000</td>\n",
       "      <td>NaN</td>\n",
       "      <td>NaN</td>\n",
       "      <td>NaN</td>\n",
       "      <td>NaN</td>\n",
       "      <td>...</td>\n",
       "      <td>0.000000</td>\n",
       "      <td>0.000000</td>\n",
       "      <td>0.000000</td>\n",
       "      <td>0.595600</td>\n",
       "      <td>0.689151</td>\n",
       "      <td>NaN</td>\n",
       "      <td>NaN</td>\n",
       "      <td>NaN</td>\n",
       "      <td>NaN</td>\n",
       "      <td>NaN</td>\n",
       "    </tr>\n",
       "    <tr>\n",
       "      <th>75%</th>\n",
       "      <td>NaN</td>\n",
       "      <td>NaN</td>\n",
       "      <td>NaN</td>\n",
       "      <td>NaN</td>\n",
       "      <td>NaN</td>\n",
       "      <td>8.000000</td>\n",
       "      <td>NaN</td>\n",
       "      <td>NaN</td>\n",
       "      <td>NaN</td>\n",
       "      <td>NaN</td>\n",
       "      <td>...</td>\n",
       "      <td>0.000000</td>\n",
       "      <td>0.000000</td>\n",
       "      <td>0.000000</td>\n",
       "      <td>0.980545</td>\n",
       "      <td>1.004814</td>\n",
       "      <td>NaN</td>\n",
       "      <td>NaN</td>\n",
       "      <td>NaN</td>\n",
       "      <td>NaN</td>\n",
       "      <td>NaN</td>\n",
       "    </tr>\n",
       "    <tr>\n",
       "      <th>max</th>\n",
       "      <td>NaN</td>\n",
       "      <td>NaN</td>\n",
       "      <td>NaN</td>\n",
       "      <td>NaN</td>\n",
       "      <td>NaN</td>\n",
       "      <td>10.000000</td>\n",
       "      <td>NaN</td>\n",
       "      <td>NaN</td>\n",
       "      <td>NaN</td>\n",
       "      <td>NaN</td>\n",
       "      <td>...</td>\n",
       "      <td>1.000000</td>\n",
       "      <td>1.000000</td>\n",
       "      <td>1.000000</td>\n",
       "      <td>1.000000</td>\n",
       "      <td>8.000000</td>\n",
       "      <td>NaN</td>\n",
       "      <td>NaN</td>\n",
       "      <td>NaN</td>\n",
       "      <td>NaN</td>\n",
       "      <td>NaN</td>\n",
       "    </tr>\n",
       "  </tbody>\n",
       "</table>\n",
       "<p>11 rows × 52 columns</p>\n",
       "</div>"
      ],
      "text/plain": [
       "       gender   race    age address gang_affiliated    risk_score  \\\n",
       "count   16198  16198  16198   16198           16198  16198.000000   \n",
       "unique      2      2      7      25               3           NaN   \n",
       "top         M  black  23-27       4           False           NaN   \n",
       "freq    14170   9087   3538    1061           11543           NaN   \n",
       "mean      NaN    NaN    NaN     NaN             NaN      6.423139   \n",
       "std       NaN    NaN    NaN     NaN             NaN      2.317911   \n",
       "min       NaN    NaN    NaN     NaN             NaN      1.000000   \n",
       "25%       NaN    NaN    NaN     NaN             NaN      5.000000   \n",
       "50%       NaN    NaN    NaN     NaN             NaN      6.000000   \n",
       "75%       NaN    NaN    NaN     NaN             NaN      8.000000   \n",
       "max       NaN    NaN    NaN     NaN             NaN     10.000000   \n",
       "\n",
       "       supervision_level      education_level dependents   offence  ...  \\\n",
       "count              16198                16198      16198     16198  ...   \n",
       "unique                 3                    3          4         5  ...   \n",
       "top             Standard  High School Diploma          0  Property  ...   \n",
       "freq                5988                 7207       5160      5748  ...   \n",
       "mean                 NaN                  NaN        NaN       NaN  ...   \n",
       "std                  NaN                  NaN        NaN       NaN  ...   \n",
       "min                  NaN                  NaN        NaN       NaN  ...   \n",
       "25%                  NaN                  NaN        NaN       NaN  ...   \n",
       "50%                  NaN                  NaN        NaN       NaN  ...   \n",
       "75%                  NaN                  NaN        NaN       NaN  ...   \n",
       "max                  NaN                  NaN        NaN       NaN  ...   \n",
       "\n",
       "       cocaine_positive_tests meth_positive_tests other_positive_tests  \\\n",
       "count            16198.000000        16198.000000         16198.000000   \n",
       "unique                    NaN                 NaN                  NaN   \n",
       "top                       NaN                 NaN                  NaN   \n",
       "freq                      NaN                 NaN                  NaN   \n",
       "mean                 0.014545            0.013281             0.007914   \n",
       "std                  0.063223            0.059046             0.041992   \n",
       "min                  0.000000            0.000000             0.000000   \n",
       "25%                  0.000000            0.000000             0.000000   \n",
       "50%                  0.000000            0.000000             0.000000   \n",
       "75%                  0.000000            0.000000             0.000000   \n",
       "max                  1.000000            1.000000             1.000000   \n",
       "\n",
       "       days_employed jobs_per_year employment_exempt  \\\n",
       "count   16198.000000  16198.000000             16198   \n",
       "unique           NaN           NaN                 2   \n",
       "top              NaN           NaN             False   \n",
       "freq             NaN           NaN             13991   \n",
       "mean        0.526367      0.821606               NaN   \n",
       "std         0.414982      0.823887               NaN   \n",
       "min         0.000000      0.000000               NaN   \n",
       "25%         0.000000      0.000000               NaN   \n",
       "50%         0.595600      0.689151               NaN   \n",
       "75%         0.980545      1.004814               NaN   \n",
       "max         1.000000      8.000000               NaN   \n",
       "\n",
       "       reoffended_within_3_years reoffended_in_year_1 reoffended_in_year_2  \\\n",
       "count                      16198                16198                16198   \n",
       "unique                         2                    2                    2   \n",
       "top                         True                False                False   \n",
       "freq                        9352                11775                13089   \n",
       "mean                         NaN                  NaN                  NaN   \n",
       "std                          NaN                  NaN                  NaN   \n",
       "min                          NaN                  NaN                  NaN   \n",
       "25%                          NaN                  NaN                  NaN   \n",
       "50%                          NaN                  NaN                  NaN   \n",
       "75%                          NaN                  NaN                  NaN   \n",
       "max                          NaN                  NaN                  NaN   \n",
       "\n",
       "       reoffended_in_year_3  \n",
       "count                 16198  \n",
       "unique                    2  \n",
       "top                   False  \n",
       "freq                  14378  \n",
       "mean                    NaN  \n",
       "std                     NaN  \n",
       "min                     NaN  \n",
       "25%                     NaN  \n",
       "50%                     NaN  \n",
       "75%                     NaN  \n",
       "max                     NaN  \n",
       "\n",
       "[11 rows x 52 columns]"
      ]
     },
     "execution_count": 10,
     "metadata": {},
     "output_type": "execute_result"
    }
   ],
   "source": [
    "df.describe(include=\"all\")"
   ]
  },
  {
   "cell_type": "code",
   "execution_count": 11,
   "id": "50523087-7696-4903-b48f-43ff53c62472",
   "metadata": {},
   "outputs": [
    {
     "name": "stdout",
     "output_type": "stream",
     "text": [
      "<class 'pandas.core.frame.DataFrame'>\n",
      "RangeIndex: 16198 entries, 0 to 16197\n",
      "Data columns (total 52 columns):\n",
      " #   Column                                Non-Null Count  Dtype  \n",
      "---  ------                                --------------  -----  \n",
      " 0   gender                                16198 non-null  object \n",
      " 1   race                                  16198 non-null  object \n",
      " 2   age                                   16198 non-null  object \n",
      " 3   address                               16198 non-null  string \n",
      " 4   gang_affiliated                       16198 non-null  string \n",
      " 5   risk_score                            16198 non-null  float64\n",
      " 6   supervision_level                     16198 non-null  object \n",
      " 7   education_level                       16198 non-null  object \n",
      " 8   dependents                            16198 non-null  object \n",
      " 9   offence                               16198 non-null  object \n",
      " 10  years_in_prison                       16198 non-null  object \n",
      " 11  felony_arrests                        16198 non-null  object \n",
      " 12  misdemeanor_arrests                   16198 non-null  object \n",
      " 13  violence_arrests                      16198 non-null  object \n",
      " 14  property_arrests                      16198 non-null  object \n",
      " 15  drug_arrests                          16198 non-null  object \n",
      " 16  parole_violation_arrests              16198 non-null  object \n",
      " 17  domestic_violence_arrests             16198 non-null  bool   \n",
      " 18  gun_arrests                           16198 non-null  bool   \n",
      " 19  felony_convictions                    16198 non-null  object \n",
      " 20  misdemeanor_convictions               16198 non-null  object \n",
      " 21  violence_convictions                  16198 non-null  bool   \n",
      " 22  property_convictions                  16198 non-null  object \n",
      " 23  drug_convictions                      16198 non-null  object \n",
      " 24  parole_violation_convictions          16198 non-null  bool   \n",
      " 25  domestic_violence_convictions         16198 non-null  bool   \n",
      " 26  gun_convictions                       16198 non-null  bool   \n",
      " 27  parole_revocations                    16198 non-null  bool   \n",
      " 28  probation_revocations                 16198 non-null  bool   \n",
      " 29  mh_sa_programme                       16198 non-null  bool   \n",
      " 30  cs_programme                          16198 non-null  bool   \n",
      " 31  other_condition                       16198 non-null  bool   \n",
      " 32  electronic_monitoring_violations      16198 non-null  bool   \n",
      " 33  instruction_following_violations      16198 non-null  bool   \n",
      " 34  failure_to_report_violations          16198 non-null  bool   \n",
      " 35  moving_without_permission_violations  16198 non-null  bool   \n",
      " 36  num_delinquency_reports               16198 non-null  object \n",
      " 37  num_program_attendances               16198 non-null  object \n",
      " 38  num_unexcused_absences                16198 non-null  object \n",
      " 39  num_residence_changes                 16198 non-null  object \n",
      " 40  days_between_drug_tests               16198 non-null  float64\n",
      " 41  marijuana_positive_tests              16198 non-null  float64\n",
      " 42  cocaine_positive_tests                16198 non-null  float64\n",
      " 43  meth_positive_tests                   16198 non-null  float64\n",
      " 44  other_positive_tests                  16198 non-null  float64\n",
      " 45  days_employed                         16198 non-null  float64\n",
      " 46  jobs_per_year                         16198 non-null  float64\n",
      " 47  employment_exempt                     16198 non-null  bool   \n",
      " 48  reoffended_within_3_years             16198 non-null  bool   \n",
      " 49  reoffended_in_year_1                  16198 non-null  bool   \n",
      " 50  reoffended_in_year_2                  16198 non-null  bool   \n",
      " 51  reoffended_in_year_3                  16198 non-null  bool   \n",
      "dtypes: bool(20), float64(8), object(22), string(2)\n",
      "memory usage: 4.3+ MB\n"
     ]
    }
   ],
   "source": [
    "df.info()"
   ]
  },
  {
   "cell_type": "markdown",
   "id": "c3826994-20e5-4ac4-9894-7724c233e5b9",
   "metadata": {},
   "source": [
    "### Feature listing"
   ]
  },
  {
   "cell_type": "code",
   "execution_count": 12,
   "id": "efd2604e-6ec7-4681-a214-1bc0458d6aae",
   "metadata": {},
   "outputs": [],
   "source": [
    "numeric_features = ['risk_score','days_between_drug_tests','marijuana_positive_tests','cocaine_positive_tests','meth_positive_tests','other_positive_tests','days_employed','jobs_per_year']\n",
    "\n",
    "nominal_features = ['gender','race','age','address','gang_affiliated','supervision_level',\n",
    " 'education_level',\n",
    " 'dependents',\n",
    " 'offence',\n",
    " 'years_in_prison',\n",
    " 'felony_arrests',\n",
    " 'misdemeanor_arrests',\n",
    " 'violence_arrests',\n",
    " 'property_arrests',\n",
    " 'drug_arrests',\n",
    " 'parole_violation_arrests',\n",
    " 'domestic_violence_arrests',\n",
    " 'gun_arrests',\n",
    " 'felony_convictions',\n",
    " 'misdemeanor_convictions',\n",
    " 'violence_convictions',\n",
    " 'property_convictions',\n",
    " 'drug_convictions',\n",
    " 'parole_violation_convictions',\n",
    " 'domestic_violence_convictions',\n",
    " 'gun_convictions',\n",
    " 'parole_revocations',\n",
    " 'probation_revocations',\n",
    " 'mh_sa_programme',\n",
    " 'cs_programme',\n",
    " 'other_condition',\n",
    " 'electronic_monitoring_violations',\n",
    " 'instruction_following_violations',\n",
    " 'failure_to_report_violations',\n",
    " 'moving_without_permission_violations',\n",
    " 'num_delinquency_reports',\n",
    " 'num_program_attendances',\n",
    " 'num_unexcused_absences',\n",
    " 'num_residence_changes',\n",
    "'employment_exempt']\n",
    "\n",
    "recidivism_features=['reoffended_within_3_years','reoffended_in_year_1','reoffended_in_year_2','reoffended_in_year_3']\n",
    "\n",
    "predictive_features = nominal_features + numeric_features"
   ]
  },
  {
   "cell_type": "markdown",
   "id": "cdfbb2ab-08c5-481f-b19b-086b9a37a61d",
   "metadata": {},
   "source": [
    "### Reoffender pie chart"
   ]
  },
  {
   "cell_type": "code",
   "execution_count": 13,
   "id": "ad410aed-a4cc-4d21-86f5-4a1fd4d3c8d8",
   "metadata": {},
   "outputs": [],
   "source": [
    "#a function to see when do people reoffend\n",
    "def is_reoffender(a):\n",
    "    \n",
    "    if(a['reoffended_in_year_1']==True):\n",
    "        return 'First year reoffender'\n",
    "    if(a['reoffended_in_year_2']==True):\n",
    "        return 'Second year reoffender'\n",
    "    if(a['reoffended_in_year_3']==True):\n",
    "        return 'Third year reoffender'\n",
    "    return 'Not a reoffender'"
   ]
  },
  {
   "cell_type": "code",
   "execution_count": 14,
   "id": "d38fac98-ec1c-4f44-9e03-a1c25ece0e10",
   "metadata": {},
   "outputs": [
    {
     "data": {
      "text/plain": [
       "<Axes: >"
      ]
     },
     "execution_count": 14,
     "metadata": {},
     "output_type": "execute_result"
    },
    {
     "data": {
      "image/png": "[encoded data removed]",
      "text/plain": [
       "<Figure size 640x480 with 1 Axes>"
      ]
     },
     "metadata": {},
     "output_type": "display_data"
    }
   ],
   "source": [
    "df[recidivism_features].apply(is_reoffender,axis=1).value_counts().plot.pie(label='',explode=(0.1,0,0,0))\n",
    "#The axis parameter determines if we want to pass a row or not"
   ]
  },
  {
   "cell_type": "markdown",
   "id": "ab918f9b-8f52-4704-ba15-1691ca4e17d3",
   "metadata": {},
   "source": [
    "#### Looking at the picture above we can see that most people reoffend in the next 3 years.\n",
    "\n",
    "#### Most of them reoffend in the first year"
   ]
  },
  {
   "cell_type": "markdown",
   "id": "12097a3e-9f26-45f0-b532-5c72b31fb280",
   "metadata": {},
   "source": [
    "### Splitting"
   ]
  },
  {
   "cell_type": "markdown",
   "id": "4875bd2d-e9d0-49ba-a345-050321a2b898",
   "metadata": {},
   "source": [
    "#### Initially I tried to stratify with the union of nominal and recidivism features, but then the sets become too small.\n",
    "\n",
    "#### This is because the dataset is split into 2^features (some of these sets might be empty or just contain 1 element)\n",
    "\n",
    "#### So I have to select some features where underrepresentation is a risk"
   ]
  },
  {
   "cell_type": "code",
   "execution_count": 15,
   "id": "9772a811-677d-441e-954a-c42aad427589",
   "metadata": {},
   "outputs": [
    {
     "data": {
      "text/plain": [
       "gender  race   age          gang_affiliated  education_level        reoffended_within_3_years\n",
       "M       black  23-27        False            Less than HS diploma   True                         364\n",
       "                                             High School Diploma    True                         363\n",
       "               28-32        False            Less than HS diploma   True                         357\n",
       "                                             High School Diploma    True                         304\n",
       "               23-27        True             Less than HS diploma   True                         304\n",
       "                                                                                                ... \n",
       "        white  48 or older  True             At least some college  False                          1\n",
       "        black  48 or older  True             High School Diploma    False                          1\n",
       "                                             At least some college  True                           1\n",
       "               43-47        True             Less than HS diploma   False                          1\n",
       "        white  48 or older  True             Less than HS diploma   True                           1\n",
       "Name: count, Length: 249, dtype: int64"
      ]
     },
     "execution_count": 15,
     "metadata": {},
     "output_type": "execute_result"
    }
   ],
   "source": [
    "stratify_features=['gender','race','age','gang_affiliated','education_level','reoffended_within_3_years']\n",
    "df[stratify_features].value_counts()"
   ]
  },
  {
   "cell_type": "code",
   "execution_count": 16,
   "id": "6731bd47-af9b-40b1-9f9b-5ae544c9d302",
   "metadata": {},
   "outputs": [
    {
     "data": {
      "text/plain": [
       "gender  education_level        reoffended_within_3_years\n",
       "M       High School Diploma    True                         3929\n",
       "        Less than HS diploma   True                         3468\n",
       "        High School Diploma    False                        2437\n",
       "        Less than HS diploma   False                        2170\n",
       "        At least some college  False                        1140\n",
       "                               True                         1026\n",
       "F       High School Diploma    False                         424\n",
       "                               True                          417\n",
       "        Less than HS diploma   False                         348\n",
       "        At least some college  False                         327\n",
       "        Less than HS diploma   True                          296\n",
       "        At least some college  True                          216\n",
       "Name: count, dtype: int64"
      ]
     },
     "execution_count": 16,
     "metadata": {},
     "output_type": "execute_result"
    }
   ],
   "source": [
    "stratify_features=['gender','education_level','reoffended_within_3_years']\n",
    "df[stratify_features].value_counts()"
   ]
  },
  {
   "cell_type": "markdown",
   "id": "d52dbe99-e345-449b-b43a-9134647258f2",
   "metadata": {},
   "source": [
    "#### But to keep things simple, first we stratify based only on one feature, which is the outcome (like it is commonly done in real life)"
   ]
  },
  {
   "cell_type": "code",
   "execution_count": 17,
   "id": "629e08ce-0dc6-4f67-a863-4dc668571a05",
   "metadata": {},
   "outputs": [
    {
     "data": {
      "text/plain": [
       "reoffended_within_3_years\n",
       "True                         9352\n",
       "False                        6846\n",
       "Name: count, dtype: int64"
      ]
     },
     "execution_count": 17,
     "metadata": {},
     "output_type": "execute_result"
    }
   ],
   "source": [
    "stratify_features=['reoffended_within_3_years']\n",
    "df[stratify_features].value_counts()"
   ]
  },
  {
   "cell_type": "code",
   "execution_count": 18,
   "id": "7d396ac1-fab0-4277-8f75-78944c979c28",
   "metadata": {},
   "outputs": [],
   "source": [
    "dev_df, test_df = train_test_split(df,train_size=0.8,stratify = df[stratify_features],  random_state=2)"
   ]
  },
  {
   "cell_type": "markdown",
   "id": "12dadb40-57b3-4fbd-b509-3dbe9aef2b8a",
   "metadata": {},
   "source": [
    "### Dummy classifier"
   ]
  },
  {
   "cell_type": "code",
   "execution_count": 19,
   "id": "78c7cf15-83c8-4673-b245-e2ddb1061354",
   "metadata": {},
   "outputs": [],
   "source": [
    "dev_X = dev_df[predictive_features]\n",
    "test_X = test_df[predictive_features]\n",
    "\n",
    "label_encoder=LabelEncoder()\n",
    "label_encoder.fit(df['reoffended_within_3_years'])\n",
    "dev_y = label_encoder.transform(dev_df['reoffended_within_3_years'])\n",
    "test_y = label_encoder.transform(test_df['reoffended_within_3_years'])\n"
   ]
  },
  {
   "cell_type": "code",
   "execution_count": 20,
   "id": "5fd9f754-cce9-4228-806f-55aa1d48be5c",
   "metadata": {},
   "outputs": [
    {
     "data": {
      "text/plain": [
       "0.5774691358024692"
      ]
     },
     "execution_count": 20,
     "metadata": {},
     "output_type": "execute_result"
    }
   ],
   "source": [
    "maj=DummyClassifier()\n",
    "maj.fit(dev_X,dev_y)\n",
    "accuracy_score(test_y,maj.predict(test_X))"
   ]
  },
  {
   "cell_type": "markdown",
   "id": "a3d18d9e-3825-4ac9-83cb-00a4f6138354",
   "metadata": {},
   "source": [
    "### Some plots"
   ]
  },
  {
   "cell_type": "code",
   "execution_count": 21,
   "id": "39d59ae4-1911-4f79-9e2c-bda0bf2dc78f",
   "metadata": {},
   "outputs": [
    {
     "data": {
      "text/html": [
       "<div>\n",
       "<style scoped>\n",
       "    .dataframe tbody tr th:only-of-type {\n",
       "        vertical-align: middle;\n",
       "    }\n",
       "\n",
       "    .dataframe tbody tr th {\n",
       "        vertical-align: top;\n",
       "    }\n",
       "\n",
       "    .dataframe thead th {\n",
       "        text-align: right;\n",
       "    }\n",
       "</style>\n",
       "<table border=\"1\" class=\"dataframe\">\n",
       "  <thead>\n",
       "    <tr style=\"text-align: right;\">\n",
       "      <th>gender</th>\n",
       "      <th>F</th>\n",
       "      <th>M</th>\n",
       "    </tr>\n",
       "    <tr>\n",
       "      <th>age</th>\n",
       "      <th></th>\n",
       "      <th></th>\n",
       "    </tr>\n",
       "  </thead>\n",
       "  <tbody>\n",
       "    <tr>\n",
       "      <th>18-22</th>\n",
       "      <td>86.0</td>\n",
       "      <td>1301.0</td>\n",
       "    </tr>\n",
       "    <tr>\n",
       "      <th>23-27</th>\n",
       "      <td>374.0</td>\n",
       "      <td>3164.0</td>\n",
       "    </tr>\n",
       "    <tr>\n",
       "      <th>28-32</th>\n",
       "      <td>400.0</td>\n",
       "      <td>2770.0</td>\n",
       "    </tr>\n",
       "    <tr>\n",
       "      <th>33-37</th>\n",
       "      <td>367.0</td>\n",
       "      <td>2254.0</td>\n",
       "    </tr>\n",
       "    <tr>\n",
       "      <th>38-42</th>\n",
       "      <td>285.0</td>\n",
       "      <td>1516.0</td>\n",
       "    </tr>\n",
       "    <tr>\n",
       "      <th>43-47</th>\n",
       "      <td>260.0</td>\n",
       "      <td>1341.0</td>\n",
       "    </tr>\n",
       "    <tr>\n",
       "      <th>48 or older</th>\n",
       "      <td>256.0</td>\n",
       "      <td>1824.0</td>\n",
       "    </tr>\n",
       "  </tbody>\n",
       "</table>\n",
       "</div>"
      ],
      "text/plain": [
       "gender           F       M\n",
       "age                       \n",
       "18-22         86.0  1301.0\n",
       "23-27        374.0  3164.0\n",
       "28-32        400.0  2770.0\n",
       "33-37        367.0  2254.0\n",
       "38-42        285.0  1516.0\n",
       "43-47        260.0  1341.0\n",
       "48 or older  256.0  1824.0"
      ]
     },
     "execution_count": 21,
     "metadata": {},
     "output_type": "execute_result"
    }
   ],
   "source": [
    "age_and_gender = df[['age','gender']].value_counts().to_frame().reset_index( level = [1])\n",
    "pivot = pd.pivot_table(data = age_and_gender, index=['age'],columns=['gender'],values='count')\n",
    "pivot"
   ]
  },
  {
   "cell_type": "markdown",
   "id": "2cf51094-a243-470a-97fe-38eba397986b",
   "metadata": {},
   "source": [
    "I spent a looot of time writing these four lines of code, so let's break it down:\n",
    "- first, I extract the columns age and gender from my dataframe, then count how many times they occur\n",
    "- this gives me a Series, however a Dataframe is more useful in this situation, so I convert it\n",
    "- Now the interesting part: by making selections from the dataframe using a list and counting them, everything that is in the list becomes an index\n",
    "- This makes our dataframe Multi-Indexed, which needs to be simplified. To do this I reset my index (the level parameter marks which indexes to \"downgrade\")\n",
    "- next up I use a pivot Table to reorganize my data\n",
    "- I choose age to be the key, and I use genders to classify my counts into columns\n",
    "- From here i just have to do a barplot and stack my items"
   ]
  },
  {
   "cell_type": "code",
   "execution_count": 22,
   "id": "33afb8ba-a1fc-412f-9fa5-21b2714a100e",
   "metadata": {},
   "outputs": [
    {
     "data": {
      "text/plain": [
       "<Axes: xlabel='age'>"
      ]
     },
     "execution_count": 22,
     "metadata": {},
     "output_type": "execute_result"
    },
    {
     "data": {
      "image/png": "[encoded data removed]",
      "text/plain": [
       "<Figure size 640x480 with 1 Axes>"
      ]
     },
     "metadata": {},
     "output_type": "display_data"
    }
   ],
   "source": [
    "pivot.plot.bar(stacked='True')"
   ]
  },
  {
   "cell_type": "markdown",
   "id": "5499ed3b-24d8-4c7c-8ca0-a702934ead79",
   "metadata": {},
   "source": [
    "#### Looking at this plot we can see that a vast majority of ex-inmates are male, with most of them falling in the 23-27 age group"
   ]
  },
  {
   "cell_type": "markdown",
   "id": "6608317c-82a4-4643-8465-050504baf347",
   "metadata": {},
   "source": [
    "### Preprocessing"
   ]
  },
  {
   "cell_type": "code",
   "execution_count": 23,
   "id": "47e921b8-f69e-43ec-874c-776d714e4940",
   "metadata": {},
   "outputs": [],
   "source": [
    "preprocessor = ColumnTransformer([\n",
    "    (\"numeric\",StandardScaler(),\n",
    "     numeric_features),\n",
    "    ('nominal', Pipeline([\n",
    "        (\"imputer\", SimpleImputer(missing_values=np.nan, strategy=\"most_frequent\")),\n",
    "        (\"binarizer\",OneHotEncoder(handle_unknown=\"ignore\"))\n",
    "    ]),\n",
    "    nominal_features)\n",
    "    ],\n",
    "    remainder='passthrough'\n",
    ")"
   ]
  },
  {
   "cell_type": "code",
   "execution_count": 24,
   "id": "6f923e0f-e59a-4cd4-a136-e2294d4f30aa",
   "metadata": {},
   "outputs": [],
   "source": [
    "ss = ShuffleSplit(n_splits=1, train_size=0.75, random_state=2) #We can use a simple shuffle split, because our dataset is huge"
   ]
  },
  {
   "cell_type": "markdown",
   "id": "1576ea96-1ba0-4276-b97e-4c538f4c1b9c",
   "metadata": {},
   "source": [
    "### Pipelining"
   ]
  },
  {
   "cell_type": "code",
   "execution_count": 25,
   "id": "4463d170-6aad-4bbd-8d58-26f59d850072",
   "metadata": {},
   "outputs": [
    {
     "data": {
      "text/plain": [
       "({'predictor__n_neighbors': 14}, 0.6570987654320988)"
      ]
     },
     "execution_count": 25,
     "metadata": {},
     "output_type": "execute_result"
    }
   ],
   "source": [
    "knn = Pipeline([\n",
    "    (\"preprocessor\",preprocessor),\n",
    "    (\"predictor\",KNeighborsClassifier())\n",
    "])\n",
    "\n",
    "##knn_param_grid={\"predictor__n_neighbors\": [9,10,11]}\n",
    "knn_param_grid={\"predictor__n_neighbors\": range(8,15)}\n",
    "\n",
    "knn_gs = GridSearchCV(knn, knn_param_grid, scoring=\"accuracy\", cv=ss, refit=True)\n",
    "\n",
    "knn_gs.fit(dev_X,dev_y)\n",
    "\n",
    "knn_gs.best_params_,knn_gs.best_score_\n"
   ]
  },
  {
   "cell_type": "code",
   "execution_count": 26,
   "id": "e5b4ffc7-3517-4287-a69a-c1f5032b535a",
   "metadata": {},
   "outputs": [
    {
     "data": {
      "text/plain": [
       "0.7021604938271605"
      ]
     },
     "execution_count": 26,
     "metadata": {},
     "output_type": "execute_result"
    }
   ],
   "source": [
    "logistic = Pipeline([\n",
    "    (\"preprocessor\",preprocessor),\n",
    "    (\"predictor\",LogisticRegression())\n",
    "])\n",
    "\n",
    "np.mean(cross_val_score(logistic,dev_X, dev_y, scoring=\"accuracy\", cv=ss))"
   ]
  },
  {
   "cell_type": "code",
   "execution_count": 27,
   "id": "98d12fdd-2f5c-4973-be58-78ab30c9bdf6",
   "metadata": {},
   "outputs": [
    {
     "data": {
      "text/html": [
       "<style>#sk-container-id-1 {color: black;}#sk-container-id-1 pre{padding: 0;}#sk-container-id-1 div.sk-toggleable {background-color: white;}#sk-container-id-1 label.sk-toggleable__label {cursor: pointer;display: block;width: 100%;margin-bottom: 0;padding: 0.3em;box-sizing: border-box;text-align: center;}#sk-container-id-1 label.sk-toggleable__label-arrow:before {content: \"▸\";float: left;margin-right: 0.25em;color: #696969;}#sk-container-id-1 label.sk-toggleable__label-arrow:hover:before {color: black;}#sk-container-id-1 div.sk-estimator:hover label.sk-toggleable__label-arrow:before {color: black;}#sk-container-id-1 div.sk-toggleable__content {max-height: 0;max-width: 0;overflow: hidden;text-align: left;background-color: #f0f8ff;}#sk-container-id-1 div.sk-toggleable__content pre {margin: 0.2em;color: black;border-radius: 0.25em;background-color: #f0f8ff;}#sk-container-id-1 input.sk-toggleable__control:checked~div.sk-toggleable__content {max-height: 200px;max-width: 100%;overflow: auto;}#sk-container-id-1 input.sk-toggleable__control:checked~label.sk-toggleable__label-arrow:before {content: \"▾\";}#sk-container-id-1 div.sk-estimator input.sk-toggleable__control:checked~label.sk-toggleable__label {background-color: #d4ebff;}#sk-container-id-1 div.sk-label input.sk-toggleable__control:checked~label.sk-toggleable__label {background-color: #d4ebff;}#sk-container-id-1 input.sk-hidden--visually {border: 0;clip: rect(1px 1px 1px 1px);clip: rect(1px, 1px, 1px, 1px);height: 1px;margin: -1px;overflow: hidden;padding: 0;position: absolute;width: 1px;}#sk-container-id-1 div.sk-estimator {font-family: monospace;background-color: #f0f8ff;border: 1px dotted black;border-radius: 0.25em;box-sizing: border-box;margin-bottom: 0.5em;}#sk-container-id-1 div.sk-estimator:hover {background-color: #d4ebff;}#sk-container-id-1 div.sk-parallel-item::after {content: \"\";width: 100%;border-bottom: 1px solid gray;flex-grow: 1;}#sk-container-id-1 div.sk-label:hover label.sk-toggleable__label {background-color: #d4ebff;}#sk-container-id-1 div.sk-serial::before {content: \"\";position: absolute;border-left: 1px solid gray;box-sizing: border-box;top: 0;bottom: 0;left: 50%;z-index: 0;}#sk-container-id-1 div.sk-serial {display: flex;flex-direction: column;align-items: center;background-color: white;padding-right: 0.2em;padding-left: 0.2em;position: relative;}#sk-container-id-1 div.sk-item {position: relative;z-index: 1;}#sk-container-id-1 div.sk-parallel {display: flex;align-items: stretch;justify-content: center;background-color: white;position: relative;}#sk-container-id-1 div.sk-item::before, #sk-container-id-1 div.sk-parallel-item::before {content: \"\";position: absolute;border-left: 1px solid gray;box-sizing: border-box;top: 0;bottom: 0;left: 50%;z-index: -1;}#sk-container-id-1 div.sk-parallel-item {display: flex;flex-direction: column;z-index: 1;position: relative;background-color: white;}#sk-container-id-1 div.sk-parallel-item:first-child::after {align-self: flex-end;width: 50%;}#sk-container-id-1 div.sk-parallel-item:last-child::after {align-self: flex-start;width: 50%;}#sk-container-id-1 div.sk-parallel-item:only-child::after {width: 0;}#sk-container-id-1 div.sk-dashed-wrapped {border: 1px dashed gray;margin: 0 0.4em 0.5em 0.4em;box-sizing: border-box;padding-bottom: 0.4em;background-color: white;}#sk-container-id-1 div.sk-label label {font-family: monospace;font-weight: bold;display: inline-block;line-height: 1.2em;}#sk-container-id-1 div.sk-label-container {text-align: center;}#sk-container-id-1 div.sk-container {/* jupyter's `normalize.less` sets `[hidden] { display: none; }` but bootstrap.min.css set `[hidden] { display: none !important; }` so we also need the `!important` here to be able to override the default hidden behavior on the sphinx rendered scikit-learn.org. See: https://github.com/scikit-learn/scikit-learn/issues/21755 */display: inline-block !important;position: relative;}#sk-container-id-1 div.sk-text-repr-fallback {display: none;}</style><div id=\"sk-container-id-1\" class=\"sk-top-container\"><div class=\"sk-text-repr-fallback\"><pre>Pipeline(steps=[(&#x27;preprocessor&#x27;,\n",
       "                 ColumnTransformer(remainder=&#x27;passthrough&#x27;,\n",
       "                                   transformers=[(&#x27;numeric&#x27;, StandardScaler(),\n",
       "                                                  [&#x27;risk_score&#x27;,\n",
       "                                                   &#x27;days_between_drug_tests&#x27;,\n",
       "                                                   &#x27;marijuana_positive_tests&#x27;,\n",
       "                                                   &#x27;cocaine_positive_tests&#x27;,\n",
       "                                                   &#x27;meth_positive_tests&#x27;,\n",
       "                                                   &#x27;other_positive_tests&#x27;,\n",
       "                                                   &#x27;days_employed&#x27;,\n",
       "                                                   &#x27;jobs_per_year&#x27;]),\n",
       "                                                 (&#x27;nominal&#x27;,\n",
       "                                                  Pipeline(steps=[(&#x27;imputer&#x27;,\n",
       "                                                                   SimpleImputer(strategy=&#x27;m...\n",
       "                                                   &#x27;domestic_violence_arrests&#x27;,\n",
       "                                                   &#x27;gun_arrests&#x27;,\n",
       "                                                   &#x27;felony_convictions&#x27;,\n",
       "                                                   &#x27;misdemeanor_convictions&#x27;,\n",
       "                                                   &#x27;violence_convictions&#x27;,\n",
       "                                                   &#x27;property_convictions&#x27;,\n",
       "                                                   &#x27;drug_convictions&#x27;,\n",
       "                                                   &#x27;parole_violation_convictions&#x27;,\n",
       "                                                   &#x27;domestic_violence_convictions&#x27;,\n",
       "                                                   &#x27;gun_convictions&#x27;,\n",
       "                                                   &#x27;parole_revocations&#x27;,\n",
       "                                                   &#x27;probation_revocations&#x27;,\n",
       "                                                   &#x27;mh_sa_programme&#x27;,\n",
       "                                                   &#x27;cs_programme&#x27;, ...])])),\n",
       "                (&#x27;predictor&#x27;, LogisticRegression())])</pre><b>In a Jupyter environment, please rerun this cell to show the HTML representation or trust the notebook. <br />On GitHub, the HTML representation is unable to render, please try loading this page with nbviewer.org.</b></div><div class=\"sk-container\" hidden><div class=\"sk-item sk-dashed-wrapped\"><div class=\"sk-label-container\"><div class=\"sk-label sk-toggleable\"><input class=\"sk-toggleable__control sk-hidden--visually\" id=\"sk-estimator-id-1\" type=\"checkbox\" ><label for=\"sk-estimator-id-1\" class=\"sk-toggleable__label sk-toggleable__label-arrow\">Pipeline</label><div class=\"sk-toggleable__content\"><pre>Pipeline(steps=[(&#x27;preprocessor&#x27;,\n",
       "                 ColumnTransformer(remainder=&#x27;passthrough&#x27;,\n",
       "                                   transformers=[(&#x27;numeric&#x27;, StandardScaler(),\n",
       "                                                  [&#x27;risk_score&#x27;,\n",
       "                                                   &#x27;days_between_drug_tests&#x27;,\n",
       "                                                   &#x27;marijuana_positive_tests&#x27;,\n",
       "                                                   &#x27;cocaine_positive_tests&#x27;,\n",
       "                                                   &#x27;meth_positive_tests&#x27;,\n",
       "                                                   &#x27;other_positive_tests&#x27;,\n",
       "                                                   &#x27;days_employed&#x27;,\n",
       "                                                   &#x27;jobs_per_year&#x27;]),\n",
       "                                                 (&#x27;nominal&#x27;,\n",
       "                                                  Pipeline(steps=[(&#x27;imputer&#x27;,\n",
       "                                                                   SimpleImputer(strategy=&#x27;m...\n",
       "                                                   &#x27;domestic_violence_arrests&#x27;,\n",
       "                                                   &#x27;gun_arrests&#x27;,\n",
       "                                                   &#x27;felony_convictions&#x27;,\n",
       "                                                   &#x27;misdemeanor_convictions&#x27;,\n",
       "                                                   &#x27;violence_convictions&#x27;,\n",
       "                                                   &#x27;property_convictions&#x27;,\n",
       "                                                   &#x27;drug_convictions&#x27;,\n",
       "                                                   &#x27;parole_violation_convictions&#x27;,\n",
       "                                                   &#x27;domestic_violence_convictions&#x27;,\n",
       "                                                   &#x27;gun_convictions&#x27;,\n",
       "                                                   &#x27;parole_revocations&#x27;,\n",
       "                                                   &#x27;probation_revocations&#x27;,\n",
       "                                                   &#x27;mh_sa_programme&#x27;,\n",
       "                                                   &#x27;cs_programme&#x27;, ...])])),\n",
       "                (&#x27;predictor&#x27;, LogisticRegression())])</pre></div></div></div><div class=\"sk-serial\"><div class=\"sk-item sk-dashed-wrapped\"><div class=\"sk-label-container\"><div class=\"sk-label sk-toggleable\"><input class=\"sk-toggleable__control sk-hidden--visually\" id=\"sk-estimator-id-2\" type=\"checkbox\" ><label for=\"sk-estimator-id-2\" class=\"sk-toggleable__label sk-toggleable__label-arrow\">preprocessor: ColumnTransformer</label><div class=\"sk-toggleable__content\"><pre>ColumnTransformer(remainder=&#x27;passthrough&#x27;,\n",
       "                  transformers=[(&#x27;numeric&#x27;, StandardScaler(),\n",
       "                                 [&#x27;risk_score&#x27;, &#x27;days_between_drug_tests&#x27;,\n",
       "                                  &#x27;marijuana_positive_tests&#x27;,\n",
       "                                  &#x27;cocaine_positive_tests&#x27;,\n",
       "                                  &#x27;meth_positive_tests&#x27;, &#x27;other_positive_tests&#x27;,\n",
       "                                  &#x27;days_employed&#x27;, &#x27;jobs_per_year&#x27;]),\n",
       "                                (&#x27;nominal&#x27;,\n",
       "                                 Pipeline(steps=[(&#x27;imputer&#x27;,\n",
       "                                                  SimpleImputer(strategy=&#x27;most_frequent&#x27;)),\n",
       "                                                 (&#x27;binarizer&#x27;,\n",
       "                                                  One...\n",
       "                                  &#x27;property_arrests&#x27;, &#x27;drug_arrests&#x27;,\n",
       "                                  &#x27;parole_violation_arrests&#x27;,\n",
       "                                  &#x27;domestic_violence_arrests&#x27;, &#x27;gun_arrests&#x27;,\n",
       "                                  &#x27;felony_convictions&#x27;,\n",
       "                                  &#x27;misdemeanor_convictions&#x27;,\n",
       "                                  &#x27;violence_convictions&#x27;,\n",
       "                                  &#x27;property_convictions&#x27;, &#x27;drug_convictions&#x27;,\n",
       "                                  &#x27;parole_violation_convictions&#x27;,\n",
       "                                  &#x27;domestic_violence_convictions&#x27;,\n",
       "                                  &#x27;gun_convictions&#x27;, &#x27;parole_revocations&#x27;,\n",
       "                                  &#x27;probation_revocations&#x27;, &#x27;mh_sa_programme&#x27;,\n",
       "                                  &#x27;cs_programme&#x27;, ...])])</pre></div></div></div><div class=\"sk-parallel\"><div class=\"sk-parallel-item\"><div class=\"sk-item\"><div class=\"sk-label-container\"><div class=\"sk-label sk-toggleable\"><input class=\"sk-toggleable__control sk-hidden--visually\" id=\"sk-estimator-id-3\" type=\"checkbox\" ><label for=\"sk-estimator-id-3\" class=\"sk-toggleable__label sk-toggleable__label-arrow\">numeric</label><div class=\"sk-toggleable__content\"><pre>[&#x27;risk_score&#x27;, &#x27;days_between_drug_tests&#x27;, &#x27;marijuana_positive_tests&#x27;, &#x27;cocaine_positive_tests&#x27;, &#x27;meth_positive_tests&#x27;, &#x27;other_positive_tests&#x27;, &#x27;days_employed&#x27;, &#x27;jobs_per_year&#x27;]</pre></div></div></div><div class=\"sk-serial\"><div class=\"sk-item\"><div class=\"sk-estimator sk-toggleable\"><input class=\"sk-toggleable__control sk-hidden--visually\" id=\"sk-estimator-id-4\" type=\"checkbox\" ><label for=\"sk-estimator-id-4\" class=\"sk-toggleable__label sk-toggleable__label-arrow\">StandardScaler</label><div class=\"sk-toggleable__content\"><pre>StandardScaler()</pre></div></div></div></div></div></div><div class=\"sk-parallel-item\"><div class=\"sk-item\"><div class=\"sk-label-container\"><div class=\"sk-label sk-toggleable\"><input class=\"sk-toggleable__control sk-hidden--visually\" id=\"sk-estimator-id-5\" type=\"checkbox\" ><label for=\"sk-estimator-id-5\" class=\"sk-toggleable__label sk-toggleable__label-arrow\">nominal</label><div class=\"sk-toggleable__content\"><pre>[&#x27;gender&#x27;, &#x27;race&#x27;, &#x27;age&#x27;, &#x27;address&#x27;, &#x27;gang_affiliated&#x27;, &#x27;supervision_level&#x27;, &#x27;education_level&#x27;, &#x27;dependents&#x27;, &#x27;offence&#x27;, &#x27;years_in_prison&#x27;, &#x27;felony_arrests&#x27;, &#x27;misdemeanor_arrests&#x27;, &#x27;violence_arrests&#x27;, &#x27;property_arrests&#x27;, &#x27;drug_arrests&#x27;, &#x27;parole_violation_arrests&#x27;, &#x27;domestic_violence_arrests&#x27;, &#x27;gun_arrests&#x27;, &#x27;felony_convictions&#x27;, &#x27;misdemeanor_convictions&#x27;, &#x27;violence_convictions&#x27;, &#x27;property_convictions&#x27;, &#x27;drug_convictions&#x27;, &#x27;parole_violation_convictions&#x27;, &#x27;domestic_violence_convictions&#x27;, &#x27;gun_convictions&#x27;, &#x27;parole_revocations&#x27;, &#x27;probation_revocations&#x27;, &#x27;mh_sa_programme&#x27;, &#x27;cs_programme&#x27;, &#x27;other_condition&#x27;, &#x27;electronic_monitoring_violations&#x27;, &#x27;instruction_following_violations&#x27;, &#x27;failure_to_report_violations&#x27;, &#x27;moving_without_permission_violations&#x27;, &#x27;num_delinquency_reports&#x27;, &#x27;num_program_attendances&#x27;, &#x27;num_unexcused_absences&#x27;, &#x27;num_residence_changes&#x27;, &#x27;employment_exempt&#x27;]</pre></div></div></div><div class=\"sk-serial\"><div class=\"sk-item\"><div class=\"sk-serial\"><div class=\"sk-item\"><div class=\"sk-estimator sk-toggleable\"><input class=\"sk-toggleable__control sk-hidden--visually\" id=\"sk-estimator-id-6\" type=\"checkbox\" ><label for=\"sk-estimator-id-6\" class=\"sk-toggleable__label sk-toggleable__label-arrow\">SimpleImputer</label><div class=\"sk-toggleable__content\"><pre>SimpleImputer(strategy=&#x27;most_frequent&#x27;)</pre></div></div></div><div class=\"sk-item\"><div class=\"sk-estimator sk-toggleable\"><input class=\"sk-toggleable__control sk-hidden--visually\" id=\"sk-estimator-id-7\" type=\"checkbox\" ><label for=\"sk-estimator-id-7\" class=\"sk-toggleable__label sk-toggleable__label-arrow\">OneHotEncoder</label><div class=\"sk-toggleable__content\"><pre>OneHotEncoder(handle_unknown=&#x27;ignore&#x27;)</pre></div></div></div></div></div></div></div></div><div class=\"sk-parallel-item\"><div class=\"sk-item\"><div class=\"sk-label-container\"><div class=\"sk-label sk-toggleable\"><input class=\"sk-toggleable__control sk-hidden--visually\" id=\"sk-estimator-id-8\" type=\"checkbox\" ><label for=\"sk-estimator-id-8\" class=\"sk-toggleable__label sk-toggleable__label-arrow\">remainder</label><div class=\"sk-toggleable__content\"><pre>[]</pre></div></div></div><div class=\"sk-serial\"><div class=\"sk-item\"><div class=\"sk-estimator sk-toggleable\"><input class=\"sk-toggleable__control sk-hidden--visually\" id=\"sk-estimator-id-9\" type=\"checkbox\" ><label for=\"sk-estimator-id-9\" class=\"sk-toggleable__label sk-toggleable__label-arrow\">passthrough</label><div class=\"sk-toggleable__content\"><pre>passthrough</pre></div></div></div></div></div></div></div></div><div class=\"sk-item\"><div class=\"sk-estimator sk-toggleable\"><input class=\"sk-toggleable__control sk-hidden--visually\" id=\"sk-estimator-id-10\" type=\"checkbox\" ><label for=\"sk-estimator-id-10\" class=\"sk-toggleable__label sk-toggleable__label-arrow\">LogisticRegression</label><div class=\"sk-toggleable__content\"><pre>LogisticRegression()</pre></div></div></div></div></div></div></div>"
      ],
      "text/plain": [
       "Pipeline(steps=[('preprocessor',\n",
       "                 ColumnTransformer(remainder='passthrough',\n",
       "                                   transformers=[('numeric', StandardScaler(),\n",
       "                                                  ['risk_score',\n",
       "                                                   'days_between_drug_tests',\n",
       "                                                   'marijuana_positive_tests',\n",
       "                                                   'cocaine_positive_tests',\n",
       "                                                   'meth_positive_tests',\n",
       "                                                   'other_positive_tests',\n",
       "                                                   'days_employed',\n",
       "                                                   'jobs_per_year']),\n",
       "                                                 ('nominal',\n",
       "                                                  Pipeline(steps=[('imputer',\n",
       "                                                                   SimpleImputer(strategy='m...\n",
       "                                                   'domestic_violence_arrests',\n",
       "                                                   'gun_arrests',\n",
       "                                                   'felony_convictions',\n",
       "                                                   'misdemeanor_convictions',\n",
       "                                                   'violence_convictions',\n",
       "                                                   'property_convictions',\n",
       "                                                   'drug_convictions',\n",
       "                                                   'parole_violation_convictions',\n",
       "                                                   'domestic_violence_convictions',\n",
       "                                                   'gun_convictions',\n",
       "                                                   'parole_revocations',\n",
       "                                                   'probation_revocations',\n",
       "                                                   'mh_sa_programme',\n",
       "                                                   'cs_programme', ...])])),\n",
       "                ('predictor', LogisticRegression())])"
      ]
     },
     "execution_count": 27,
     "metadata": {},
     "output_type": "execute_result"
    }
   ],
   "source": [
    "logistic.fit(dev_X,dev_y)"
   ]
  },
  {
   "cell_type": "markdown",
   "id": "13364505-9963-4557-8704-a130fa685bf7",
   "metadata": {},
   "source": [
    "### Re-splitting"
   ]
  },
  {
   "cell_type": "markdown",
   "id": "59bf8904-3531-41f7-a2d1-31f6c97e161a",
   "metadata": {},
   "source": [
    "#### We saw how our model did with the dataset stratified based only on the outcome. Now let's see what happens if we put in more features."
   ]
  },
  {
   "cell_type": "code",
   "execution_count": 28,
   "id": "8bad4d67-a488-46eb-b93f-e6141f363a55",
   "metadata": {},
   "outputs": [
    {
     "data": {
      "text/plain": [
       "gender  education_level        race   reoffended_within_3_years\n",
       "M       Less than HS diploma   black  True                         2292\n",
       "        High School Diploma    black  True                         2158\n",
       "                               white  True                         1771\n",
       "                               black  False                        1357\n",
       "        Less than HS diploma   black  False                        1310\n",
       "                               white  True                         1176\n",
       "        High School Diploma    white  False                        1080\n",
       "        Less than HS diploma   white  False                         860\n",
       "        At least some college  black  False                         669\n",
       "                                      True                          614\n",
       "                               white  False                         471\n",
       "                                      True                          412\n",
       "F       High School Diploma    white  True                          311\n",
       "                                      False                         301\n",
       "        Less than HS diploma   white  False                         209\n",
       "        At least some college  white  False                         201\n",
       "        Less than HS diploma   white  True                          185\n",
       "                               black  False                         139\n",
       "        At least some college  white  True                          134\n",
       "                               black  False                         126\n",
       "        High School Diploma    black  False                         123\n",
       "        Less than HS diploma   black  True                          111\n",
       "        High School Diploma    black  True                          106\n",
       "        At least some college  black  True                           82\n",
       "Name: count, dtype: int64"
      ]
     },
     "execution_count": 28,
     "metadata": {},
     "output_type": "execute_result"
    }
   ],
   "source": [
    "stratify_features=['gender','education_level','race','reoffended_within_3_years']\n",
    "df[stratify_features].value_counts()"
   ]
  },
  {
   "cell_type": "code",
   "execution_count": 29,
   "id": "d107c04b-4056-4399-a00f-4a3c3a833b88",
   "metadata": {},
   "outputs": [
    {
     "data": {
      "text/plain": [
       "0.5774691358024692"
      ]
     },
     "execution_count": 29,
     "metadata": {},
     "output_type": "execute_result"
    }
   ],
   "source": [
    "dev_df_smp, test_df_smp = train_test_split(df,train_size=0.8,stratify = df[stratify_features],  random_state=2)\n",
    "# smp means: stratify multiple property\n",
    "\n",
    "dev_X_smp = dev_df_smp[predictive_features]\n",
    "test_X_smp = test_df_smp[predictive_features]\n",
    "\n",
    "label_encoder=LabelEncoder()\n",
    "label_encoder.fit(df['reoffended_within_3_years'])\n",
    "dev_y_smp = label_encoder.transform(dev_df['reoffended_within_3_years'])\n",
    "test_y_smp = label_encoder.transform(test_df['reoffended_within_3_years'])\n",
    "\n",
    "maj=DummyClassifier()\n",
    "maj.fit(dev_X_smp,dev_y_smp)\n",
    "accuracy_score(test_y_smp,maj.predict(test_X_smp))"
   ]
  },
  {
   "cell_type": "code",
   "execution_count": 30,
   "id": "c6906a1e-2d64-4b55-9f68-7629bb0ebf28",
   "metadata": {},
   "outputs": [],
   "source": [
    "preprocessor = ColumnTransformer([\n",
    "    (\"numeric\",StandardScaler(),\n",
    "     numeric_features),\n",
    "    ('nominal', Pipeline([\n",
    "        (\"imputer\", SimpleImputer(missing_values=np.nan, strategy=\"most_frequent\")),\n",
    "        (\"binarizer\",OneHotEncoder(handle_unknown=\"ignore\"))\n",
    "    ]),\n",
    "    nominal_features)\n",
    "    ],\n",
    "    remainder='passthrough'\n",
    ")"
   ]
  },
  {
   "cell_type": "code",
   "execution_count": 31,
   "id": "dc877e1f-f5e0-484d-a1a3-7ce8690b001e",
   "metadata": {},
   "outputs": [
    {
     "data": {
      "text/plain": [
       "({'predictor__n_neighbors': 11}, 0.537962962962963)"
      ]
     },
     "execution_count": 31,
     "metadata": {},
     "output_type": "execute_result"
    }
   ],
   "source": [
    "knn_smp = Pipeline([\n",
    "    (\"preprocessor\",preprocessor),\n",
    "    (\"predictor\",KNeighborsClassifier())\n",
    "])\n",
    "\n",
    "knn_param_grid={\"predictor__n_neighbors\": range(10,20)}\n",
    "\n",
    "knn_gs_smp = GridSearchCV(knn, knn_param_grid, scoring=\"accuracy\", cv=ss, refit=True)\n",
    "\n",
    "knn_gs_smp.fit(dev_X_smp,dev_y_smp)\n",
    "\n",
    "knn_gs_smp.best_params_,knn_gs_smp.best_score_"
   ]
  },
  {
   "cell_type": "code",
   "execution_count": 32,
   "id": "5d5c2349-04f2-4fdd-8187-f5438bb540b2",
   "metadata": {},
   "outputs": [
    {
     "data": {
      "text/plain": [
       "0.5552469135802469"
      ]
     },
     "execution_count": 32,
     "metadata": {},
     "output_type": "execute_result"
    }
   ],
   "source": [
    "logistic_smp = Pipeline([\n",
    "    (\"preprocessor\",preprocessor),\n",
    "    (\"predictor\",LogisticRegression())\n",
    "])\n",
    "\n",
    "np.mean(cross_val_score(logistic_smp,dev_X_smp, dev_y_smp, scoring=\"accuracy\", cv=ss))"
   ]
  },
  {
   "cell_type": "code",
   "execution_count": 33,
   "id": "863d9e74-9d03-497c-a473-aa3e8525d811",
   "metadata": {},
   "outputs": [
    {
     "data": {
      "text/html": [
       "<style>#sk-container-id-2 {color: black;}#sk-container-id-2 pre{padding: 0;}#sk-container-id-2 div.sk-toggleable {background-color: white;}#sk-container-id-2 label.sk-toggleable__label {cursor: pointer;display: block;width: 100%;margin-bottom: 0;padding: 0.3em;box-sizing: border-box;text-align: center;}#sk-container-id-2 label.sk-toggleable__label-arrow:before {content: \"▸\";float: left;margin-right: 0.25em;color: #696969;}#sk-container-id-2 label.sk-toggleable__label-arrow:hover:before {color: black;}#sk-container-id-2 div.sk-estimator:hover label.sk-toggleable__label-arrow:before {color: black;}#sk-container-id-2 div.sk-toggleable__content {max-height: 0;max-width: 0;overflow: hidden;text-align: left;background-color: #f0f8ff;}#sk-container-id-2 div.sk-toggleable__content pre {margin: 0.2em;color: black;border-radius: 0.25em;background-color: #f0f8ff;}#sk-container-id-2 input.sk-toggleable__control:checked~div.sk-toggleable__content {max-height: 200px;max-width: 100%;overflow: auto;}#sk-container-id-2 input.sk-toggleable__control:checked~label.sk-toggleable__label-arrow:before {content: \"▾\";}#sk-container-id-2 div.sk-estimator input.sk-toggleable__control:checked~label.sk-toggleable__label {background-color: #d4ebff;}#sk-container-id-2 div.sk-label input.sk-toggleable__control:checked~label.sk-toggleable__label {background-color: #d4ebff;}#sk-container-id-2 input.sk-hidden--visually {border: 0;clip: rect(1px 1px 1px 1px);clip: rect(1px, 1px, 1px, 1px);height: 1px;margin: -1px;overflow: hidden;padding: 0;position: absolute;width: 1px;}#sk-container-id-2 div.sk-estimator {font-family: monospace;background-color: #f0f8ff;border: 1px dotted black;border-radius: 0.25em;box-sizing: border-box;margin-bottom: 0.5em;}#sk-container-id-2 div.sk-estimator:hover {background-color: #d4ebff;}#sk-container-id-2 div.sk-parallel-item::after {content: \"\";width: 100%;border-bottom: 1px solid gray;flex-grow: 1;}#sk-container-id-2 div.sk-label:hover label.sk-toggleable__label {background-color: #d4ebff;}#sk-container-id-2 div.sk-serial::before {content: \"\";position: absolute;border-left: 1px solid gray;box-sizing: border-box;top: 0;bottom: 0;left: 50%;z-index: 0;}#sk-container-id-2 div.sk-serial {display: flex;flex-direction: column;align-items: center;background-color: white;padding-right: 0.2em;padding-left: 0.2em;position: relative;}#sk-container-id-2 div.sk-item {position: relative;z-index: 1;}#sk-container-id-2 div.sk-parallel {display: flex;align-items: stretch;justify-content: center;background-color: white;position: relative;}#sk-container-id-2 div.sk-item::before, #sk-container-id-2 div.sk-parallel-item::before {content: \"\";position: absolute;border-left: 1px solid gray;box-sizing: border-box;top: 0;bottom: 0;left: 50%;z-index: -1;}#sk-container-id-2 div.sk-parallel-item {display: flex;flex-direction: column;z-index: 1;position: relative;background-color: white;}#sk-container-id-2 div.sk-parallel-item:first-child::after {align-self: flex-end;width: 50%;}#sk-container-id-2 div.sk-parallel-item:last-child::after {align-self: flex-start;width: 50%;}#sk-container-id-2 div.sk-parallel-item:only-child::after {width: 0;}#sk-container-id-2 div.sk-dashed-wrapped {border: 1px dashed gray;margin: 0 0.4em 0.5em 0.4em;box-sizing: border-box;padding-bottom: 0.4em;background-color: white;}#sk-container-id-2 div.sk-label label {font-family: monospace;font-weight: bold;display: inline-block;line-height: 1.2em;}#sk-container-id-2 div.sk-label-container {text-align: center;}#sk-container-id-2 div.sk-container {/* jupyter's `normalize.less` sets `[hidden] { display: none; }` but bootstrap.min.css set `[hidden] { display: none !important; }` so we also need the `!important` here to be able to override the default hidden behavior on the sphinx rendered scikit-learn.org. See: https://github.com/scikit-learn/scikit-learn/issues/21755 */display: inline-block !important;position: relative;}#sk-container-id-2 div.sk-text-repr-fallback {display: none;}</style><div id=\"sk-container-id-2\" class=\"sk-top-container\"><div class=\"sk-text-repr-fallback\"><pre>Pipeline(steps=[(&#x27;preprocessor&#x27;,\n",
       "                 ColumnTransformer(remainder=&#x27;passthrough&#x27;,\n",
       "                                   transformers=[(&#x27;numeric&#x27;, StandardScaler(),\n",
       "                                                  [&#x27;risk_score&#x27;,\n",
       "                                                   &#x27;days_between_drug_tests&#x27;,\n",
       "                                                   &#x27;marijuana_positive_tests&#x27;,\n",
       "                                                   &#x27;cocaine_positive_tests&#x27;,\n",
       "                                                   &#x27;meth_positive_tests&#x27;,\n",
       "                                                   &#x27;other_positive_tests&#x27;,\n",
       "                                                   &#x27;days_employed&#x27;,\n",
       "                                                   &#x27;jobs_per_year&#x27;]),\n",
       "                                                 (&#x27;nominal&#x27;,\n",
       "                                                  Pipeline(steps=[(&#x27;imputer&#x27;,\n",
       "                                                                   SimpleImputer(strategy=&#x27;m...\n",
       "                                                   &#x27;domestic_violence_arrests&#x27;,\n",
       "                                                   &#x27;gun_arrests&#x27;,\n",
       "                                                   &#x27;felony_convictions&#x27;,\n",
       "                                                   &#x27;misdemeanor_convictions&#x27;,\n",
       "                                                   &#x27;violence_convictions&#x27;,\n",
       "                                                   &#x27;property_convictions&#x27;,\n",
       "                                                   &#x27;drug_convictions&#x27;,\n",
       "                                                   &#x27;parole_violation_convictions&#x27;,\n",
       "                                                   &#x27;domestic_violence_convictions&#x27;,\n",
       "                                                   &#x27;gun_convictions&#x27;,\n",
       "                                                   &#x27;parole_revocations&#x27;,\n",
       "                                                   &#x27;probation_revocations&#x27;,\n",
       "                                                   &#x27;mh_sa_programme&#x27;,\n",
       "                                                   &#x27;cs_programme&#x27;, ...])])),\n",
       "                (&#x27;predictor&#x27;, LogisticRegression())])</pre><b>In a Jupyter environment, please rerun this cell to show the HTML representation or trust the notebook. <br />On GitHub, the HTML representation is unable to render, please try loading this page with nbviewer.org.</b></div><div class=\"sk-container\" hidden><div class=\"sk-item sk-dashed-wrapped\"><div class=\"sk-label-container\"><div class=\"sk-label sk-toggleable\"><input class=\"sk-toggleable__control sk-hidden--visually\" id=\"sk-estimator-id-11\" type=\"checkbox\" ><label for=\"sk-estimator-id-11\" class=\"sk-toggleable__label sk-toggleable__label-arrow\">Pipeline</label><div class=\"sk-toggleable__content\"><pre>Pipeline(steps=[(&#x27;preprocessor&#x27;,\n",
       "                 ColumnTransformer(remainder=&#x27;passthrough&#x27;,\n",
       "                                   transformers=[(&#x27;numeric&#x27;, StandardScaler(),\n",
       "                                                  [&#x27;risk_score&#x27;,\n",
       "                                                   &#x27;days_between_drug_tests&#x27;,\n",
       "                                                   &#x27;marijuana_positive_tests&#x27;,\n",
       "                                                   &#x27;cocaine_positive_tests&#x27;,\n",
       "                                                   &#x27;meth_positive_tests&#x27;,\n",
       "                                                   &#x27;other_positive_tests&#x27;,\n",
       "                                                   &#x27;days_employed&#x27;,\n",
       "                                                   &#x27;jobs_per_year&#x27;]),\n",
       "                                                 (&#x27;nominal&#x27;,\n",
       "                                                  Pipeline(steps=[(&#x27;imputer&#x27;,\n",
       "                                                                   SimpleImputer(strategy=&#x27;m...\n",
       "                                                   &#x27;domestic_violence_arrests&#x27;,\n",
       "                                                   &#x27;gun_arrests&#x27;,\n",
       "                                                   &#x27;felony_convictions&#x27;,\n",
       "                                                   &#x27;misdemeanor_convictions&#x27;,\n",
       "                                                   &#x27;violence_convictions&#x27;,\n",
       "                                                   &#x27;property_convictions&#x27;,\n",
       "                                                   &#x27;drug_convictions&#x27;,\n",
       "                                                   &#x27;parole_violation_convictions&#x27;,\n",
       "                                                   &#x27;domestic_violence_convictions&#x27;,\n",
       "                                                   &#x27;gun_convictions&#x27;,\n",
       "                                                   &#x27;parole_revocations&#x27;,\n",
       "                                                   &#x27;probation_revocations&#x27;,\n",
       "                                                   &#x27;mh_sa_programme&#x27;,\n",
       "                                                   &#x27;cs_programme&#x27;, ...])])),\n",
       "                (&#x27;predictor&#x27;, LogisticRegression())])</pre></div></div></div><div class=\"sk-serial\"><div class=\"sk-item sk-dashed-wrapped\"><div class=\"sk-label-container\"><div class=\"sk-label sk-toggleable\"><input class=\"sk-toggleable__control sk-hidden--visually\" id=\"sk-estimator-id-12\" type=\"checkbox\" ><label for=\"sk-estimator-id-12\" class=\"sk-toggleable__label sk-toggleable__label-arrow\">preprocessor: ColumnTransformer</label><div class=\"sk-toggleable__content\"><pre>ColumnTransformer(remainder=&#x27;passthrough&#x27;,\n",
       "                  transformers=[(&#x27;numeric&#x27;, StandardScaler(),\n",
       "                                 [&#x27;risk_score&#x27;, &#x27;days_between_drug_tests&#x27;,\n",
       "                                  &#x27;marijuana_positive_tests&#x27;,\n",
       "                                  &#x27;cocaine_positive_tests&#x27;,\n",
       "                                  &#x27;meth_positive_tests&#x27;, &#x27;other_positive_tests&#x27;,\n",
       "                                  &#x27;days_employed&#x27;, &#x27;jobs_per_year&#x27;]),\n",
       "                                (&#x27;nominal&#x27;,\n",
       "                                 Pipeline(steps=[(&#x27;imputer&#x27;,\n",
       "                                                  SimpleImputer(strategy=&#x27;most_frequent&#x27;)),\n",
       "                                                 (&#x27;binarizer&#x27;,\n",
       "                                                  One...\n",
       "                                  &#x27;property_arrests&#x27;, &#x27;drug_arrests&#x27;,\n",
       "                                  &#x27;parole_violation_arrests&#x27;,\n",
       "                                  &#x27;domestic_violence_arrests&#x27;, &#x27;gun_arrests&#x27;,\n",
       "                                  &#x27;felony_convictions&#x27;,\n",
       "                                  &#x27;misdemeanor_convictions&#x27;,\n",
       "                                  &#x27;violence_convictions&#x27;,\n",
       "                                  &#x27;property_convictions&#x27;, &#x27;drug_convictions&#x27;,\n",
       "                                  &#x27;parole_violation_convictions&#x27;,\n",
       "                                  &#x27;domestic_violence_convictions&#x27;,\n",
       "                                  &#x27;gun_convictions&#x27;, &#x27;parole_revocations&#x27;,\n",
       "                                  &#x27;probation_revocations&#x27;, &#x27;mh_sa_programme&#x27;,\n",
       "                                  &#x27;cs_programme&#x27;, ...])])</pre></div></div></div><div class=\"sk-parallel\"><div class=\"sk-parallel-item\"><div class=\"sk-item\"><div class=\"sk-label-container\"><div class=\"sk-label sk-toggleable\"><input class=\"sk-toggleable__control sk-hidden--visually\" id=\"sk-estimator-id-13\" type=\"checkbox\" ><label for=\"sk-estimator-id-13\" class=\"sk-toggleable__label sk-toggleable__label-arrow\">numeric</label><div class=\"sk-toggleable__content\"><pre>[&#x27;risk_score&#x27;, &#x27;days_between_drug_tests&#x27;, &#x27;marijuana_positive_tests&#x27;, &#x27;cocaine_positive_tests&#x27;, &#x27;meth_positive_tests&#x27;, &#x27;other_positive_tests&#x27;, &#x27;days_employed&#x27;, &#x27;jobs_per_year&#x27;]</pre></div></div></div><div class=\"sk-serial\"><div class=\"sk-item\"><div class=\"sk-estimator sk-toggleable\"><input class=\"sk-toggleable__control sk-hidden--visually\" id=\"sk-estimator-id-14\" type=\"checkbox\" ><label for=\"sk-estimator-id-14\" class=\"sk-toggleable__label sk-toggleable__label-arrow\">StandardScaler</label><div class=\"sk-toggleable__content\"><pre>StandardScaler()</pre></div></div></div></div></div></div><div class=\"sk-parallel-item\"><div class=\"sk-item\"><div class=\"sk-label-container\"><div class=\"sk-label sk-toggleable\"><input class=\"sk-toggleable__control sk-hidden--visually\" id=\"sk-estimator-id-15\" type=\"checkbox\" ><label for=\"sk-estimator-id-15\" class=\"sk-toggleable__label sk-toggleable__label-arrow\">nominal</label><div class=\"sk-toggleable__content\"><pre>[&#x27;gender&#x27;, &#x27;race&#x27;, &#x27;age&#x27;, &#x27;address&#x27;, &#x27;gang_affiliated&#x27;, &#x27;supervision_level&#x27;, &#x27;education_level&#x27;, &#x27;dependents&#x27;, &#x27;offence&#x27;, &#x27;years_in_prison&#x27;, &#x27;felony_arrests&#x27;, &#x27;misdemeanor_arrests&#x27;, &#x27;violence_arrests&#x27;, &#x27;property_arrests&#x27;, &#x27;drug_arrests&#x27;, &#x27;parole_violation_arrests&#x27;, &#x27;domestic_violence_arrests&#x27;, &#x27;gun_arrests&#x27;, &#x27;felony_convictions&#x27;, &#x27;misdemeanor_convictions&#x27;, &#x27;violence_convictions&#x27;, &#x27;property_convictions&#x27;, &#x27;drug_convictions&#x27;, &#x27;parole_violation_convictions&#x27;, &#x27;domestic_violence_convictions&#x27;, &#x27;gun_convictions&#x27;, &#x27;parole_revocations&#x27;, &#x27;probation_revocations&#x27;, &#x27;mh_sa_programme&#x27;, &#x27;cs_programme&#x27;, &#x27;other_condition&#x27;, &#x27;electronic_monitoring_violations&#x27;, &#x27;instruction_following_violations&#x27;, &#x27;failure_to_report_violations&#x27;, &#x27;moving_without_permission_violations&#x27;, &#x27;num_delinquency_reports&#x27;, &#x27;num_program_attendances&#x27;, &#x27;num_unexcused_absences&#x27;, &#x27;num_residence_changes&#x27;, &#x27;employment_exempt&#x27;]</pre></div></div></div><div class=\"sk-serial\"><div class=\"sk-item\"><div class=\"sk-serial\"><div class=\"sk-item\"><div class=\"sk-estimator sk-toggleable\"><input class=\"sk-toggleable__control sk-hidden--visually\" id=\"sk-estimator-id-16\" type=\"checkbox\" ><label for=\"sk-estimator-id-16\" class=\"sk-toggleable__label sk-toggleable__label-arrow\">SimpleImputer</label><div class=\"sk-toggleable__content\"><pre>SimpleImputer(strategy=&#x27;most_frequent&#x27;)</pre></div></div></div><div class=\"sk-item\"><div class=\"sk-estimator sk-toggleable\"><input class=\"sk-toggleable__control sk-hidden--visually\" id=\"sk-estimator-id-17\" type=\"checkbox\" ><label for=\"sk-estimator-id-17\" class=\"sk-toggleable__label sk-toggleable__label-arrow\">OneHotEncoder</label><div class=\"sk-toggleable__content\"><pre>OneHotEncoder(handle_unknown=&#x27;ignore&#x27;)</pre></div></div></div></div></div></div></div></div><div class=\"sk-parallel-item\"><div class=\"sk-item\"><div class=\"sk-label-container\"><div class=\"sk-label sk-toggleable\"><input class=\"sk-toggleable__control sk-hidden--visually\" id=\"sk-estimator-id-18\" type=\"checkbox\" ><label for=\"sk-estimator-id-18\" class=\"sk-toggleable__label sk-toggleable__label-arrow\">remainder</label><div class=\"sk-toggleable__content\"><pre>[]</pre></div></div></div><div class=\"sk-serial\"><div class=\"sk-item\"><div class=\"sk-estimator sk-toggleable\"><input class=\"sk-toggleable__control sk-hidden--visually\" id=\"sk-estimator-id-19\" type=\"checkbox\" ><label for=\"sk-estimator-id-19\" class=\"sk-toggleable__label sk-toggleable__label-arrow\">passthrough</label><div class=\"sk-toggleable__content\"><pre>passthrough</pre></div></div></div></div></div></div></div></div><div class=\"sk-item\"><div class=\"sk-estimator sk-toggleable\"><input class=\"sk-toggleable__control sk-hidden--visually\" id=\"sk-estimator-id-20\" type=\"checkbox\" ><label for=\"sk-estimator-id-20\" class=\"sk-toggleable__label sk-toggleable__label-arrow\">LogisticRegression</label><div class=\"sk-toggleable__content\"><pre>LogisticRegression()</pre></div></div></div></div></div></div></div>"
      ],
      "text/plain": [
       "Pipeline(steps=[('preprocessor',\n",
       "                 ColumnTransformer(remainder='passthrough',\n",
       "                                   transformers=[('numeric', StandardScaler(),\n",
       "                                                  ['risk_score',\n",
       "                                                   'days_between_drug_tests',\n",
       "                                                   'marijuana_positive_tests',\n",
       "                                                   'cocaine_positive_tests',\n",
       "                                                   'meth_positive_tests',\n",
       "                                                   'other_positive_tests',\n",
       "                                                   'days_employed',\n",
       "                                                   'jobs_per_year']),\n",
       "                                                 ('nominal',\n",
       "                                                  Pipeline(steps=[('imputer',\n",
       "                                                                   SimpleImputer(strategy='m...\n",
       "                                                   'domestic_violence_arrests',\n",
       "                                                   'gun_arrests',\n",
       "                                                   'felony_convictions',\n",
       "                                                   'misdemeanor_convictions',\n",
       "                                                   'violence_convictions',\n",
       "                                                   'property_convictions',\n",
       "                                                   'drug_convictions',\n",
       "                                                   'parole_violation_convictions',\n",
       "                                                   'domestic_violence_convictions',\n",
       "                                                   'gun_convictions',\n",
       "                                                   'parole_revocations',\n",
       "                                                   'probation_revocations',\n",
       "                                                   'mh_sa_programme',\n",
       "                                                   'cs_programme', ...])])),\n",
       "                ('predictor', LogisticRegression())])"
      ]
     },
     "execution_count": 33,
     "metadata": {},
     "output_type": "execute_result"
    }
   ],
   "source": [
    "logistic_smp.fit(dev_X_smp,dev_y_smp)"
   ]
  },
  {
   "cell_type": "markdown",
   "id": "5600e3f9-0caf-445b-8673-77b488d6813d",
   "metadata": {},
   "source": [
    "#### Looking at these numbers we can see that stratification by multiple features didn't really help us.\n",
    "\n",
    "#### In fact, we are doing even worse than a dummy classifier\n",
    "\n",
    "#### I started reading into it and had some ideas as what could go wrong:\n",
    "- Simpson's paradox: our data has been split into too many small sets. These small sets however don't reflect what is going on in the big picture. We train our model on various small sets, however, when it gets out to be tested, the tendency might flip.\n",
    "- There is a disproportion between the sizes of our sets. For example, there are very few black women and if they have outliers, our model might get confused."
   ]
  },
  {
   "cell_type": "markdown",
   "id": "16c269b8-90f6-4f5d-be2e-0b9df864916d",
   "metadata": {},
   "source": [
    "#### Takeaway:\n",
    "- We might try to gather more data, however I doubt that it would help too much\n",
    "- We are striving too hard to not to discrimate, but by doing so we made a model that would be as right as a coinflip\n",
    "- KISS: Our simpler stratificaton worked much better."
   ]
  },
  {
   "cell_type": "markdown",
   "id": "205cdc3c-c358-4c98-b8a3-547c2524f3c6",
   "metadata": {},
   "source": [
    "### Causes for early reoffense"
   ]
  },
  {
   "cell_type": "markdown",
   "id": "ca0d679d-c944-4507-bd88-f18b5c591d3e",
   "metadata": {},
   "source": [
    "#### I am curious what makes someone relapse quickly"
   ]
  },
  {
   "cell_type": "code",
   "execution_count": 34,
   "id": "5c7c4d2f-2a78-4da1-b446-20d617986036",
   "metadata": {},
   "outputs": [],
   "source": [
    "df_early=df.copy()"
   ]
  },
  {
   "cell_type": "code",
   "execution_count": 35,
   "id": "bd9f6b16-9a48-4780-a60b-846cceb12a43",
   "metadata": {},
   "outputs": [],
   "source": [
    "base=10\n",
    "\n",
    "def early_reoffender_score(a):\n",
    "    \n",
    "    if(a['reoffended_in_year_1']==True):\n",
    "        return base*base\n",
    "    if(a['reoffended_in_year_2']==True):\n",
    "        return base\n",
    "    if(a['reoffended_in_year_3']==True):\n",
    "        return 1\n",
    "    return 0"
   ]
  },
  {
   "cell_type": "code",
   "execution_count": 36,
   "id": "2580ed19-e6fe-414c-bdd1-4149c928ca5a",
   "metadata": {},
   "outputs": [],
   "source": [
    "df_early[\"early_reoffense_score\"]=df_early[recidivism_features].apply(early_reoffender_score,axis=1)"
   ]
  },
  {
   "cell_type": "code",
   "execution_count": 37,
   "id": "960987af-03cd-46f6-8347-957008b6f337",
   "metadata": {},
   "outputs": [],
   "source": [
    "class InsertEarlyReoffence(BaseEstimator, TransformerMixin):\n",
    "\n",
    "    def __init__(self, insert=True):\n",
    "        self.insert = insert\n",
    "        \n",
    "    def fit(self, X, y=None):\n",
    "        return self\n",
    "    \n",
    "    def transform(self, X, y=None):\n",
    "        if self.insert:\n",
    "            X[\"early_reoffense_score\"] = X[recidivism_features].apply(early_reoffender_score,axis=1)\n",
    "    \n",
    "            X = X.replace( [ np.inf, -np.inf ], np.nan )\n",
    "        return X"
   ]
  },
  {
   "cell_type": "code",
   "execution_count": 38,
   "id": "d31a2ac2-c886-4d46-8dc4-c13ff488e7e2",
   "metadata": {},
   "outputs": [],
   "source": [
    "preprocessor = ColumnTransformer([\n",
    "    (\"numeric\",Pipeline([\n",
    "        (\"scaler\",StandardScaler())\n",
    "    ]),\n",
    "     numeric_features),\n",
    "    ('nominal', Pipeline([\n",
    "        (\"imputer\", SimpleImputer(missing_values=np.nan, strategy=\"most_frequent\")),\n",
    "        (\"binarizer\",OneHotEncoder(handle_unknown=\"ignore\"))\n",
    "    ]),\n",
    "    nominal_features)\n",
    "    ],\n",
    "    remainder='passthrough'\n",
    ")"
   ]
  },
  {
   "cell_type": "code",
   "execution_count": 39,
   "id": "b3466c9f-db97-4d50-875d-3ab37f2d62a4",
   "metadata": {},
   "outputs": [],
   "source": [
    "dev_df_early, test_df_early = train_test_split(df_early,train_size=0.8,  random_state=2)\n",
    "\n",
    "dev_X_early = dev_df_early[predictive_features]\n",
    "test_X_early = test_df_early[predictive_features]\n",
    "\n",
    "dev_y_early = dev_df_early[\"early_reoffense_score\"].values\n",
    "test_y_early = test_df_early[\"early_reoffense_score\"].values"
   ]
  },
  {
   "cell_type": "code",
   "execution_count": 40,
   "id": "41440138-30a8-4c29-88a1-810bfc1c3dae",
   "metadata": {},
   "outputs": [
    {
     "data": {
      "text/plain": [
       "({'predictor__n_neighbors': 18}, -27.223765432098766)"
      ]
     },
     "execution_count": 40,
     "metadata": {},
     "output_type": "execute_result"
    }
   ],
   "source": [
    "knn_early = Pipeline([\n",
    "    (\"preprocessor\", preprocessor),\n",
    "    (\"predictor\", KNeighborsRegressor())])\n",
    "\n",
    "# Create a dictionary of hyperparameters for kNN\n",
    "knn_param_grid_early = {\"predictor__n_neighbors\": range(10,20)}\n",
    "\n",
    "# Create the grid search object which will find the best hyperparameter values based on validation error\n",
    "knn_gs_early = GridSearchCV(knn, knn_param_grid, scoring=\"neg_mean_absolute_error\", cv=ss, refit=True)\n",
    "\n",
    "# Run grid search by calling fit. It will also re-train on train+validation using the best parameters.\n",
    "knn_gs_early.fit(dev_X_early, dev_y_early)\n",
    "\n",
    "# Let's see how well we did\n",
    "knn_gs_early.best_params_, knn_gs_early.best_score_"
   ]
  },
  {
   "cell_type": "code",
   "execution_count": 41,
   "id": "c781fe8b-c16f-4721-8b14-a89a58b24c81",
   "metadata": {},
   "outputs": [
    {
     "data": {
      "text/plain": [
       "-31.103553689876094"
      ]
     },
     "execution_count": 41,
     "metadata": {},
     "output_type": "execute_result"
    }
   ],
   "source": [
    "linear_model_early = Pipeline([\n",
    "    (\"preprocessor\", preprocessor),\n",
    "    (\"predictor\", LinearRegression())\n",
    "])\n",
    "\n",
    "linear_model_early.fit(dev_X_early, dev_y_early)\n",
    "\n",
    "np.mean(cross_val_score(linear_model_early, dev_X_early, dev_y_early, scoring=\"neg_mean_absolute_error\", cv=ss))"
   ]
  },
  {
   "cell_type": "markdown",
   "id": "ac6956bf-899d-454c-82e5-77d64854950b",
   "metadata": {},
   "source": [
    "#### Looking at the scores above I realized that we are not too accurate\n",
    "\n",
    "#### We could display our betas to see what features are the most important. This could give the government an idea to see what programmes to focus on in order to prevent recidivism."
   ]
  },
  {
   "cell_type": "markdown",
   "id": "63254ccd-6a49-4b7a-9d80-054eaa63cd62",
   "metadata": {},
   "source": [
    "### End testing"
   ]
  },
  {
   "cell_type": "code",
   "execution_count": 42,
   "id": "f50ff6da-974e-4461-a420-71bc5c10525b",
   "metadata": {},
   "outputs": [
    {
     "data": {
      "text/plain": [
       "0.674074074074074"
      ]
     },
     "execution_count": 42,
     "metadata": {},
     "output_type": "execute_result"
    }
   ],
   "source": [
    "accuracy_score(test_y, knn_gs.predict(test_df))"
   ]
  },
  {
   "cell_type": "code",
   "execution_count": 43,
   "id": "f789e336-b08f-4c2b-83bc-884087523d64",
   "metadata": {},
   "outputs": [
    {
     "data": {
      "text/plain": [
       "0.5342592592592592"
      ]
     },
     "execution_count": 43,
     "metadata": {},
     "output_type": "execute_result"
    }
   ],
   "source": [
    "accuracy_score(test_y_smp, knn_gs_smp.predict(test_df_smp))"
   ]
  },
  {
   "cell_type": "code",
   "execution_count": 44,
   "id": "4094e64b-36c9-4e4c-8f69-fb574883c1ed",
   "metadata": {},
   "outputs": [
    {
     "data": {
      "text/plain": [
       "0.7290123456790123"
      ]
     },
     "execution_count": 44,
     "metadata": {},
     "output_type": "execute_result"
    }
   ],
   "source": [
    "accuracy_score(test_y, logistic.predict(test_df))"
   ]
  },
  {
   "cell_type": "code",
   "execution_count": 45,
   "id": "bc083a91-85ab-41a2-ae46-aed9d4406c9f",
   "metadata": {},
   "outputs": [
    {
     "data": {
      "text/plain": [
       "0.5793209876543209"
      ]
     },
     "execution_count": 45,
     "metadata": {},
     "output_type": "execute_result"
    }
   ],
   "source": [
    "accuracy_score(test_y_smp, logistic_smp.predict(test_df_smp))"
   ]
  },
  {
   "cell_type": "code",
   "execution_count": 46,
   "id": "32c6a12a-df41-4abd-aac9-af49a8ee442e",
   "metadata": {},
   "outputs": [
    {
     "data": {
      "text/plain": [
       "27.665123456790123"
      ]
     },
     "execution_count": 46,
     "metadata": {},
     "output_type": "execute_result"
    }
   ],
   "source": [
    "mean_absolute_error(test_y_early, knn_gs_early.predict(test_X_early))"
   ]
  },
  {
   "cell_type": "code",
   "execution_count": 47,
   "id": "d2bddb50-7ab0-4637-bf71-27a5af206df1",
   "metadata": {},
   "outputs": [
    {
     "data": {
      "text/plain": [
       "31.60222756270913"
      ]
     },
     "execution_count": 47,
     "metadata": {},
     "output_type": "execute_result"
    }
   ],
   "source": [
    "mean_absolute_error(test_y_early, linear_model_early.predict(test_X_early))"
   ]
  },
  {
   "cell_type": "markdown",
   "id": "9120f987-c983-4b82-bb5d-0a90dcd30f2b",
   "metadata": {},
   "source": [
    "#### Here we don't have anything unusual, we can pick our most accurate model and send it to the governmeent, then hope they don't use it."
   ]
  },
  {
   "cell_type": "markdown",
   "id": "1252532e-f8f9-4f4b-aa27-c90972d4334e",
   "metadata": {},
   "source": [
    "### References"
   ]
  },
  {
   "cell_type": "markdown",
   "id": "07eb71ed-f411-4eea-8399-f521fbc12ef2",
   "metadata": {},
   "source": [
    "https://mode.com/python-tutorial/counting-and-plotting-in-python/\n",
    "https://stackoverflow.com/questions/55974754/inverse-label-encoding-for-plotting-purposes\n",
    "https://www.geeksforgeeks.org/reverting-from-multiindex-to-single-index-dataframe-in-pandas/\n",
    "https://medium.com/@jb.ranchana/easy-way-to-create-stacked-bar-graphs-from-dataframe-19cc97c86fe3\n",
    "https://en.wikipedia.org/wiki/Stratified_sampling\n",
    "https://en.wikipedia.org/wiki/Simpson%27s_paradox\n",
    "https://scikit-learn.org/stable/index.html\n",
    "https://pandas.pydata.org/docs/\n",
    "https://matplotlib.org/stable/"
   ]
  }
 ],
 "metadata": {
  "kernelspec": {
   "display_name": "Python 3 (ipykernel)",
   "language": "python",
   "name": "python3"
  },
  "language_info": {
   "codemirror_mode": {
    "name": "ipython",
    "version": 3
   },
   "file_extension": ".py",
   "mimetype": "text/x-python",
   "name": "python",
   "nbconvert_exporter": "python",
   "pygments_lexer": "ipython3",
   "version": "3.11.5"
  }
 },
 "nbformat": 4,
 "nbformat_minor": 5
}
